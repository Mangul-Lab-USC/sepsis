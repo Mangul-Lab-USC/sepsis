{
 "cells": [
  {
   "cell_type": "code",
   "execution_count": 1,
   "metadata": {},
   "outputs": [],
   "source": [
    "import pandas as pd\n",
    "\n",
    "import seaborn as sns\n",
    "import matplotlib.pyplot as plt\n",
    "\n",
    "from sklearn.model_selection import train_test_split\n",
    "from sklearn.linear_model import LogisticRegression\n",
    "from sklearn.metrics import classification_report\n",
    "from sklearn import metrics"
   ]
  },
  {
   "cell_type": "code",
   "execution_count": 71,
   "metadata": {},
   "outputs": [
    {
     "data": {
      "text/html": [
       "<div>\n",
       "<style scoped>\n",
       "    .dataframe tbody tr th:only-of-type {\n",
       "        vertical-align: middle;\n",
       "    }\n",
       "\n",
       "    .dataframe tbody tr th {\n",
       "        vertical-align: top;\n",
       "    }\n",
       "\n",
       "    .dataframe thead th {\n",
       "        text-align: right;\n",
       "    }\n",
       "</style>\n",
       "<table border=\"1\" class=\"dataframe\">\n",
       "  <thead>\n",
       "    <tr style=\"text-align: right;\">\n",
       "      <th></th>\n",
       "      <th>accession</th>\n",
       "      <th>geo</th>\n",
       "      <th>type</th>\n",
       "      <th>Survivor</th>\n",
       "      <th>age</th>\n",
       "      <th>sex</th>\n",
       "      <th>score_type</th>\n",
       "      <th>severity_score</th>\n",
       "      <th>B_cells</th>\n",
       "      <th>B_cells_naive</th>\n",
       "      <th>...</th>\n",
       "      <th>Macrophages</th>\n",
       "      <th>Macrophages_M0</th>\n",
       "      <th>Macrophages_M1</th>\n",
       "      <th>Macrophages_M2</th>\n",
       "      <th>Dendritic_cells_resting</th>\n",
       "      <th>Dendritic_cells_activated</th>\n",
       "      <th>Mast_cells_resting</th>\n",
       "      <th>Mast_cells_activated</th>\n",
       "      <th>Eosinophils</th>\n",
       "      <th>Neutrophils</th>\n",
       "    </tr>\n",
       "  </thead>\n",
       "  <tbody>\n",
       "    <tr>\n",
       "      <th>0</th>\n",
       "      <td>E-MEXP-3567</td>\n",
       "      <td>X104</td>\n",
       "      <td>training</td>\n",
       "      <td>0</td>\n",
       "      <td>0.5</td>\n",
       "      <td>0.0</td>\n",
       "      <td>NaN</td>\n",
       "      <td>NaN</td>\n",
       "      <td>0.13104</td>\n",
       "      <td>0.06322</td>\n",
       "      <td>...</td>\n",
       "      <td>0.10335</td>\n",
       "      <td>0.09282</td>\n",
       "      <td>0.0</td>\n",
       "      <td>0.01053</td>\n",
       "      <td>0.0</td>\n",
       "      <td>0.0</td>\n",
       "      <td>0.0</td>\n",
       "      <td>0.0</td>\n",
       "      <td>0.0</td>\n",
       "      <td>0.31637</td>\n",
       "    </tr>\n",
       "    <tr>\n",
       "      <th>1</th>\n",
       "      <td>E-MEXP-3567</td>\n",
       "      <td>X105</td>\n",
       "      <td>training</td>\n",
       "      <td>0</td>\n",
       "      <td>0.5</td>\n",
       "      <td>0.0</td>\n",
       "      <td>NaN</td>\n",
       "      <td>NaN</td>\n",
       "      <td>0.15410</td>\n",
       "      <td>0.08319</td>\n",
       "      <td>...</td>\n",
       "      <td>0.25630</td>\n",
       "      <td>0.25630</td>\n",
       "      <td>0.0</td>\n",
       "      <td>0.00000</td>\n",
       "      <td>0.0</td>\n",
       "      <td>0.0</td>\n",
       "      <td>0.0</td>\n",
       "      <td>0.0</td>\n",
       "      <td>0.0</td>\n",
       "      <td>0.24822</td>\n",
       "    </tr>\n",
       "    <tr>\n",
       "      <th>2</th>\n",
       "      <td>E-MEXP-3567</td>\n",
       "      <td>X109</td>\n",
       "      <td>training</td>\n",
       "      <td>0</td>\n",
       "      <td>0.5</td>\n",
       "      <td>1.0</td>\n",
       "      <td>NaN</td>\n",
       "      <td>NaN</td>\n",
       "      <td>0.13124</td>\n",
       "      <td>0.08426</td>\n",
       "      <td>...</td>\n",
       "      <td>0.21885</td>\n",
       "      <td>0.21885</td>\n",
       "      <td>0.0</td>\n",
       "      <td>0.00000</td>\n",
       "      <td>0.0</td>\n",
       "      <td>0.0</td>\n",
       "      <td>0.0</td>\n",
       "      <td>0.0</td>\n",
       "      <td>0.0</td>\n",
       "      <td>0.24536</td>\n",
       "    </tr>\n",
       "    <tr>\n",
       "      <th>3</th>\n",
       "      <td>E-MEXP-3567</td>\n",
       "      <td>X115</td>\n",
       "      <td>training</td>\n",
       "      <td>1</td>\n",
       "      <td>0.5</td>\n",
       "      <td>0.0</td>\n",
       "      <td>NaN</td>\n",
       "      <td>NaN</td>\n",
       "      <td>0.15521</td>\n",
       "      <td>0.06117</td>\n",
       "      <td>...</td>\n",
       "      <td>0.11886</td>\n",
       "      <td>0.11886</td>\n",
       "      <td>0.0</td>\n",
       "      <td>0.00000</td>\n",
       "      <td>0.0</td>\n",
       "      <td>0.0</td>\n",
       "      <td>0.0</td>\n",
       "      <td>0.0</td>\n",
       "      <td>0.0</td>\n",
       "      <td>0.32486</td>\n",
       "    </tr>\n",
       "    <tr>\n",
       "      <th>4</th>\n",
       "      <td>E-MEXP-3567</td>\n",
       "      <td>X121</td>\n",
       "      <td>training</td>\n",
       "      <td>1</td>\n",
       "      <td>0.5</td>\n",
       "      <td>1.0</td>\n",
       "      <td>NaN</td>\n",
       "      <td>NaN</td>\n",
       "      <td>0.07203</td>\n",
       "      <td>0.05966</td>\n",
       "      <td>...</td>\n",
       "      <td>0.27913</td>\n",
       "      <td>0.27913</td>\n",
       "      <td>0.0</td>\n",
       "      <td>0.00000</td>\n",
       "      <td>0.0</td>\n",
       "      <td>0.0</td>\n",
       "      <td>0.0</td>\n",
       "      <td>0.0</td>\n",
       "      <td>0.0</td>\n",
       "      <td>0.31262</td>\n",
       "    </tr>\n",
       "  </tbody>\n",
       "</table>\n",
       "<p>5 rows × 35 columns</p>\n",
       "</div>"
      ],
      "text/plain": [
       "     accession   geo      type  Survivor  age  sex score_type  severity_score  \\\n",
       "0  E-MEXP-3567  X104  training         0  0.5  0.0        NaN             NaN   \n",
       "1  E-MEXP-3567  X105  training         0  0.5  0.0        NaN             NaN   \n",
       "2  E-MEXP-3567  X109  training         0  0.5  1.0        NaN             NaN   \n",
       "3  E-MEXP-3567  X115  training         1  0.5  0.0        NaN             NaN   \n",
       "4  E-MEXP-3567  X121  training         1  0.5  1.0        NaN             NaN   \n",
       "\n",
       "   B_cells  B_cells_naive  ...  Macrophages  Macrophages_M0  Macrophages_M1  \\\n",
       "0  0.13104        0.06322  ...      0.10335         0.09282             0.0   \n",
       "1  0.15410        0.08319  ...      0.25630         0.25630             0.0   \n",
       "2  0.13124        0.08426  ...      0.21885         0.21885             0.0   \n",
       "3  0.15521        0.06117  ...      0.11886         0.11886             0.0   \n",
       "4  0.07203        0.05966  ...      0.27913         0.27913             0.0   \n",
       "\n",
       "   Macrophages_M2  Dendritic_cells_resting  Dendritic_cells_activated  \\\n",
       "0         0.01053                      0.0                        0.0   \n",
       "1         0.00000                      0.0                        0.0   \n",
       "2         0.00000                      0.0                        0.0   \n",
       "3         0.00000                      0.0                        0.0   \n",
       "4         0.00000                      0.0                        0.0   \n",
       "\n",
       "   Mast_cells_resting  Mast_cells_activated  Eosinophils  Neutrophils  \n",
       "0                 0.0                   0.0          0.0      0.31637  \n",
       "1                 0.0                   0.0          0.0      0.24822  \n",
       "2                 0.0                   0.0          0.0      0.24536  \n",
       "3                 0.0                   0.0          0.0      0.32486  \n",
       "4                 0.0                   0.0          0.0      0.31262  \n",
       "\n",
       "[5 rows x 35 columns]"
      ]
     },
     "execution_count": 71,
     "metadata": {},
     "output_type": "execute_result"
    }
   ],
   "source": [
    "lm22 = pd.read_csv('../summary_data/cell_types/CombinedLM22.tsv', sep = '\\t')\n",
    "lm22.head()"
   ]
  },
  {
   "cell_type": "code",
   "execution_count": 72,
   "metadata": {},
   "outputs": [],
   "source": [
    "X = lm22[['T_cells', 'Macrophages','B_cells','Plasma_cells','NK_cells','Monocytes','Eosinophils','Neutrophils']]\n",
    "y = lm22['Survivor']"
   ]
  },
  {
   "cell_type": "code",
   "execution_count": 10,
   "metadata": {},
   "outputs": [
    {
     "data": {
      "text/html": [
       "<div>\n",
       "<style scoped>\n",
       "    .dataframe tbody tr th:only-of-type {\n",
       "        vertical-align: middle;\n",
       "    }\n",
       "\n",
       "    .dataframe tbody tr th {\n",
       "        vertical-align: top;\n",
       "    }\n",
       "\n",
       "    .dataframe thead th {\n",
       "        text-align: right;\n",
       "    }\n",
       "</style>\n",
       "<table border=\"1\" class=\"dataframe\">\n",
       "  <thead>\n",
       "    <tr style=\"text-align: right;\">\n",
       "      <th></th>\n",
       "      <th>ID</th>\n",
       "      <th>survivor</th>\n",
       "      <th>DEFA4</th>\n",
       "      <th>CD163</th>\n",
       "      <th>PER1</th>\n",
       "      <th>RGS1</th>\n",
       "      <th>HIF1A</th>\n",
       "      <th>SEPP1</th>\n",
       "      <th>C11orf74</th>\n",
       "      <th>CIT</th>\n",
       "      <th>...</th>\n",
       "      <th>CST3</th>\n",
       "      <th>CBFA2T3</th>\n",
       "      <th>RCBTB2</th>\n",
       "      <th>CX3CR1</th>\n",
       "      <th>CD5</th>\n",
       "      <th>MTMR11</th>\n",
       "      <th>CLEC10A</th>\n",
       "      <th>EMR3</th>\n",
       "      <th>DHRS7B</th>\n",
       "      <th>CEACAM8</th>\n",
       "    </tr>\n",
       "  </thead>\n",
       "  <tbody>\n",
       "    <tr>\n",
       "      <th>0</th>\n",
       "      <td>d25</td>\n",
       "      <td>0</td>\n",
       "      <td>3.440555</td>\n",
       "      <td>113.225523</td>\n",
       "      <td>130.115518</td>\n",
       "      <td>none</td>\n",
       "      <td>20.643327</td>\n",
       "      <td>0.000000</td>\n",
       "      <td>none</td>\n",
       "      <td>none</td>\n",
       "      <td>...</td>\n",
       "      <td>887.037523</td>\n",
       "      <td>65.683314</td>\n",
       "      <td>19.704994</td>\n",
       "      <td>46.291098</td>\n",
       "      <td>16.264440</td>\n",
       "      <td>9.070553</td>\n",
       "      <td>9.696108</td>\n",
       "      <td>67.247203</td>\n",
       "      <td>21.581660</td>\n",
       "      <td>5.004443</td>\n",
       "    </tr>\n",
       "    <tr>\n",
       "      <th>1</th>\n",
       "      <td>d29</td>\n",
       "      <td>0</td>\n",
       "      <td>0.380961</td>\n",
       "      <td>142.670064</td>\n",
       "      <td>8.762113</td>\n",
       "      <td>none</td>\n",
       "      <td>11.809805</td>\n",
       "      <td>0.000000</td>\n",
       "      <td>none</td>\n",
       "      <td>none</td>\n",
       "      <td>...</td>\n",
       "      <td>156.765637</td>\n",
       "      <td>48.191624</td>\n",
       "      <td>21.714803</td>\n",
       "      <td>9.143075</td>\n",
       "      <td>4.381057</td>\n",
       "      <td>4.000095</td>\n",
       "      <td>2.857211</td>\n",
       "      <td>43.239125</td>\n",
       "      <td>21.714803</td>\n",
       "      <td>1.142884</td>\n",
       "    </tr>\n",
       "    <tr>\n",
       "      <th>2</th>\n",
       "      <td>d37</td>\n",
       "      <td>0</td>\n",
       "      <td>5.212292</td>\n",
       "      <td>14.452264</td>\n",
       "      <td>13.978419</td>\n",
       "      <td>none</td>\n",
       "      <td>13.978419</td>\n",
       "      <td>0.000000</td>\n",
       "      <td>none</td>\n",
       "      <td>none</td>\n",
       "      <td>...</td>\n",
       "      <td>638.505759</td>\n",
       "      <td>175.796391</td>\n",
       "      <td>32.932208</td>\n",
       "      <td>97.375090</td>\n",
       "      <td>45.962938</td>\n",
       "      <td>7.581516</td>\n",
       "      <td>1.421534</td>\n",
       "      <td>35.301432</td>\n",
       "      <td>18.479944</td>\n",
       "      <td>2.132301</td>\n",
       "    </tr>\n",
       "    <tr>\n",
       "      <th>3</th>\n",
       "      <td>d38</td>\n",
       "      <td>0</td>\n",
       "      <td>2.883359</td>\n",
       "      <td>430.682828</td>\n",
       "      <td>59.640011</td>\n",
       "      <td>none</td>\n",
       "      <td>30.351151</td>\n",
       "      <td>0.303512</td>\n",
       "      <td>none</td>\n",
       "      <td>none</td>\n",
       "      <td>...</td>\n",
       "      <td>679.258752</td>\n",
       "      <td>21.852828</td>\n",
       "      <td>20.638782</td>\n",
       "      <td>16.844889</td>\n",
       "      <td>2.428092</td>\n",
       "      <td>2.883359</td>\n",
       "      <td>3.035115</td>\n",
       "      <td>38.849473</td>\n",
       "      <td>16.996644</td>\n",
       "      <td>7.436032</td>\n",
       "    </tr>\n",
       "    <tr>\n",
       "      <th>4</th>\n",
       "      <td>d39</td>\n",
       "      <td>0</td>\n",
       "      <td>106.078034</td>\n",
       "      <td>131.707626</td>\n",
       "      <td>41.054810</td>\n",
       "      <td>none</td>\n",
       "      <td>18.984883</td>\n",
       "      <td>0.474622</td>\n",
       "      <td>none</td>\n",
       "      <td>none</td>\n",
       "      <td>...</td>\n",
       "      <td>997.418293</td>\n",
       "      <td>85.431974</td>\n",
       "      <td>37.020522</td>\n",
       "      <td>43.902542</td>\n",
       "      <td>25.154970</td>\n",
       "      <td>25.629592</td>\n",
       "      <td>24.443037</td>\n",
       "      <td>82.346930</td>\n",
       "      <td>38.681699</td>\n",
       "      <td>10.678997</td>\n",
       "    </tr>\n",
       "  </tbody>\n",
       "</table>\n",
       "<p>5 rows × 60 columns</p>\n",
       "</div>"
      ],
      "text/plain": [
       "    ID  survivor       DEFA4       CD163        PER1  RGS1      HIF1A  \\\n",
       "0  d25         0    3.440555  113.225523  130.115518  none  20.643327   \n",
       "1  d29         0    0.380961  142.670064    8.762113  none  11.809805   \n",
       "2  d37         0    5.212292   14.452264   13.978419  none  13.978419   \n",
       "3  d38         0    2.883359  430.682828   59.640011  none  30.351151   \n",
       "4  d39         0  106.078034  131.707626   41.054810  none  18.984883   \n",
       "\n",
       "      SEPP1 C11orf74   CIT  ...        CST3     CBFA2T3     RCBTB2     CX3CR1  \\\n",
       "0  0.000000     none  none  ...  887.037523   65.683314  19.704994  46.291098   \n",
       "1  0.000000     none  none  ...  156.765637   48.191624  21.714803   9.143075   \n",
       "2  0.000000     none  none  ...  638.505759  175.796391  32.932208  97.375090   \n",
       "3  0.303512     none  none  ...  679.258752   21.852828  20.638782  16.844889   \n",
       "4  0.474622     none  none  ...  997.418293   85.431974  37.020522  43.902542   \n",
       "\n",
       "         CD5     MTMR11    CLEC10A       EMR3     DHRS7B    CEACAM8  \n",
       "0  16.264440   9.070553   9.696108  67.247203  21.581660   5.004443  \n",
       "1   4.381057   4.000095   2.857211  43.239125  21.714803   1.142884  \n",
       "2  45.962938   7.581516   1.421534  35.301432  18.479944   2.132301  \n",
       "3   2.428092   2.883359   3.035115  38.849473  16.996644   7.436032  \n",
       "4  25.154970  25.629592  24.443037  82.346930  38.681699  10.678997  \n",
       "\n",
       "[5 rows x 60 columns]"
      ]
     },
     "execution_count": 10,
     "metadata": {},
     "output_type": "execute_result"
    }
   ],
   "source": [
    "gse63042 = pd.read_csv('../summary_data/expression_data/symb_gse63042.tsv', sep = '\\t', encoding=\"ISO-8859-1\")\n",
    "gse63042.head()"
   ]
  },
  {
   "cell_type": "code",
   "execution_count": 11,
   "metadata": {},
   "outputs": [],
   "source": [
    "X = gse63042[['DEFA4','CD163','PER1','HIF1A','SEPP1','CFD','DDIT4','IFI27','IL1R2',\n",
    "                'MAFF','OCLN','B4GALT4','BPI','CD24','CEP55','CTSG',\n",
    "               'G0S2','MPO','MT1G','PAM','PSMA6','TRIB1','CKS2','MKI67','POLD3','PLK1','LY86','TST','KCNJ2','AIM2','APH1A','CCR2','EIF5A',\n",
    "               'GSTM1','HIST1H3H','NT5E','RAB40B','VNN3','ABCB4','CTSS','IKZF2','TGFBI','CST3','CBFA2T3','RCBTB2','CX3CR1','CD5','MTMR11','CLEC10A',\n",
    "                'EMR3','DHRS7B','CEACAM8']]\n",
    "y = gse63042['survivor']"
   ]
  },
  {
   "cell_type": "code",
   "execution_count": 12,
   "metadata": {},
   "outputs": [],
   "source": [
    "X_train,X_test, y_train,y_test = train_test_split(X,y,test_size=0.5,random_state=0)\n"
   ]
  },
  {
   "cell_type": "code",
   "execution_count": 13,
   "metadata": {},
   "outputs": [
    {
     "name": "stderr",
     "output_type": "stream",
     "text": [
      "//anaconda3/lib/python3.7/site-packages/sklearn/linear_model/logistic.py:432: FutureWarning: Default solver will be changed to 'lbfgs' in 0.22. Specify a solver to silence this warning.\n",
      "  FutureWarning)\n"
     ]
    }
   ],
   "source": [
    "logistic_regression= LogisticRegression()\n",
    "logistic_regression.fit(X_train,y_train)\n",
    "\n",
    "y_pred=logistic_regression.predict(X_test)"
   ]
  },
  {
   "cell_type": "code",
   "execution_count": 14,
   "metadata": {},
   "outputs": [
    {
     "name": "stdout",
     "output_type": "stream",
     "text": [
      "              precision    recall  f1-score   support\n",
      "\n",
      "           0       0.75      0.87      0.81        46\n",
      "           1       0.45      0.28      0.34        18\n",
      "\n",
      "    accuracy                           0.70        64\n",
      "   macro avg       0.60      0.57      0.58        64\n",
      "weighted avg       0.67      0.70      0.68        64\n",
      "\n"
     ]
    }
   ],
   "source": [
    "print(classification_report(y_test, y_pred))"
   ]
  },
  {
   "cell_type": "code",
   "execution_count": 15,
   "metadata": {},
   "outputs": [
    {
     "data": {
      "text/plain": [
       "<matplotlib.axes._subplots.AxesSubplot at 0x1a238a0160>"
      ]
     },
     "execution_count": 15,
     "metadata": {},
     "output_type": "execute_result"
    },
    {
     "data": {
      "image/png": "[encoded data removed]",
      "text/plain": [
       "<Figure size 432x288 with 2 Axes>"
      ]
     },
     "metadata": {
      "needs_background": "light"
     },
     "output_type": "display_data"
    }
   ],
   "source": [
    "confusion_matrix = pd.crosstab(y_test, y_pred, rownames=['Actual'], colnames=['Predicted'])\n",
    "sns.heatmap(confusion_matrix, annot=True)"
   ]
  },
  {
   "cell_type": "code",
   "execution_count": 16,
   "metadata": {},
   "outputs": [
    {
     "data": {
      "image/png": "[encoded data removed]",
      "text/plain": [
       "<Figure size 432x288 with 1 Axes>"
      ]
     },
     "metadata": {
      "needs_background": "light"
     },
     "output_type": "display_data"
    }
   ],
   "source": [
    "from sklearn.metrics import roc_auc_score\n",
    "from sklearn.metrics import roc_curve\n",
    "logit_roc_auc = roc_auc_score(y_test, logistic_regression.predict(X_test))\n",
    "fpr, tpr, thresholds = roc_curve(y_test, logistic_regression.predict_proba(X_test)[:,1])\n",
    "plt.figure()\n",
    "plt.plot(fpr, tpr, label='Logistic Regression (area = %0.2f)' % logit_roc_auc)\n",
    "plt.plot([0, 1], [0, 1],'r--')\n",
    "plt.xlim([0.0, 1.0])\n",
    "plt.ylim([0.0, 1.05])\n",
    "plt.xlabel('False Positive Rate')\n",
    "plt.ylabel('True Positive Rate')\n",
    "plt.title('Receiver operating characteristic')\n",
    "plt.legend(loc=\"lower right\")\n",
    "#plt.savefig('Log_ROC')\n",
    "plt.show()"
   ]
  },
  {
   "cell_type": "code",
   "execution_count": 19,
   "metadata": {},
   "outputs": [
    {
     "data": {
      "text/html": [
       "<div>\n",
       "<style scoped>\n",
       "    .dataframe tbody tr th:only-of-type {\n",
       "        vertical-align: middle;\n",
       "    }\n",
       "\n",
       "    .dataframe tbody tr th {\n",
       "        vertical-align: top;\n",
       "    }\n",
       "\n",
       "    .dataframe thead th {\n",
       "        text-align: right;\n",
       "    }\n",
       "</style>\n",
       "<table border=\"1\" class=\"dataframe\">\n",
       "  <thead>\n",
       "    <tr style=\"text-align: right;\">\n",
       "      <th></th>\n",
       "      <th>ID</th>\n",
       "      <th>survivor</th>\n",
       "      <th>DEFA4</th>\n",
       "      <th>CD163</th>\n",
       "      <th>PER1</th>\n",
       "      <th>RGS1</th>\n",
       "      <th>HIF1A</th>\n",
       "      <th>SEPP1</th>\n",
       "      <th>C11orf74</th>\n",
       "      <th>CIT</th>\n",
       "      <th>...</th>\n",
       "      <th>CST3</th>\n",
       "      <th>CBFA2T3</th>\n",
       "      <th>RCBTB2</th>\n",
       "      <th>CX3CR1</th>\n",
       "      <th>CD5</th>\n",
       "      <th>MTMR11</th>\n",
       "      <th>CLEC10A</th>\n",
       "      <th>EMR3</th>\n",
       "      <th>DHRS7B</th>\n",
       "      <th>CEACAM8</th>\n",
       "    </tr>\n",
       "  </thead>\n",
       "  <tbody>\n",
       "    <tr>\n",
       "      <th>0</th>\n",
       "      <td>X104</td>\n",
       "      <td>0</td>\n",
       "      <td>4.224372</td>\n",
       "      <td>7.257031</td>\n",
       "      <td>4.547272</td>\n",
       "      <td>1.521859</td>\n",
       "      <td>6.854448</td>\n",
       "      <td>none</td>\n",
       "      <td>none</td>\n",
       "      <td>3.596326</td>\n",
       "      <td>...</td>\n",
       "      <td>7.351872</td>\n",
       "      <td>4.121609</td>\n",
       "      <td>3.304737</td>\n",
       "      <td>8.082754</td>\n",
       "      <td>4.900840</td>\n",
       "      <td>4.555851</td>\n",
       "      <td>3.188170</td>\n",
       "      <td>none</td>\n",
       "      <td>4.266636</td>\n",
       "      <td>3.231226</td>\n",
       "    </tr>\n",
       "    <tr>\n",
       "      <th>1</th>\n",
       "      <td>X105</td>\n",
       "      <td>0</td>\n",
       "      <td>4.696792</td>\n",
       "      <td>6.180262</td>\n",
       "      <td>4.341699</td>\n",
       "      <td>1.306699</td>\n",
       "      <td>7.699910</td>\n",
       "      <td>none</td>\n",
       "      <td>none</td>\n",
       "      <td>3.328116</td>\n",
       "      <td>...</td>\n",
       "      <td>7.172721</td>\n",
       "      <td>4.198201</td>\n",
       "      <td>3.511236</td>\n",
       "      <td>6.972769</td>\n",
       "      <td>4.376221</td>\n",
       "      <td>3.148233</td>\n",
       "      <td>2.906964</td>\n",
       "      <td>none</td>\n",
       "      <td>3.971848</td>\n",
       "      <td>6.152539</td>\n",
       "    </tr>\n",
       "    <tr>\n",
       "      <th>2</th>\n",
       "      <td>X109</td>\n",
       "      <td>0</td>\n",
       "      <td>8.121342</td>\n",
       "      <td>5.256019</td>\n",
       "      <td>4.418108</td>\n",
       "      <td>1.587908</td>\n",
       "      <td>6.572749</td>\n",
       "      <td>none</td>\n",
       "      <td>none</td>\n",
       "      <td>3.569161</td>\n",
       "      <td>...</td>\n",
       "      <td>7.027961</td>\n",
       "      <td>4.125534</td>\n",
       "      <td>2.628888</td>\n",
       "      <td>6.957968</td>\n",
       "      <td>4.705877</td>\n",
       "      <td>3.680903</td>\n",
       "      <td>3.567198</td>\n",
       "      <td>none</td>\n",
       "      <td>3.868781</td>\n",
       "      <td>4.093514</td>\n",
       "    </tr>\n",
       "    <tr>\n",
       "      <th>3</th>\n",
       "      <td>X115</td>\n",
       "      <td>1</td>\n",
       "      <td>4.446170</td>\n",
       "      <td>7.003478</td>\n",
       "      <td>4.449394</td>\n",
       "      <td>1.710331</td>\n",
       "      <td>7.243289</td>\n",
       "      <td>none</td>\n",
       "      <td>none</td>\n",
       "      <td>3.840483</td>\n",
       "      <td>...</td>\n",
       "      <td>6.158570</td>\n",
       "      <td>4.016140</td>\n",
       "      <td>3.025721</td>\n",
       "      <td>6.576535</td>\n",
       "      <td>4.774287</td>\n",
       "      <td>3.355072</td>\n",
       "      <td>3.583474</td>\n",
       "      <td>none</td>\n",
       "      <td>3.995332</td>\n",
       "      <td>3.396105</td>\n",
       "    </tr>\n",
       "    <tr>\n",
       "      <th>4</th>\n",
       "      <td>X121</td>\n",
       "      <td>1</td>\n",
       "      <td>6.204941</td>\n",
       "      <td>8.406683</td>\n",
       "      <td>5.008753</td>\n",
       "      <td>1.674414</td>\n",
       "      <td>6.765696</td>\n",
       "      <td>none</td>\n",
       "      <td>none</td>\n",
       "      <td>3.588359</td>\n",
       "      <td>...</td>\n",
       "      <td>7.392475</td>\n",
       "      <td>3.948515</td>\n",
       "      <td>2.156668</td>\n",
       "      <td>5.695481</td>\n",
       "      <td>4.774287</td>\n",
       "      <td>3.940419</td>\n",
       "      <td>3.336004</td>\n",
       "      <td>none</td>\n",
       "      <td>4.234894</td>\n",
       "      <td>4.817801</td>\n",
       "    </tr>\n",
       "  </tbody>\n",
       "</table>\n",
       "<p>5 rows × 60 columns</p>\n",
       "</div>"
      ],
      "text/plain": [
       "     ID  survivor     DEFA4     CD163      PER1      RGS1     HIF1A SEPP1  \\\n",
       "0  X104         0  4.224372  7.257031  4.547272  1.521859  6.854448  none   \n",
       "1  X105         0  4.696792  6.180262  4.341699  1.306699  7.699910  none   \n",
       "2  X109         0  8.121342  5.256019  4.418108  1.587908  6.572749  none   \n",
       "3  X115         1  4.446170  7.003478  4.449394  1.710331  7.243289  none   \n",
       "4  X121         1  6.204941  8.406683  5.008753  1.674414  6.765696  none   \n",
       "\n",
       "  C11orf74       CIT  ...      CST3   CBFA2T3    RCBTB2    CX3CR1       CD5  \\\n",
       "0     none  3.596326  ...  7.351872  4.121609  3.304737  8.082754  4.900840   \n",
       "1     none  3.328116  ...  7.172721  4.198201  3.511236  6.972769  4.376221   \n",
       "2     none  3.569161  ...  7.027961  4.125534  2.628888  6.957968  4.705877   \n",
       "3     none  3.840483  ...  6.158570  4.016140  3.025721  6.576535  4.774287   \n",
       "4     none  3.588359  ...  7.392475  3.948515  2.156668  5.695481  4.774287   \n",
       "\n",
       "     MTMR11   CLEC10A  EMR3    DHRS7B   CEACAM8  \n",
       "0  4.555851  3.188170  none  4.266636  3.231226  \n",
       "1  3.148233  2.906964  none  3.971848  6.152539  \n",
       "2  3.680903  3.567198  none  3.868781  4.093514  \n",
       "3  3.355072  3.583474  none  3.995332  3.396105  \n",
       "4  3.940419  3.336004  none  4.234894  4.817801  \n",
       "\n",
       "[5 rows x 60 columns]"
      ]
     },
     "execution_count": 19,
     "metadata": {},
     "output_type": "execute_result"
    }
   ],
   "source": [
    "EMEXP3567 = pd.read_csv('../summary_data/expression_data/symb_EMEXP3567.tsv', sep = '\\t', encoding=\"ISO-8859-1\")\n",
    "EMEXP3567.head()"
   ]
  },
  {
   "cell_type": "code",
   "execution_count": 20,
   "metadata": {},
   "outputs": [],
   "source": [
    "A = EMEXP3567[['DEFA4','CD163','PER1','RGS1','HIF1A','CIT','CFD','DDIT4','IFI27','IL1R2',\n",
    "                'MAFF','B4GALT4','BPI','CD24','CEP55','CTSG',\n",
    "               'G0S2','MPO','MT1G','PAM','PSMA6','TRIB1','CKS2','MKI67','POLD3','PLK1',\n",
    "               'LY86','TST','KCNJ2','AIM2','APH1A','CCR2','EIF5A',\n",
    "               'NT5E','RAB40B','VNN3','ABCB4','CTSS','IKZF2','TGFBI',\n",
    "               'CST3','CBFA2T3','RCBTB2','CX3CR1','CD5','MTMR11','CLEC10A',\n",
    "               'DHRS7B','CEACAM8']]\n",
    "b = EMEXP3567['survivor']"
   ]
  },
  {
   "cell_type": "code",
   "execution_count": 21,
   "metadata": {},
   "outputs": [],
   "source": [
    "A_train,A_test, b_train,b_test = train_test_split(A,b,test_size=0.5,random_state=0)"
   ]
  },
  {
   "cell_type": "code",
   "execution_count": 22,
   "metadata": {},
   "outputs": [
    {
     "name": "stderr",
     "output_type": "stream",
     "text": [
      "//anaconda3/lib/python3.7/site-packages/sklearn/linear_model/logistic.py:432: FutureWarning: Default solver will be changed to 'lbfgs' in 0.22. Specify a solver to silence this warning.\n",
      "  FutureWarning)\n"
     ]
    }
   ],
   "source": [
    "logistic_regression= LogisticRegression()\n",
    "logistic_regression.fit(A_train,b_train)\n",
    "\n",
    "b_pred=logistic_regression.predict(A_test)"
   ]
  },
  {
   "cell_type": "code",
   "execution_count": 23,
   "metadata": {},
   "outputs": [
    {
     "name": "stdout",
     "output_type": "stream",
     "text": [
      "              precision    recall  f1-score   support\n",
      "\n",
      "           0       1.00      1.00      1.00         3\n",
      "           1       1.00      1.00      1.00         3\n",
      "\n",
      "    accuracy                           1.00         6\n",
      "   macro avg       1.00      1.00      1.00         6\n",
      "weighted avg       1.00      1.00      1.00         6\n",
      "\n"
     ]
    }
   ],
   "source": [
    "print(classification_report(b_test, b_pred))"
   ]
  },
  {
   "cell_type": "code",
   "execution_count": 24,
   "metadata": {},
   "outputs": [
    {
     "data": {
      "text/plain": [
       "<matplotlib.axes._subplots.AxesSubplot at 0x1a23d29198>"
      ]
     },
     "execution_count": 24,
     "metadata": {},
     "output_type": "execute_result"
    },
    {
     "data": {
      "image/png": "[encoded data removed]",
      "text/plain": [
       "<Figure size 432x288 with 2 Axes>"
      ]
     },
     "metadata": {
      "needs_background": "light"
     },
     "output_type": "display_data"
    }
   ],
   "source": [
    "confusion_matrix = pd.crosstab(b_test, b_pred, rownames=['Actual'], colnames=['Predicted'])\n",
    "sns.heatmap(confusion_matrix, annot=True)"
   ]
  },
  {
   "cell_type": "code",
   "execution_count": 25,
   "metadata": {},
   "outputs": [
    {
     "data": {
      "image/png": "[encoded data removed]",
      "text/plain": [
       "<Figure size 432x288 with 1 Axes>"
      ]
     },
     "metadata": {
      "needs_background": "light"
     },
     "output_type": "display_data"
    }
   ],
   "source": [
    "logit_roc_auc = roc_auc_score(b_test, logistic_regression.predict(A_test))\n",
    "fpr, tpr, thresholds = roc_curve(b_test, logistic_regression.predict_proba(A_test)[:,1])\n",
    "plt.figure()\n",
    "plt.plot(fpr, tpr, label='Logistic Regression (area = %0.2f)' % logit_roc_auc)\n",
    "plt.plot([0, 1], [0, 1],'r--')\n",
    "plt.xlim([0.0, 1.0])\n",
    "plt.ylim([0.0, 1.05])\n",
    "plt.xlabel('False Positive Rate')\n",
    "plt.ylabel('True Positive Rate')\n",
    "plt.title('Receiver operating characteristic')\n",
    "plt.legend(loc=\"lower right\")\n",
    "#plt.savefig('Log_ROC')\n",
    "plt.show()"
   ]
  },
  {
   "cell_type": "code",
   "execution_count": 28,
   "metadata": {},
   "outputs": [
    {
     "data": {
      "text/html": [
       "<div>\n",
       "<style scoped>\n",
       "    .dataframe tbody tr th:only-of-type {\n",
       "        vertical-align: middle;\n",
       "    }\n",
       "\n",
       "    .dataframe tbody tr th {\n",
       "        vertical-align: top;\n",
       "    }\n",
       "\n",
       "    .dataframe thead th {\n",
       "        text-align: right;\n",
       "    }\n",
       "</style>\n",
       "<table border=\"1\" class=\"dataframe\">\n",
       "  <thead>\n",
       "    <tr style=\"text-align: right;\">\n",
       "      <th></th>\n",
       "      <th>ID</th>\n",
       "      <th>survivor</th>\n",
       "      <th>DEFA4</th>\n",
       "      <th>CD163</th>\n",
       "      <th>PER1</th>\n",
       "      <th>RGS1</th>\n",
       "      <th>HIF1A</th>\n",
       "      <th>SEPP1</th>\n",
       "      <th>C11orf74</th>\n",
       "      <th>CIT</th>\n",
       "      <th>...</th>\n",
       "      <th>CST3</th>\n",
       "      <th>CBFA2T3</th>\n",
       "      <th>RCBTB2</th>\n",
       "      <th>CX3CR1</th>\n",
       "      <th>CD5</th>\n",
       "      <th>MTMR11</th>\n",
       "      <th>CLEC10A</th>\n",
       "      <th>EMR3</th>\n",
       "      <th>DHRS7B</th>\n",
       "      <th>CEACAM8</th>\n",
       "    </tr>\n",
       "  </thead>\n",
       "  <tbody>\n",
       "    <tr>\n",
       "      <th>0</th>\n",
       "      <td>6235821067_J</td>\n",
       "      <td>0</td>\n",
       "      <td>10.123246</td>\n",
       "      <td>9.545485</td>\n",
       "      <td>3.067881</td>\n",
       "      <td>4.610776</td>\n",
       "      <td>6.042191</td>\n",
       "      <td>none</td>\n",
       "      <td>6.026362</td>\n",
       "      <td>none</td>\n",
       "      <td>...</td>\n",
       "      <td>13.201424</td>\n",
       "      <td>6.308092</td>\n",
       "      <td>9.502899</td>\n",
       "      <td>10.877067</td>\n",
       "      <td>6.566559</td>\n",
       "      <td>5.175959</td>\n",
       "      <td>4.679194</td>\n",
       "      <td>9.794286</td>\n",
       "      <td>7.280854</td>\n",
       "      <td>8.878061</td>\n",
       "    </tr>\n",
       "    <tr>\n",
       "      <th>1</th>\n",
       "      <td>6235821079_I</td>\n",
       "      <td>0</td>\n",
       "      <td>7.627344</td>\n",
       "      <td>9.287743</td>\n",
       "      <td>3.852400</td>\n",
       "      <td>4.806964</td>\n",
       "      <td>6.062683</td>\n",
       "      <td>none</td>\n",
       "      <td>5.234981</td>\n",
       "      <td>none</td>\n",
       "      <td>...</td>\n",
       "      <td>12.376462</td>\n",
       "      <td>5.702663</td>\n",
       "      <td>9.288477</td>\n",
       "      <td>10.734254</td>\n",
       "      <td>6.267389</td>\n",
       "      <td>6.039288</td>\n",
       "      <td>4.765741</td>\n",
       "      <td>10.340234</td>\n",
       "      <td>7.445163</td>\n",
       "      <td>5.527057</td>\n",
       "    </tr>\n",
       "    <tr>\n",
       "      <th>2</th>\n",
       "      <td>6235821083_C</td>\n",
       "      <td>1</td>\n",
       "      <td>11.285419</td>\n",
       "      <td>11.673024</td>\n",
       "      <td>2.541070</td>\n",
       "      <td>4.547853</td>\n",
       "      <td>6.859142</td>\n",
       "      <td>none</td>\n",
       "      <td>3.807590</td>\n",
       "      <td>none</td>\n",
       "      <td>...</td>\n",
       "      <td>11.345403</td>\n",
       "      <td>4.789559</td>\n",
       "      <td>9.519918</td>\n",
       "      <td>8.685942</td>\n",
       "      <td>3.712639</td>\n",
       "      <td>5.376552</td>\n",
       "      <td>4.716212</td>\n",
       "      <td>8.133295</td>\n",
       "      <td>7.393958</td>\n",
       "      <td>9.119928</td>\n",
       "    </tr>\n",
       "    <tr>\n",
       "      <th>3</th>\n",
       "      <td>6235821083_K</td>\n",
       "      <td>0</td>\n",
       "      <td>9.181854</td>\n",
       "      <td>11.897142</td>\n",
       "      <td>2.517598</td>\n",
       "      <td>4.698197</td>\n",
       "      <td>7.821357</td>\n",
       "      <td>none</td>\n",
       "      <td>5.179039</td>\n",
       "      <td>none</td>\n",
       "      <td>...</td>\n",
       "      <td>10.956098</td>\n",
       "      <td>5.119246</td>\n",
       "      <td>9.370476</td>\n",
       "      <td>5.615600</td>\n",
       "      <td>2.216713</td>\n",
       "      <td>5.360834</td>\n",
       "      <td>5.154358</td>\n",
       "      <td>3.345621</td>\n",
       "      <td>7.144125</td>\n",
       "      <td>8.127687</td>\n",
       "    </tr>\n",
       "    <tr>\n",
       "      <th>4</th>\n",
       "      <td>6235821084_G</td>\n",
       "      <td>1</td>\n",
       "      <td>12.834057</td>\n",
       "      <td>10.719649</td>\n",
       "      <td>2.844894</td>\n",
       "      <td>3.665191</td>\n",
       "      <td>7.176142</td>\n",
       "      <td>none</td>\n",
       "      <td>7.160414</td>\n",
       "      <td>none</td>\n",
       "      <td>...</td>\n",
       "      <td>12.247763</td>\n",
       "      <td>4.938643</td>\n",
       "      <td>10.045109</td>\n",
       "      <td>10.216539</td>\n",
       "      <td>2.922932</td>\n",
       "      <td>4.422020</td>\n",
       "      <td>4.862238</td>\n",
       "      <td>5.981004</td>\n",
       "      <td>7.954365</td>\n",
       "      <td>10.651834</td>\n",
       "    </tr>\n",
       "  </tbody>\n",
       "</table>\n",
       "<p>5 rows × 60 columns</p>\n",
       "</div>"
      ],
      "text/plain": [
       "             ID  survivor      DEFA4      CD163      PER1      RGS1     HIF1A  \\\n",
       "0  6235821067_J         0  10.123246   9.545485  3.067881  4.610776  6.042191   \n",
       "1  6235821079_I         0   7.627344   9.287743  3.852400  4.806964  6.062683   \n",
       "2  6235821083_C         1  11.285419  11.673024  2.541070  4.547853  6.859142   \n",
       "3  6235821083_K         0   9.181854  11.897142  2.517598  4.698197  7.821357   \n",
       "4  6235821084_G         1  12.834057  10.719649  2.844894  3.665191  7.176142   \n",
       "\n",
       "  SEPP1  C11orf74   CIT  ...       CST3   CBFA2T3     RCBTB2     CX3CR1  \\\n",
       "0  none  6.026362  none  ...  13.201424  6.308092   9.502899  10.877067   \n",
       "1  none  5.234981  none  ...  12.376462  5.702663   9.288477  10.734254   \n",
       "2  none  3.807590  none  ...  11.345403  4.789559   9.519918   8.685942   \n",
       "3  none  5.179039  none  ...  10.956098  5.119246   9.370476   5.615600   \n",
       "4  none  7.160414  none  ...  12.247763  4.938643  10.045109  10.216539   \n",
       "\n",
       "        CD5    MTMR11   CLEC10A       EMR3    DHRS7B    CEACAM8  \n",
       "0  6.566559  5.175959  4.679194   9.794286  7.280854   8.878061  \n",
       "1  6.267389  6.039288  4.765741  10.340234  7.445163   5.527057  \n",
       "2  3.712639  5.376552  4.716212   8.133295  7.393958   9.119928  \n",
       "3  2.216713  5.360834  5.154358   3.345621  7.144125   8.127687  \n",
       "4  2.922932  4.422020  4.862238   5.981004  7.954365  10.651834  \n",
       "\n",
       "[5 rows x 60 columns]"
      ]
     },
     "execution_count": 28,
     "metadata": {},
     "output_type": "execute_result"
    }
   ],
   "source": [
    "EMTAB4421 = pd.read_csv('../summary_data/expression_data/symb_EMTAB4421.tsv', sep = '\\t', encoding=\"ISO-8859-1\")\n",
    "EMTAB4421.head()"
   ]
  },
  {
   "cell_type": "code",
   "execution_count": 29,
   "metadata": {},
   "outputs": [],
   "source": [
    "X = EMTAB4421[['DEFA4','CD163','PER1','RGS1','HIF1A','C11orf74','CFD','DDIT4','IFI27','IL1R2',\n",
    "                'IL8','MAFF','B4GALT4','BPI','CD24','CEP55','CTSG',\n",
    "               'G0S2','MPO','MT1G','NDUFV2','PAM','PSMA6','TRIB1','CKS2','POLD3',\n",
    "               'LY86','TST','KCNJ2','AIM2','APH1A','CCR2','EIF5A',\n",
    "               'GSTM1','HIST1H3H','RAB40B','VNN3','ABCB4','CTSS','IKZF2','TGFBI',\n",
    "               'CST3','CBFA2T3','RCBTB2','CX3CR1','CD5','MTMR11','CLEC10A',\n",
    "               'EMR3','DHRS7B','CEACAM8']]\n",
    "y = EMTAB4421['survivor']"
   ]
  },
  {
   "cell_type": "code",
   "execution_count": 30,
   "metadata": {},
   "outputs": [],
   "source": [
    "X_train,X_test, y_train,y_test = train_test_split(X,y,test_size=0.5,random_state=0)"
   ]
  },
  {
   "cell_type": "code",
   "execution_count": 31,
   "metadata": {},
   "outputs": [
    {
     "name": "stderr",
     "output_type": "stream",
     "text": [
      "//anaconda3/lib/python3.7/site-packages/sklearn/linear_model/logistic.py:432: FutureWarning: Default solver will be changed to 'lbfgs' in 0.22. Specify a solver to silence this warning.\n",
      "  FutureWarning)\n"
     ]
    }
   ],
   "source": [
    "logistic_regression= LogisticRegression()\n",
    "logistic_regression.fit(X_train,y_train)\n",
    "\n",
    "y_pred=logistic_regression.predict(X_test)"
   ]
  },
  {
   "cell_type": "code",
   "execution_count": 33,
   "metadata": {},
   "outputs": [
    {
     "name": "stdout",
     "output_type": "stream",
     "text": [
      "              precision    recall  f1-score   support\n",
      "\n",
      "           0       0.50      1.00      0.67         5\n",
      "           1       0.00      0.00      0.00         5\n",
      "\n",
      "    accuracy                           0.50        10\n",
      "   macro avg       0.25      0.50      0.33        10\n",
      "weighted avg       0.25      0.50      0.33        10\n",
      "\n"
     ]
    }
   ],
   "source": [
    "print(classification_report(y_test, y_pred))"
   ]
  },
  {
   "cell_type": "code",
   "execution_count": 37,
   "metadata": {},
   "outputs": [
    {
     "data": {
      "text/plain": [
       "<matplotlib.axes._subplots.AxesSubplot at 0x1a2361c400>"
      ]
     },
     "execution_count": 37,
     "metadata": {},
     "output_type": "execute_result"
    },
    {
     "data": {
      "image/png": "[encoded data removed]",
      "text/plain": [
       "<Figure size 432x288 with 2 Axes>"
      ]
     },
     "metadata": {
      "needs_background": "light"
     },
     "output_type": "display_data"
    }
   ],
   "source": [
    "confusion_matrix = pd.crosstab(y_test, y_pred, rownames=['Actual'], colnames=['Predicted'])\n",
    "sns.heatmap(confusion_matrix, annot=True)"
   ]
  },
  {
   "cell_type": "code",
   "execution_count": 38,
   "metadata": {},
   "outputs": [
    {
     "data": {
      "image/png": "[encoded data removed]",
      "text/plain": [
       "<Figure size 432x288 with 1 Axes>"
      ]
     },
     "metadata": {
      "needs_background": "light"
     },
     "output_type": "display_data"
    }
   ],
   "source": [
    "logit_roc_auc = roc_auc_score(y_test, logistic_regression.predict(X_test))\n",
    "fpr, tpr, thresholds = roc_curve(y_test, logistic_regression.predict_proba(X_test)[:,1])\n",
    "plt.figure()\n",
    "plt.plot(fpr, tpr, label='Logistic Regression (area = %0.2f)' % logit_roc_auc)\n",
    "plt.plot([0, 1], [0, 1],'r--')\n",
    "plt.xlim([0.0, 1.0])\n",
    "plt.ylim([0.0, 1.05])\n",
    "plt.xlabel('False Positive Rate')\n",
    "plt.ylabel('True Positive Rate')\n",
    "plt.title('Receiver operating characteristic')\n",
    "plt.legend(loc=\"lower right\")\n",
    "#plt.savefig('Log_ROC')\n",
    "plt.show()"
   ]
  },
  {
   "cell_type": "code",
   "execution_count": 40,
   "metadata": {},
   "outputs": [
    {
     "data": {
      "text/html": [
       "<div>\n",
       "<style scoped>\n",
       "    .dataframe tbody tr th:only-of-type {\n",
       "        vertical-align: middle;\n",
       "    }\n",
       "\n",
       "    .dataframe tbody tr th {\n",
       "        vertical-align: top;\n",
       "    }\n",
       "\n",
       "    .dataframe thead th {\n",
       "        text-align: right;\n",
       "    }\n",
       "</style>\n",
       "<table border=\"1\" class=\"dataframe\">\n",
       "  <thead>\n",
       "    <tr style=\"text-align: right;\">\n",
       "      <th></th>\n",
       "      <th>ID</th>\n",
       "      <th>survivor</th>\n",
       "      <th>DEFA4</th>\n",
       "      <th>CD163</th>\n",
       "      <th>PER1</th>\n",
       "      <th>RGS1</th>\n",
       "      <th>HIF1A</th>\n",
       "      <th>SEPP1</th>\n",
       "      <th>C11orf74</th>\n",
       "      <th>CIT</th>\n",
       "      <th>...</th>\n",
       "      <th>CST3</th>\n",
       "      <th>CBFA2T3</th>\n",
       "      <th>RCBTB2</th>\n",
       "      <th>CX3CR1</th>\n",
       "      <th>CD5</th>\n",
       "      <th>MTMR11</th>\n",
       "      <th>CLEC10A</th>\n",
       "      <th>EMR3</th>\n",
       "      <th>DHRS7B</th>\n",
       "      <th>CEACAM8</th>\n",
       "    </tr>\n",
       "  </thead>\n",
       "  <tbody>\n",
       "    <tr>\n",
       "      <th>0</th>\n",
       "      <td>GSM264753</td>\n",
       "      <td>0</td>\n",
       "      <td>12.604623</td>\n",
       "      <td>10.579215</td>\n",
       "      <td>8.013437</td>\n",
       "      <td>3.118625</td>\n",
       "      <td>11.742317</td>\n",
       "      <td>none</td>\n",
       "      <td>none</td>\n",
       "      <td>5.095234</td>\n",
       "      <td>...</td>\n",
       "      <td>11.229385</td>\n",
       "      <td>6.884160</td>\n",
       "      <td>10.287113</td>\n",
       "      <td>9.786581</td>\n",
       "      <td>6.222814</td>\n",
       "      <td>6.296982</td>\n",
       "      <td>4.795399</td>\n",
       "      <td>none</td>\n",
       "      <td>8.384489</td>\n",
       "      <td>11.117994</td>\n",
       "    </tr>\n",
       "    <tr>\n",
       "      <th>1</th>\n",
       "      <td>GSM264987</td>\n",
       "      <td>1</td>\n",
       "      <td>10.198401</td>\n",
       "      <td>10.334782</td>\n",
       "      <td>6.952189</td>\n",
       "      <td>2.914476</td>\n",
       "      <td>11.636113</td>\n",
       "      <td>none</td>\n",
       "      <td>none</td>\n",
       "      <td>5.121433</td>\n",
       "      <td>...</td>\n",
       "      <td>10.601428</td>\n",
       "      <td>5.277653</td>\n",
       "      <td>9.631636</td>\n",
       "      <td>8.030165</td>\n",
       "      <td>6.091402</td>\n",
       "      <td>6.564410</td>\n",
       "      <td>5.871494</td>\n",
       "      <td>none</td>\n",
       "      <td>7.786628</td>\n",
       "      <td>6.929762</td>\n",
       "    </tr>\n",
       "    <tr>\n",
       "      <th>2</th>\n",
       "      <td>GSM264988</td>\n",
       "      <td>1</td>\n",
       "      <td>9.424331</td>\n",
       "      <td>10.154976</td>\n",
       "      <td>7.125557</td>\n",
       "      <td>3.314336</td>\n",
       "      <td>11.349411</td>\n",
       "      <td>none</td>\n",
       "      <td>none</td>\n",
       "      <td>5.323331</td>\n",
       "      <td>...</td>\n",
       "      <td>10.400759</td>\n",
       "      <td>5.750361</td>\n",
       "      <td>10.075861</td>\n",
       "      <td>7.308954</td>\n",
       "      <td>6.186212</td>\n",
       "      <td>5.715589</td>\n",
       "      <td>5.134194</td>\n",
       "      <td>none</td>\n",
       "      <td>7.478407</td>\n",
       "      <td>6.405183</td>\n",
       "    </tr>\n",
       "    <tr>\n",
       "      <th>3</th>\n",
       "      <td>GSM264989</td>\n",
       "      <td>0</td>\n",
       "      <td>13.711147</td>\n",
       "      <td>6.922628</td>\n",
       "      <td>6.684205</td>\n",
       "      <td>3.212133</td>\n",
       "      <td>11.175474</td>\n",
       "      <td>none</td>\n",
       "      <td>none</td>\n",
       "      <td>5.848008</td>\n",
       "      <td>...</td>\n",
       "      <td>9.967929</td>\n",
       "      <td>7.057689</td>\n",
       "      <td>9.605611</td>\n",
       "      <td>9.371622</td>\n",
       "      <td>6.032283</td>\n",
       "      <td>5.012741</td>\n",
       "      <td>5.387865</td>\n",
       "      <td>none</td>\n",
       "      <td>7.194903</td>\n",
       "      <td>12.250989</td>\n",
       "    </tr>\n",
       "    <tr>\n",
       "      <th>4</th>\n",
       "      <td>GSM264990</td>\n",
       "      <td>0</td>\n",
       "      <td>7.398127</td>\n",
       "      <td>11.728565</td>\n",
       "      <td>7.018028</td>\n",
       "      <td>3.292726</td>\n",
       "      <td>12.258108</td>\n",
       "      <td>none</td>\n",
       "      <td>none</td>\n",
       "      <td>5.551844</td>\n",
       "      <td>...</td>\n",
       "      <td>9.771195</td>\n",
       "      <td>6.600498</td>\n",
       "      <td>9.768775</td>\n",
       "      <td>8.337596</td>\n",
       "      <td>5.688514</td>\n",
       "      <td>5.035603</td>\n",
       "      <td>4.988284</td>\n",
       "      <td>none</td>\n",
       "      <td>8.008368</td>\n",
       "      <td>9.926986</td>\n",
       "    </tr>\n",
       "  </tbody>\n",
       "</table>\n",
       "<p>5 rows × 60 columns</p>\n",
       "</div>"
      ],
      "text/plain": [
       "          ID  survivor      DEFA4      CD163      PER1      RGS1      HIF1A  \\\n",
       "0  GSM264753         0  12.604623  10.579215  8.013437  3.118625  11.742317   \n",
       "1  GSM264987         1  10.198401  10.334782  6.952189  2.914476  11.636113   \n",
       "2  GSM264988         1   9.424331  10.154976  7.125557  3.314336  11.349411   \n",
       "3  GSM264989         0  13.711147   6.922628  6.684205  3.212133  11.175474   \n",
       "4  GSM264990         0   7.398127  11.728565  7.018028  3.292726  12.258108   \n",
       "\n",
       "  SEPP1 C11orf74       CIT  ...       CST3   CBFA2T3     RCBTB2    CX3CR1  \\\n",
       "0  none     none  5.095234  ...  11.229385  6.884160  10.287113  9.786581   \n",
       "1  none     none  5.121433  ...  10.601428  5.277653   9.631636  8.030165   \n",
       "2  none     none  5.323331  ...  10.400759  5.750361  10.075861  7.308954   \n",
       "3  none     none  5.848008  ...   9.967929  7.057689   9.605611  9.371622   \n",
       "4  none     none  5.551844  ...   9.771195  6.600498   9.768775  8.337596   \n",
       "\n",
       "        CD5    MTMR11   CLEC10A  EMR3    DHRS7B    CEACAM8  \n",
       "0  6.222814  6.296982  4.795399  none  8.384489  11.117994  \n",
       "1  6.091402  6.564410  5.871494  none  7.786628   6.929762  \n",
       "2  6.186212  5.715589  5.134194  none  7.478407   6.405183  \n",
       "3  6.032283  5.012741  5.387865  none  7.194903  12.250989  \n",
       "4  5.688514  5.035603  4.988284  none  8.008368   9.926986  \n",
       "\n",
       "[5 rows x 60 columns]"
      ]
     },
     "execution_count": 40,
     "metadata": {},
     "output_type": "execute_result"
    }
   ],
   "source": [
    "gse10474 = pd.read_csv('../summary_data/expression_data/symb_gse10474.tsv', sep = '\\t', encoding=\"ISO-8859-1\")\n",
    "gse10474.head()"
   ]
  },
  {
   "cell_type": "code",
   "execution_count": 41,
   "metadata": {},
   "outputs": [],
   "source": [
    "X = gse10474[['DEFA4','CD163','PER1','RGS1','HIF1A','CIT','CFD','DDIT4','IFI27','IL1R2',\n",
    "                'MAFF','B4GALT4','BPI','CD24','CEP55','CTSG',\n",
    "               'G0S2','MPO','MT1G','PAM','PSMA6','TRIB1','CKS2','MKI67','POLD3',\n",
    "               'LY86','TST','KCNJ2','AIM2','APH1A','CCR2','EIF5A',\n",
    "               'NT5E','RAB40B','VNN3','ABCB4','CTSS','IKZF2','TGFBI',\n",
    "               'CST3','CBFA2T3','RCBTB2','CX3CR1','CD5','MTMR11','CLEC10A',\n",
    "               'DHRS7B','CEACAM8']]\n",
    "y = gse10474['survivor']"
   ]
  },
  {
   "cell_type": "code",
   "execution_count": 42,
   "metadata": {},
   "outputs": [],
   "source": [
    "X_train,X_test, y_train,y_test = train_test_split(X,y,test_size=0.5,random_state=0)"
   ]
  },
  {
   "cell_type": "code",
   "execution_count": 43,
   "metadata": {},
   "outputs": [
    {
     "name": "stderr",
     "output_type": "stream",
     "text": [
      "//anaconda3/lib/python3.7/site-packages/sklearn/linear_model/logistic.py:432: FutureWarning: Default solver will be changed to 'lbfgs' in 0.22. Specify a solver to silence this warning.\n",
      "  FutureWarning)\n"
     ]
    }
   ],
   "source": [
    "logistic_regression= LogisticRegression()\n",
    "logistic_regression.fit(X_train,y_train)\n",
    "\n",
    "y_pred=logistic_regression.predict(X_test)"
   ]
  },
  {
   "cell_type": "code",
   "execution_count": 44,
   "metadata": {},
   "outputs": [
    {
     "name": "stdout",
     "output_type": "stream",
     "text": [
      "              precision    recall  f1-score   support\n",
      "\n",
      "           0       0.60      0.82      0.69        11\n",
      "           1       0.00      0.00      0.00         6\n",
      "\n",
      "    accuracy                           0.53        17\n",
      "   macro avg       0.30      0.41      0.35        17\n",
      "weighted avg       0.39      0.53      0.45        17\n",
      "\n"
     ]
    }
   ],
   "source": [
    "print(classification_report(y_test, y_pred))"
   ]
  },
  {
   "cell_type": "code",
   "execution_count": 45,
   "metadata": {},
   "outputs": [
    {
     "data": {
      "text/plain": [
       "<matplotlib.axes._subplots.AxesSubplot at 0x1a2424e668>"
      ]
     },
     "execution_count": 45,
     "metadata": {},
     "output_type": "execute_result"
    },
    {
     "data": {
      "image/png": "[encoded data removed]",
      "text/plain": [
       "<Figure size 432x288 with 2 Axes>"
      ]
     },
     "metadata": {
      "needs_background": "light"
     },
     "output_type": "display_data"
    }
   ],
   "source": [
    "confusion_matrix = pd.crosstab(y_test, y_pred, rownames=['Actual'], colnames=['Predicted'])\n",
    "sns.heatmap(confusion_matrix, annot=True)"
   ]
  },
  {
   "cell_type": "code",
   "execution_count": 46,
   "metadata": {},
   "outputs": [
    {
     "data": {
      "image/png": "[encoded data removed]",
      "text/plain": [
       "<Figure size 432x288 with 1 Axes>"
      ]
     },
     "metadata": {
      "needs_background": "light"
     },
     "output_type": "display_data"
    }
   ],
   "source": [
    "logit_roc_auc = roc_auc_score(y_test, logistic_regression.predict(X_test))\n",
    "fpr, tpr, thresholds = roc_curve(y_test, logistic_regression.predict_proba(X_test)[:,1])\n",
    "plt.figure()\n",
    "plt.plot(fpr, tpr, label='Logistic Regression (area = %0.2f)' % logit_roc_auc)\n",
    "plt.plot([0, 1], [0, 1],'r--')\n",
    "plt.xlim([0.0, 1.0])\n",
    "plt.ylim([0.0, 1.05])\n",
    "plt.xlabel('False Positive Rate')\n",
    "plt.ylabel('True Positive Rate')\n",
    "plt.title('Receiver operating characteristic')\n",
    "plt.legend(loc=\"lower right\")\n",
    "#plt.savefig('Log_ROC')\n",
    "plt.show()"
   ]
  },
  {
   "cell_type": "code",
   "execution_count": 48,
   "metadata": {},
   "outputs": [
    {
     "data": {
      "text/html": [
       "<div>\n",
       "<style scoped>\n",
       "    .dataframe tbody tr th:only-of-type {\n",
       "        vertical-align: middle;\n",
       "    }\n",
       "\n",
       "    .dataframe tbody tr th {\n",
       "        vertical-align: top;\n",
       "    }\n",
       "\n",
       "    .dataframe thead th {\n",
       "        text-align: right;\n",
       "    }\n",
       "</style>\n",
       "<table border=\"1\" class=\"dataframe\">\n",
       "  <thead>\n",
       "    <tr style=\"text-align: right;\">\n",
       "      <th></th>\n",
       "      <th>ID</th>\n",
       "      <th>survivor</th>\n",
       "      <th>DEFA4</th>\n",
       "      <th>CD163</th>\n",
       "      <th>PER1</th>\n",
       "      <th>RGS1</th>\n",
       "      <th>HIF1A</th>\n",
       "      <th>SEPP1</th>\n",
       "      <th>C11orf74</th>\n",
       "      <th>CIT</th>\n",
       "      <th>...</th>\n",
       "      <th>CST3</th>\n",
       "      <th>CBFA2T3</th>\n",
       "      <th>RCBTB2</th>\n",
       "      <th>CX3CR1</th>\n",
       "      <th>CD5</th>\n",
       "      <th>MTMR11</th>\n",
       "      <th>CLEC10A</th>\n",
       "      <th>EMR3</th>\n",
       "      <th>DHRS7B</th>\n",
       "      <th>CEACAM8</th>\n",
       "    </tr>\n",
       "  </thead>\n",
       "  <tbody>\n",
       "    <tr>\n",
       "      <th>0</th>\n",
       "      <td>FCC_Nov.4.09</td>\n",
       "      <td>0</td>\n",
       "      <td>1883.022</td>\n",
       "      <td>262.7168</td>\n",
       "      <td>106.5281</td>\n",
       "      <td>103.2158</td>\n",
       "      <td>228.7931</td>\n",
       "      <td>89.44266</td>\n",
       "      <td>104.23210</td>\n",
       "      <td>167.8620</td>\n",
       "      <td>...</td>\n",
       "      <td>18107.84</td>\n",
       "      <td>968.1348</td>\n",
       "      <td>151.6669</td>\n",
       "      <td>371.5424</td>\n",
       "      <td>687.9445</td>\n",
       "      <td>107.4970</td>\n",
       "      <td>115.6609</td>\n",
       "      <td>404.5415</td>\n",
       "      <td>443.9535</td>\n",
       "      <td>1189.815</td>\n",
       "    </tr>\n",
       "    <tr>\n",
       "      <th>1</th>\n",
       "      <td>HUV_6d1</td>\n",
       "      <td>0</td>\n",
       "      <td>1433.995</td>\n",
       "      <td>760.7023</td>\n",
       "      <td>130.2473</td>\n",
       "      <td>100.2634</td>\n",
       "      <td>417.9232</td>\n",
       "      <td>91.13676</td>\n",
       "      <td>80.79919</td>\n",
       "      <td>155.2618</td>\n",
       "      <td>...</td>\n",
       "      <td>18268.82</td>\n",
       "      <td>1171.0160</td>\n",
       "      <td>183.0371</td>\n",
       "      <td>322.4690</td>\n",
       "      <td>435.2427</td>\n",
       "      <td>122.4363</td>\n",
       "      <td>108.6142</td>\n",
       "      <td>741.6639</td>\n",
       "      <td>436.0368</td>\n",
       "      <td>2596.462</td>\n",
       "    </tr>\n",
       "    <tr>\n",
       "      <th>2</th>\n",
       "      <td>HUV_7d1</td>\n",
       "      <td>0</td>\n",
       "      <td>3907.885</td>\n",
       "      <td>296.5243</td>\n",
       "      <td>113.7011</td>\n",
       "      <td>104.2612</td>\n",
       "      <td>395.8163</td>\n",
       "      <td>91.78140</td>\n",
       "      <td>132.29540</td>\n",
       "      <td>153.1317</td>\n",
       "      <td>...</td>\n",
       "      <td>11732.37</td>\n",
       "      <td>808.9927</td>\n",
       "      <td>225.3787</td>\n",
       "      <td>414.8038</td>\n",
       "      <td>387.3100</td>\n",
       "      <td>113.2279</td>\n",
       "      <td>107.3068</td>\n",
       "      <td>709.0435</td>\n",
       "      <td>425.4512</td>\n",
       "      <td>6037.856</td>\n",
       "    </tr>\n",
       "    <tr>\n",
       "      <th>3</th>\n",
       "      <td>P12_Nov.24.09</td>\n",
       "      <td>1</td>\n",
       "      <td>25414.060</td>\n",
       "      <td>386.1180</td>\n",
       "      <td>190.9653</td>\n",
       "      <td>130.7444</td>\n",
       "      <td>393.7131</td>\n",
       "      <td>136.53080</td>\n",
       "      <td>245.05000</td>\n",
       "      <td>356.0885</td>\n",
       "      <td>...</td>\n",
       "      <td>14471.50</td>\n",
       "      <td>781.9656</td>\n",
       "      <td>388.1040</td>\n",
       "      <td>515.9862</td>\n",
       "      <td>677.8937</td>\n",
       "      <td>168.7760</td>\n",
       "      <td>169.9777</td>\n",
       "      <td>649.9391</td>\n",
       "      <td>564.3397</td>\n",
       "      <td>18955.540</td>\n",
       "    </tr>\n",
       "    <tr>\n",
       "      <th>4</th>\n",
       "      <td>DED_Nov.3.09</td>\n",
       "      <td>1</td>\n",
       "      <td>3098.557</td>\n",
       "      <td>7492.3430</td>\n",
       "      <td>211.7313</td>\n",
       "      <td>156.1802</td>\n",
       "      <td>816.1159</td>\n",
       "      <td>141.12660</td>\n",
       "      <td>182.20760</td>\n",
       "      <td>170.2758</td>\n",
       "      <td>...</td>\n",
       "      <td>17260.77</td>\n",
       "      <td>702.0785</td>\n",
       "      <td>460.8876</td>\n",
       "      <td>333.0838</td>\n",
       "      <td>447.3343</td>\n",
       "      <td>136.3508</td>\n",
       "      <td>157.0275</td>\n",
       "      <td>247.9021</td>\n",
       "      <td>971.9445</td>\n",
       "      <td>1613.885</td>\n",
       "    </tr>\n",
       "  </tbody>\n",
       "</table>\n",
       "<p>5 rows × 60 columns</p>\n",
       "</div>"
      ],
      "text/plain": [
       "              ID  survivor      DEFA4      CD163      PER1      RGS1  \\\n",
       "0   FCC_Nov.4.09         0   1883.022   262.7168  106.5281  103.2158   \n",
       "1        HUV_6d1         0   1433.995   760.7023  130.2473  100.2634   \n",
       "2        HUV_7d1         0   3907.885   296.5243  113.7011  104.2612   \n",
       "3  P12_Nov.24.09         1  25414.060   386.1180  190.9653  130.7444   \n",
       "4   DED_Nov.3.09         1   3098.557  7492.3430  211.7313  156.1802   \n",
       "\n",
       "      HIF1A      SEPP1   C11orf74       CIT  ...      CST3    CBFA2T3  \\\n",
       "0  228.7931   89.44266  104.23210  167.8620  ...  18107.84   968.1348   \n",
       "1  417.9232   91.13676   80.79919  155.2618  ...  18268.82  1171.0160   \n",
       "2  395.8163   91.78140  132.29540  153.1317  ...  11732.37   808.9927   \n",
       "3  393.7131  136.53080  245.05000  356.0885  ...  14471.50   781.9656   \n",
       "4  816.1159  141.12660  182.20760  170.2758  ...  17260.77   702.0785   \n",
       "\n",
       "     RCBTB2    CX3CR1       CD5    MTMR11   CLEC10A      EMR3    DHRS7B  \\\n",
       "0  151.6669  371.5424  687.9445  107.4970  115.6609  404.5415  443.9535   \n",
       "1  183.0371  322.4690  435.2427  122.4363  108.6142  741.6639  436.0368   \n",
       "2  225.3787  414.8038  387.3100  113.2279  107.3068  709.0435  425.4512   \n",
       "3  388.1040  515.9862  677.8937  168.7760  169.9777  649.9391  564.3397   \n",
       "4  460.8876  333.0838  447.3343  136.3508  157.0275  247.9021  971.9445   \n",
       "\n",
       "     CEACAM8  \n",
       "0   1189.815  \n",
       "1   2596.462  \n",
       "2   6037.856  \n",
       "3  18955.540  \n",
       "4   1613.885  \n",
       "\n",
       "[5 rows x 60 columns]"
      ]
     },
     "execution_count": 48,
     "metadata": {},
     "output_type": "execute_result"
    }
   ],
   "source": [
    "gse21802 = pd.read_csv('../summary_data/expression_data/symb_gse21802.tsv', sep = '\\t', encoding=\"ISO-8859-1\")\n",
    "gse21802.head()"
   ]
  },
  {
   "cell_type": "code",
   "execution_count": 49,
   "metadata": {},
   "outputs": [],
   "source": [
    "X = gse21802[['DEFA4','CD163','PER1','RGS1','HIF1A','SEPP1','C11orf74','CIT','CFD','DDIT4','IFI27','IL1R2',\n",
    "                'IL8','MAFF','OCLN','B4GALT4','BPI','CD24','CEP55','CTSG',\n",
    "               'G0S2','MPO','MT1G','NDUFV2','PAM','PSMA6','TRIB1','CKS2','MKI67','POLD3',\n",
    "               'PLK1','LY86','TST','OR52R1','KCNJ2','AIM2','APH1A','CCR2','EIF5A',\n",
    "               'GSTM1','HIST1H3H','NT5E','RAB40B','VNN3','ABCB4','CTSS','IKZF2','TGFBI',\n",
    "               'CST3','CBFA2T3','RCBTB2','CX3CR1','CD5','MTMR11','CLEC10A',\n",
    "               'EMR3','DHRS7B','CEACAM8']]\n",
    "y = gse21802['survivor']"
   ]
  },
  {
   "cell_type": "code",
   "execution_count": 50,
   "metadata": {},
   "outputs": [],
   "source": [
    "X_train,X_test, y_train,y_test = train_test_split(X,y,test_size=0.5,random_state=0)"
   ]
  },
  {
   "cell_type": "code",
   "execution_count": 51,
   "metadata": {},
   "outputs": [
    {
     "name": "stderr",
     "output_type": "stream",
     "text": [
      "//anaconda3/lib/python3.7/site-packages/sklearn/linear_model/logistic.py:432: FutureWarning: Default solver will be changed to 'lbfgs' in 0.22. Specify a solver to silence this warning.\n",
      "  FutureWarning)\n"
     ]
    }
   ],
   "source": [
    "logistic_regression= LogisticRegression()\n",
    "logistic_regression.fit(X_train,y_train)\n",
    "\n",
    "y_pred=logistic_regression.predict(X_test)"
   ]
  },
  {
   "cell_type": "code",
   "execution_count": 52,
   "metadata": {},
   "outputs": [
    {
     "name": "stdout",
     "output_type": "stream",
     "text": [
      "              precision    recall  f1-score   support\n",
      "\n",
      "           0       0.75      0.75      0.75         4\n",
      "           1       0.50      0.50      0.50         2\n",
      "\n",
      "    accuracy                           0.67         6\n",
      "   macro avg       0.62      0.62      0.62         6\n",
      "weighted avg       0.67      0.67      0.67         6\n",
      "\n"
     ]
    }
   ],
   "source": [
    "print(classification_report(y_test, y_pred))"
   ]
  },
  {
   "cell_type": "code",
   "execution_count": 53,
   "metadata": {},
   "outputs": [
    {
     "data": {
      "text/plain": [
       "<matplotlib.axes._subplots.AxesSubplot at 0x1a2481ed68>"
      ]
     },
     "execution_count": 53,
     "metadata": {},
     "output_type": "execute_result"
    },
    {
     "data": {
      "image/png": "[encoded data removed]",
      "text/plain": [
       "<Figure size 432x288 with 2 Axes>"
      ]
     },
     "metadata": {
      "needs_background": "light"
     },
     "output_type": "display_data"
    }
   ],
   "source": [
    "confusion_matrix = pd.crosstab(y_test, y_pred, rownames=['Actual'], colnames=['Predicted'])\n",
    "sns.heatmap(confusion_matrix, annot=True)"
   ]
  },
  {
   "cell_type": "code",
   "execution_count": 54,
   "metadata": {},
   "outputs": [
    {
     "data": {
      "image/png": "[encoded data removed]",
      "text/plain": [
       "<Figure size 432x288 with 1 Axes>"
      ]
     },
     "metadata": {
      "needs_background": "light"
     },
     "output_type": "display_data"
    }
   ],
   "source": [
    "logit_roc_auc = roc_auc_score(y_test, logistic_regression.predict(X_test))\n",
    "fpr, tpr, thresholds = roc_curve(y_test, logistic_regression.predict_proba(X_test)[:,1])\n",
    "plt.figure()\n",
    "plt.plot(fpr, tpr, label='Logistic Regression (area = %0.2f)' % logit_roc_auc)\n",
    "plt.plot([0, 1], [0, 1],'r--')\n",
    "plt.xlim([0.0, 1.0])\n",
    "plt.ylim([0.0, 1.05])\n",
    "plt.xlabel('False Positive Rate')\n",
    "plt.ylabel('True Positive Rate')\n",
    "plt.title('Receiver operating characteristic')\n",
    "plt.legend(loc=\"lower right\")\n",
    "#plt.savefig('Log_ROC')\n",
    "plt.show()"
   ]
  },
  {
   "cell_type": "code",
   "execution_count": 56,
   "metadata": {},
   "outputs": [
    {
     "data": {
      "text/html": [
       "<div>\n",
       "<style scoped>\n",
       "    .dataframe tbody tr th:only-of-type {\n",
       "        vertical-align: middle;\n",
       "    }\n",
       "\n",
       "    .dataframe tbody tr th {\n",
       "        vertical-align: top;\n",
       "    }\n",
       "\n",
       "    .dataframe thead th {\n",
       "        text-align: right;\n",
       "    }\n",
       "</style>\n",
       "<table border=\"1\" class=\"dataframe\">\n",
       "  <thead>\n",
       "    <tr style=\"text-align: right;\">\n",
       "      <th></th>\n",
       "      <th>ID</th>\n",
       "      <th>survivor</th>\n",
       "      <th>DEFA4</th>\n",
       "      <th>CD163</th>\n",
       "      <th>PER1</th>\n",
       "      <th>RGS1</th>\n",
       "      <th>HIF1A</th>\n",
       "      <th>SEPP1</th>\n",
       "      <th>C11orf74</th>\n",
       "      <th>CIT</th>\n",
       "      <th>...</th>\n",
       "      <th>CST3</th>\n",
       "      <th>CBFA2T3</th>\n",
       "      <th>RCBTB2</th>\n",
       "      <th>CX3CR1</th>\n",
       "      <th>CD5</th>\n",
       "      <th>MTMR11</th>\n",
       "      <th>CLEC10A</th>\n",
       "      <th>EMR3</th>\n",
       "      <th>DHRS7B</th>\n",
       "      <th>CEACAM8</th>\n",
       "    </tr>\n",
       "  </thead>\n",
       "  <tbody>\n",
       "    <tr>\n",
       "      <th>0</th>\n",
       "      <td>GSM670449</td>\n",
       "      <td>1</td>\n",
       "      <td>6.902437</td>\n",
       "      <td>8.929694</td>\n",
       "      <td>4.245451</td>\n",
       "      <td>1.644822</td>\n",
       "      <td>9.304211</td>\n",
       "      <td>none</td>\n",
       "      <td>none</td>\n",
       "      <td>4.016693</td>\n",
       "      <td>...</td>\n",
       "      <td>7.418723</td>\n",
       "      <td>5.400574</td>\n",
       "      <td>6.691241</td>\n",
       "      <td>5.375969</td>\n",
       "      <td>5.018819</td>\n",
       "      <td>4.104568</td>\n",
       "      <td>3.264005</td>\n",
       "      <td>none</td>\n",
       "      <td>5.709314</td>\n",
       "      <td>7.010257</td>\n",
       "    </tr>\n",
       "    <tr>\n",
       "      <th>1</th>\n",
       "      <td>GSM670450</td>\n",
       "      <td>1</td>\n",
       "      <td>8.435344</td>\n",
       "      <td>6.768682</td>\n",
       "      <td>4.341053</td>\n",
       "      <td>0.994102</td>\n",
       "      <td>9.229726</td>\n",
       "      <td>none</td>\n",
       "      <td>none</td>\n",
       "      <td>4.289649</td>\n",
       "      <td>...</td>\n",
       "      <td>7.670092</td>\n",
       "      <td>5.421657</td>\n",
       "      <td>7.249297</td>\n",
       "      <td>6.241649</td>\n",
       "      <td>5.039338</td>\n",
       "      <td>4.020293</td>\n",
       "      <td>3.209822</td>\n",
       "      <td>none</td>\n",
       "      <td>5.681650</td>\n",
       "      <td>7.374158</td>\n",
       "    </tr>\n",
       "    <tr>\n",
       "      <th>2</th>\n",
       "      <td>GSM670451</td>\n",
       "      <td>0</td>\n",
       "      <td>4.022349</td>\n",
       "      <td>5.495349</td>\n",
       "      <td>4.058052</td>\n",
       "      <td>1.036478</td>\n",
       "      <td>8.436787</td>\n",
       "      <td>none</td>\n",
       "      <td>none</td>\n",
       "      <td>3.984876</td>\n",
       "      <td>...</td>\n",
       "      <td>7.539011</td>\n",
       "      <td>5.280027</td>\n",
       "      <td>7.031382</td>\n",
       "      <td>6.993821</td>\n",
       "      <td>6.733992</td>\n",
       "      <td>4.051709</td>\n",
       "      <td>3.509468</td>\n",
       "      <td>none</td>\n",
       "      <td>5.209213</td>\n",
       "      <td>4.421339</td>\n",
       "    </tr>\n",
       "    <tr>\n",
       "      <th>3</th>\n",
       "      <td>GSM670452</td>\n",
       "      <td>0</td>\n",
       "      <td>8.271460</td>\n",
       "      <td>6.523742</td>\n",
       "      <td>4.079424</td>\n",
       "      <td>0.971958</td>\n",
       "      <td>8.162145</td>\n",
       "      <td>none</td>\n",
       "      <td>none</td>\n",
       "      <td>3.898608</td>\n",
       "      <td>...</td>\n",
       "      <td>8.231109</td>\n",
       "      <td>5.600024</td>\n",
       "      <td>7.343295</td>\n",
       "      <td>7.064898</td>\n",
       "      <td>5.421792</td>\n",
       "      <td>4.318309</td>\n",
       "      <td>4.363571</td>\n",
       "      <td>none</td>\n",
       "      <td>5.329080</td>\n",
       "      <td>8.618064</td>\n",
       "    </tr>\n",
       "    <tr>\n",
       "      <th>4</th>\n",
       "      <td>GSM670453</td>\n",
       "      <td>1</td>\n",
       "      <td>9.926305</td>\n",
       "      <td>5.904554</td>\n",
       "      <td>5.556813</td>\n",
       "      <td>1.340129</td>\n",
       "      <td>8.439327</td>\n",
       "      <td>none</td>\n",
       "      <td>none</td>\n",
       "      <td>4.302731</td>\n",
       "      <td>...</td>\n",
       "      <td>8.317202</td>\n",
       "      <td>5.375245</td>\n",
       "      <td>7.248437</td>\n",
       "      <td>6.734483</td>\n",
       "      <td>5.665788</td>\n",
       "      <td>4.326622</td>\n",
       "      <td>3.472011</td>\n",
       "      <td>none</td>\n",
       "      <td>5.619764</td>\n",
       "      <td>9.357486</td>\n",
       "    </tr>\n",
       "  </tbody>\n",
       "</table>\n",
       "<p>5 rows × 60 columns</p>\n",
       "</div>"
      ],
      "text/plain": [
       "          ID  survivor     DEFA4     CD163      PER1      RGS1     HIF1A  \\\n",
       "0  GSM670449         1  6.902437  8.929694  4.245451  1.644822  9.304211   \n",
       "1  GSM670450         1  8.435344  6.768682  4.341053  0.994102  9.229726   \n",
       "2  GSM670451         0  4.022349  5.495349  4.058052  1.036478  8.436787   \n",
       "3  GSM670452         0  8.271460  6.523742  4.079424  0.971958  8.162145   \n",
       "4  GSM670453         1  9.926305  5.904554  5.556813  1.340129  8.439327   \n",
       "\n",
       "  SEPP1 C11orf74       CIT  ...      CST3   CBFA2T3    RCBTB2    CX3CR1  \\\n",
       "0  none     none  4.016693  ...  7.418723  5.400574  6.691241  5.375969   \n",
       "1  none     none  4.289649  ...  7.670092  5.421657  7.249297  6.241649   \n",
       "2  none     none  3.984876  ...  7.539011  5.280027  7.031382  6.993821   \n",
       "3  none     none  3.898608  ...  8.231109  5.600024  7.343295  7.064898   \n",
       "4  none     none  4.302731  ...  8.317202  5.375245  7.248437  6.734483   \n",
       "\n",
       "        CD5    MTMR11   CLEC10A  EMR3    DHRS7B   CEACAM8  \n",
       "0  5.018819  4.104568  3.264005  none  5.709314  7.010257  \n",
       "1  5.039338  4.020293  3.209822  none  5.681650  7.374158  \n",
       "2  6.733992  4.051709  3.509468  none  5.209213  4.421339  \n",
       "3  5.421792  4.318309  4.363571  none  5.329080  8.618064  \n",
       "4  5.665788  4.326622  3.472011  none  5.619764  9.357486  \n",
       "\n",
       "[5 rows x 60 columns]"
      ]
     },
     "execution_count": 56,
     "metadata": {},
     "output_type": "execute_result"
    }
   ],
   "source": [
    "gse27131 = pd.read_csv('../summary_data/expression_data/symb_gse27131.tsv', sep = '\\t', encoding=\"ISO-8859-1\")\n",
    "gse27131.head()"
   ]
  },
  {
   "cell_type": "code",
   "execution_count": 57,
   "metadata": {},
   "outputs": [],
   "source": [
    "X = gse27131[['DEFA4','CD163','PER1','RGS1','HIF1A','CIT','CFD','DDIT4','IFI27','IL1R2',\n",
    "                'MAFF','OCLN','B4GALT4','BPI','CD24','CEP55','CTSG',\n",
    "               'G0S2','MPO','MT1G','NDUFV2','PAM','TRIB1','CKS2','MKI67','POLD3',\n",
    "               'LY86','TST','OR52R1','KCNJ2','AIM2','APH1A','CCR2','EIF5A',\n",
    "               'GSTM1','NT5E','RAB40B','VNN3','ABCB4','CTSS','IKZF2','TGFBI',\n",
    "               'CST3','CBFA2T3','RCBTB2','CX3CR1','CD5','MTMR11','CLEC10A',\n",
    "               'DHRS7B','CEACAM8']]\n",
    "y = gse27131['survivor']"
   ]
  },
  {
   "cell_type": "code",
   "execution_count": 58,
   "metadata": {},
   "outputs": [],
   "source": [
    "X_train,X_test, y_train,y_test = train_test_split(X,y,test_size=0.5,random_state=0)"
   ]
  },
  {
   "cell_type": "code",
   "execution_count": 59,
   "metadata": {},
   "outputs": [
    {
     "name": "stderr",
     "output_type": "stream",
     "text": [
      "//anaconda3/lib/python3.7/site-packages/sklearn/linear_model/logistic.py:432: FutureWarning: Default solver will be changed to 'lbfgs' in 0.22. Specify a solver to silence this warning.\n",
      "  FutureWarning)\n"
     ]
    }
   ],
   "source": [
    "logistic_regression= LogisticRegression()\n",
    "logistic_regression.fit(X_train,y_train)\n",
    "\n",
    "y_pred=logistic_regression.predict(X_test)"
   ]
  },
  {
   "cell_type": "code",
   "execution_count": 60,
   "metadata": {},
   "outputs": [
    {
     "name": "stdout",
     "output_type": "stream",
     "text": [
      "              precision    recall  f1-score   support\n",
      "\n",
      "           0       0.67      0.33      0.44         6\n",
      "           1       0.00      0.00      0.00         1\n",
      "\n",
      "    accuracy                           0.29         7\n",
      "   macro avg       0.33      0.17      0.22         7\n",
      "weighted avg       0.57      0.29      0.38         7\n",
      "\n"
     ]
    }
   ],
   "source": [
    "print(classification_report(y_test, y_pred))"
   ]
  },
  {
   "cell_type": "code",
   "execution_count": 61,
   "metadata": {},
   "outputs": [
    {
     "data": {
      "text/plain": [
       "<matplotlib.axes._subplots.AxesSubplot at 0x1a2361c780>"
      ]
     },
     "execution_count": 61,
     "metadata": {},
     "output_type": "execute_result"
    },
    {
     "data": {
      "image/png": "[encoded data removed]",
      "text/plain": [
       "<Figure size 432x288 with 2 Axes>"
      ]
     },
     "metadata": {
      "needs_background": "light"
     },
     "output_type": "display_data"
    }
   ],
   "source": [
    "confusion_matrix = pd.crosstab(y_test, y_pred, rownames=['Actual'], colnames=['Predicted'])\n",
    "sns.heatmap(confusion_matrix, annot=True)"
   ]
  },
  {
   "cell_type": "code",
   "execution_count": 62,
   "metadata": {},
   "outputs": [
    {
     "data": {
      "image/png": "[encoded data removed]",
      "text/plain": [
       "<Figure size 432x288 with 1 Axes>"
      ]
     },
     "metadata": {
      "needs_background": "light"
     },
     "output_type": "display_data"
    }
   ],
   "source": [
    "logit_roc_auc = roc_auc_score(y_test, logistic_regression.predict(X_test))\n",
    "fpr, tpr, thresholds = roc_curve(y_test, logistic_regression.predict_proba(X_test)[:,1])\n",
    "plt.figure()\n",
    "plt.plot(fpr, tpr, label='Logistic Regression (area = %0.2f)' % logit_roc_auc)\n",
    "plt.plot([0, 1], [0, 1],'r--')\n",
    "plt.xlim([0.0, 1.0])\n",
    "plt.ylim([0.0, 1.05])\n",
    "plt.xlabel('False Positive Rate')\n",
    "plt.ylabel('True Positive Rate')\n",
    "plt.title('Receiver operating characteristic')\n",
    "plt.legend(loc=\"lower right\")\n",
    "#plt.savefig('Log_ROC')\n",
    "plt.show()"
   ]
  },
  {
   "cell_type": "code",
   "execution_count": 63,
   "metadata": {},
   "outputs": [
    {
     "data": {
      "text/html": [
       "<div>\n",
       "<style scoped>\n",
       "    .dataframe tbody tr th:only-of-type {\n",
       "        vertical-align: middle;\n",
       "    }\n",
       "\n",
       "    .dataframe tbody tr th {\n",
       "        vertical-align: top;\n",
       "    }\n",
       "\n",
       "    .dataframe thead th {\n",
       "        text-align: right;\n",
       "    }\n",
       "</style>\n",
       "<table border=\"1\" class=\"dataframe\">\n",
       "  <thead>\n",
       "    <tr style=\"text-align: right;\">\n",
       "      <th></th>\n",
       "      <th>ID</th>\n",
       "      <th>survivor</th>\n",
       "      <th>DEFA4</th>\n",
       "      <th>CD163</th>\n",
       "      <th>PER1</th>\n",
       "      <th>RGS1</th>\n",
       "      <th>HIF1A</th>\n",
       "      <th>SEPP1</th>\n",
       "      <th>C11orf74</th>\n",
       "      <th>CIT</th>\n",
       "      <th>...</th>\n",
       "      <th>CST3</th>\n",
       "      <th>CBFA2T3</th>\n",
       "      <th>RCBTB2</th>\n",
       "      <th>CX3CR1</th>\n",
       "      <th>CD5</th>\n",
       "      <th>MTMR11</th>\n",
       "      <th>CLEC10A</th>\n",
       "      <th>EMR3</th>\n",
       "      <th>DHRS7B</th>\n",
       "      <th>CEACAM8</th>\n",
       "    </tr>\n",
       "  </thead>\n",
       "  <tbody>\n",
       "    <tr>\n",
       "      <th>0</th>\n",
       "      <td>169833_DO011139837DR_5388500001_A</td>\n",
       "      <td>1</td>\n",
       "      <td>3343.3</td>\n",
       "      <td>254.6</td>\n",
       "      <td>106.4</td>\n",
       "      <td>93.1</td>\n",
       "      <td>240.8</td>\n",
       "      <td>88.6</td>\n",
       "      <td>82.3</td>\n",
       "      <td>68.8</td>\n",
       "      <td>...</td>\n",
       "      <td>2738.7</td>\n",
       "      <td>95.6</td>\n",
       "      <td>163.6</td>\n",
       "      <td>203.3</td>\n",
       "      <td>67.3</td>\n",
       "      <td>90.0</td>\n",
       "      <td>90.6</td>\n",
       "      <td>240.1</td>\n",
       "      <td>151.4</td>\n",
       "      <td>2497.2</td>\n",
       "    </tr>\n",
       "    <tr>\n",
       "      <th>1</th>\n",
       "      <td>169889_DO011142247DR_5388500001_C</td>\n",
       "      <td>1</td>\n",
       "      <td>18928.1</td>\n",
       "      <td>386.7</td>\n",
       "      <td>109.6</td>\n",
       "      <td>104.8</td>\n",
       "      <td>300.2</td>\n",
       "      <td>96.4</td>\n",
       "      <td>103.5</td>\n",
       "      <td>73.7</td>\n",
       "      <td>...</td>\n",
       "      <td>6987.8</td>\n",
       "      <td>129.2</td>\n",
       "      <td>320.2</td>\n",
       "      <td>587.3</td>\n",
       "      <td>124.3</td>\n",
       "      <td>110.4</td>\n",
       "      <td>112.0</td>\n",
       "      <td>810.1</td>\n",
       "      <td>286.1</td>\n",
       "      <td>5856.8</td>\n",
       "    </tr>\n",
       "    <tr>\n",
       "      <th>2</th>\n",
       "      <td>169890_DO011142265DR_5388500001_E</td>\n",
       "      <td>1</td>\n",
       "      <td>62.2</td>\n",
       "      <td>93.2</td>\n",
       "      <td>65.1</td>\n",
       "      <td>80.2</td>\n",
       "      <td>74.8</td>\n",
       "      <td>89.8</td>\n",
       "      <td>80.3</td>\n",
       "      <td>61.5</td>\n",
       "      <td>...</td>\n",
       "      <td>88.5</td>\n",
       "      <td>80.1</td>\n",
       "      <td>68.3</td>\n",
       "      <td>73.7</td>\n",
       "      <td>62.1</td>\n",
       "      <td>78.6</td>\n",
       "      <td>88.6</td>\n",
       "      <td>65.2</td>\n",
       "      <td>98.5</td>\n",
       "      <td>67.8</td>\n",
       "    </tr>\n",
       "    <tr>\n",
       "      <th>3</th>\n",
       "      <td>169772_DO011139486DR_5388500001_K</td>\n",
       "      <td>1</td>\n",
       "      <td>142.9</td>\n",
       "      <td>381.4</td>\n",
       "      <td>77.2</td>\n",
       "      <td>80.2</td>\n",
       "      <td>133.2</td>\n",
       "      <td>80.9</td>\n",
       "      <td>80.9</td>\n",
       "      <td>62.4</td>\n",
       "      <td>...</td>\n",
       "      <td>3438.2</td>\n",
       "      <td>91.1</td>\n",
       "      <td>136.9</td>\n",
       "      <td>118.8</td>\n",
       "      <td>70.9</td>\n",
       "      <td>100.4</td>\n",
       "      <td>84.9</td>\n",
       "      <td>208.4</td>\n",
       "      <td>115.7</td>\n",
       "      <td>303.5</td>\n",
       "    </tr>\n",
       "    <tr>\n",
       "      <th>4</th>\n",
       "      <td>169835_DO011139873DR_5388500002_A</td>\n",
       "      <td>0</td>\n",
       "      <td>383.6</td>\n",
       "      <td>186.0</td>\n",
       "      <td>97.3</td>\n",
       "      <td>86.1</td>\n",
       "      <td>308.2</td>\n",
       "      <td>91.6</td>\n",
       "      <td>79.6</td>\n",
       "      <td>61.0</td>\n",
       "      <td>...</td>\n",
       "      <td>5197.9</td>\n",
       "      <td>125.0</td>\n",
       "      <td>545.8</td>\n",
       "      <td>776.6</td>\n",
       "      <td>268.6</td>\n",
       "      <td>122.6</td>\n",
       "      <td>104.1</td>\n",
       "      <td>873.6</td>\n",
       "      <td>209.9</td>\n",
       "      <td>226.2</td>\n",
       "    </tr>\n",
       "  </tbody>\n",
       "</table>\n",
       "<p>5 rows × 60 columns</p>\n",
       "</div>"
      ],
      "text/plain": [
       "                                  ID  survivor    DEFA4  CD163   PER1   RGS1  \\\n",
       "0  169833_DO011139837DR_5388500001_A         1   3343.3  254.6  106.4   93.1   \n",
       "1  169889_DO011142247DR_5388500001_C         1  18928.1  386.7  109.6  104.8   \n",
       "2  169890_DO011142265DR_5388500001_E         1     62.2   93.2   65.1   80.2   \n",
       "3  169772_DO011139486DR_5388500001_K         1    142.9  381.4   77.2   80.2   \n",
       "4  169835_DO011139873DR_5388500002_A         0    383.6  186.0   97.3   86.1   \n",
       "\n",
       "   HIF1A  SEPP1  C11orf74   CIT  ...    CST3  CBFA2T3  RCBTB2  CX3CR1    CD5  \\\n",
       "0  240.8   88.6      82.3  68.8  ...  2738.7     95.6   163.6   203.3   67.3   \n",
       "1  300.2   96.4     103.5  73.7  ...  6987.8    129.2   320.2   587.3  124.3   \n",
       "2   74.8   89.8      80.3  61.5  ...    88.5     80.1    68.3    73.7   62.1   \n",
       "3  133.2   80.9      80.9  62.4  ...  3438.2     91.1   136.9   118.8   70.9   \n",
       "4  308.2   91.6      79.6  61.0  ...  5197.9    125.0   545.8   776.6  268.6   \n",
       "\n",
       "   MTMR11  CLEC10A   EMR3  DHRS7B  CEACAM8  \n",
       "0    90.0     90.6  240.1   151.4   2497.2  \n",
       "1   110.4    112.0  810.1   286.1   5856.8  \n",
       "2    78.6     88.6   65.2    98.5     67.8  \n",
       "3   100.4     84.9  208.4   115.7    303.5  \n",
       "4   122.6    104.1  873.6   209.9    226.2  \n",
       "\n",
       "[5 rows x 60 columns]"
      ]
     },
     "execution_count": 63,
     "metadata": {},
     "output_type": "execute_result"
    }
   ],
   "source": [
    "gse32707 = pd.read_csv('../summary_data/expression_data/symb_gse32707.tsv', sep = '\\t', encoding=\"ISO-8859-1\")\n",
    "gse32707.head()"
   ]
  },
  {
   "cell_type": "code",
   "execution_count": 64,
   "metadata": {},
   "outputs": [],
   "source": [
    "X = gse32707[['DEFA4','CD163','PER1','RGS1','HIF1A','SEPP1','C11orf74','CIT','CFD','DDIT4','IFI27','IL1R2',\n",
    "                'IL8','MAFF','OCLN','B4GALT4','BPI','CD24','CEP55','CTSG',\n",
    "               'G0S2','MPO','MT1G','NDUFV2','PAM','PSMA6','TRIB1','CKS2','MKI67','POLD3',\n",
    "               'PLK1','LY86','TST','OR52R1','KCNJ2','AIM2','APH1A','CCR2','EIF5A',\n",
    "               'GSTM1','HIST1H3H','NT5E','RAB40B','VNN3','ABCB4','CTSS','IKZF2','TGFBI',\n",
    "               'CST3','CBFA2T3','RCBTB2','CX3CR1','CD5','MTMR11','CLEC10A',\n",
    "               'EMR3','DHRS7B','CEACAM8']]\n",
    "y = gse32707['survivor']"
   ]
  },
  {
   "cell_type": "code",
   "execution_count": 65,
   "metadata": {},
   "outputs": [],
   "source": [
    "X_train,X_test, y_train,y_test = train_test_split(X,y,test_size=0.5,random_state=0)"
   ]
  },
  {
   "cell_type": "code",
   "execution_count": 66,
   "metadata": {},
   "outputs": [
    {
     "name": "stderr",
     "output_type": "stream",
     "text": [
      "//anaconda3/lib/python3.7/site-packages/sklearn/linear_model/logistic.py:432: FutureWarning: Default solver will be changed to 'lbfgs' in 0.22. Specify a solver to silence this warning.\n",
      "  FutureWarning)\n"
     ]
    }
   ],
   "source": [
    "logistic_regression= LogisticRegression()\n",
    "logistic_regression.fit(X_train,y_train)\n",
    "\n",
    "y_pred=logistic_regression.predict(X_test)"
   ]
  },
  {
   "cell_type": "code",
   "execution_count": 67,
   "metadata": {},
   "outputs": [
    {
     "name": "stdout",
     "output_type": "stream",
     "text": [
      "              precision    recall  f1-score   support\n",
      "\n",
      "           0       0.50      0.85      0.63        13\n",
      "           1       0.00      0.00      0.00        11\n",
      "\n",
      "    accuracy                           0.46        24\n",
      "   macro avg       0.25      0.42      0.31        24\n",
      "weighted avg       0.27      0.46      0.34        24\n",
      "\n"
     ]
    }
   ],
   "source": [
    "print(classification_report(y_test, y_pred))"
   ]
  },
  {
   "cell_type": "code",
   "execution_count": 68,
   "metadata": {},
   "outputs": [
    {
     "data": {
      "text/plain": [
       "<matplotlib.axes._subplots.AxesSubplot at 0x1a24b6f828>"
      ]
     },
     "execution_count": 68,
     "metadata": {},
     "output_type": "execute_result"
    },
    {
     "data": {
      "image/png": "[encoded data removed]",
      "text/plain": [
       "<Figure size 432x288 with 2 Axes>"
      ]
     },
     "metadata": {
      "needs_background": "light"
     },
     "output_type": "display_data"
    }
   ],
   "source": [
    "confusion_matrix = pd.crosstab(y_test, y_pred, rownames=['Actual'], colnames=['Predicted'])\n",
    "sns.heatmap(confusion_matrix, annot=True)"
   ]
  },
  {
   "cell_type": "code",
   "execution_count": 69,
   "metadata": {},
   "outputs": [
    {
     "data": {
      "image/png": "[encoded data removed]",
      "text/plain": [
       "<Figure size 432x288 with 1 Axes>"
      ]
     },
     "metadata": {
      "needs_background": "light"
     },
     "output_type": "display_data"
    }
   ],
   "source": [
    "logit_roc_auc = roc_auc_score(y_test, logistic_regression.predict(X_test))\n",
    "fpr, tpr, thresholds = roc_curve(y_test, logistic_regression.predict_proba(X_test)[:,1])\n",
    "plt.figure()\n",
    "plt.plot(fpr, tpr, label='Logistic Regression (area = %0.2f)' % logit_roc_auc)\n",
    "plt.plot([0, 1], [0, 1],'r--')\n",
    "plt.xlim([0.0, 1.0])\n",
    "plt.ylim([0.0, 1.05])\n",
    "plt.xlabel('False Positive Rate')\n",
    "plt.ylabel('True Positive Rate')\n",
    "plt.title('Receiver operating characteristic')\n",
    "plt.legend(loc=\"lower right\")\n",
    "#plt.savefig('Log_ROC')\n",
    "plt.show()"
   ]
  },
  {
   "cell_type": "code",
   "execution_count": 70,
   "metadata": {},
   "outputs": [
    {
     "data": {
      "text/html": [
       "<div>\n",
       "<style scoped>\n",
       "    .dataframe tbody tr th:only-of-type {\n",
       "        vertical-align: middle;\n",
       "    }\n",
       "\n",
       "    .dataframe tbody tr th {\n",
       "        vertical-align: top;\n",
       "    }\n",
       "\n",
       "    .dataframe thead th {\n",
       "        text-align: right;\n",
       "    }\n",
       "</style>\n",
       "<table border=\"1\" class=\"dataframe\">\n",
       "  <thead>\n",
       "    <tr style=\"text-align: right;\">\n",
       "      <th></th>\n",
       "      <th>ID</th>\n",
       "      <th>survivor</th>\n",
       "      <th>DEFA4</th>\n",
       "      <th>CD163</th>\n",
       "      <th>PER1</th>\n",
       "      <th>RGS1</th>\n",
       "      <th>HIF1A</th>\n",
       "      <th>SEPP1</th>\n",
       "      <th>C11orf74</th>\n",
       "      <th>CIT</th>\n",
       "      <th>...</th>\n",
       "      <th>CST3</th>\n",
       "      <th>CBFA2T3</th>\n",
       "      <th>RCBTB2</th>\n",
       "      <th>CX3CR1</th>\n",
       "      <th>CD5</th>\n",
       "      <th>MTMR11</th>\n",
       "      <th>CLEC10A</th>\n",
       "      <th>EMR3</th>\n",
       "      <th>DHRS7B</th>\n",
       "      <th>CEACAM8</th>\n",
       "    </tr>\n",
       "  </thead>\n",
       "  <tbody>\n",
       "    <tr>\n",
       "      <th>0</th>\n",
       "      <td>GSM824707</td>\n",
       "      <td>0</td>\n",
       "      <td>5.806240</td>\n",
       "      <td>10.174355</td>\n",
       "      <td>7.543509</td>\n",
       "      <td>3.864117</td>\n",
       "      <td>11.960349</td>\n",
       "      <td>none</td>\n",
       "      <td>none</td>\n",
       "      <td>5.502786</td>\n",
       "      <td>...</td>\n",
       "      <td>11.667907</td>\n",
       "      <td>7.076452</td>\n",
       "      <td>9.963620</td>\n",
       "      <td>11.570777</td>\n",
       "      <td>6.744905</td>\n",
       "      <td>8.911710</td>\n",
       "      <td>7.660502</td>\n",
       "      <td>none</td>\n",
       "      <td>8.570877</td>\n",
       "      <td>5.485636</td>\n",
       "    </tr>\n",
       "    <tr>\n",
       "      <th>1</th>\n",
       "      <td>GSM824708</td>\n",
       "      <td>0</td>\n",
       "      <td>6.530527</td>\n",
       "      <td>9.282385</td>\n",
       "      <td>6.725294</td>\n",
       "      <td>3.617583</td>\n",
       "      <td>11.152233</td>\n",
       "      <td>none</td>\n",
       "      <td>none</td>\n",
       "      <td>5.857309</td>\n",
       "      <td>...</td>\n",
       "      <td>11.767008</td>\n",
       "      <td>8.741773</td>\n",
       "      <td>10.747234</td>\n",
       "      <td>11.876712</td>\n",
       "      <td>7.142452</td>\n",
       "      <td>8.766672</td>\n",
       "      <td>6.239358</td>\n",
       "      <td>none</td>\n",
       "      <td>8.922664</td>\n",
       "      <td>5.806965</td>\n",
       "    </tr>\n",
       "    <tr>\n",
       "      <th>2</th>\n",
       "      <td>GSM824709</td>\n",
       "      <td>0</td>\n",
       "      <td>9.885717</td>\n",
       "      <td>8.238515</td>\n",
       "      <td>6.491008</td>\n",
       "      <td>3.983638</td>\n",
       "      <td>11.394591</td>\n",
       "      <td>none</td>\n",
       "      <td>none</td>\n",
       "      <td>5.631957</td>\n",
       "      <td>...</td>\n",
       "      <td>12.278855</td>\n",
       "      <td>8.629278</td>\n",
       "      <td>11.054631</td>\n",
       "      <td>11.984510</td>\n",
       "      <td>7.409666</td>\n",
       "      <td>9.114323</td>\n",
       "      <td>7.056747</td>\n",
       "      <td>none</td>\n",
       "      <td>8.631219</td>\n",
       "      <td>8.026154</td>\n",
       "    </tr>\n",
       "    <tr>\n",
       "      <th>3</th>\n",
       "      <td>GSM824710</td>\n",
       "      <td>0</td>\n",
       "      <td>6.972076</td>\n",
       "      <td>10.455699</td>\n",
       "      <td>6.689990</td>\n",
       "      <td>3.560378</td>\n",
       "      <td>11.827276</td>\n",
       "      <td>none</td>\n",
       "      <td>none</td>\n",
       "      <td>5.668257</td>\n",
       "      <td>...</td>\n",
       "      <td>11.890112</td>\n",
       "      <td>8.195607</td>\n",
       "      <td>10.231728</td>\n",
       "      <td>12.340478</td>\n",
       "      <td>6.520819</td>\n",
       "      <td>8.030634</td>\n",
       "      <td>6.997477</td>\n",
       "      <td>none</td>\n",
       "      <td>8.677136</td>\n",
       "      <td>8.785833</td>\n",
       "    </tr>\n",
       "    <tr>\n",
       "      <th>4</th>\n",
       "      <td>GSM824711</td>\n",
       "      <td>0</td>\n",
       "      <td>6.398902</td>\n",
       "      <td>9.034647</td>\n",
       "      <td>7.790223</td>\n",
       "      <td>3.530639</td>\n",
       "      <td>8.990211</td>\n",
       "      <td>none</td>\n",
       "      <td>none</td>\n",
       "      <td>5.630873</td>\n",
       "      <td>...</td>\n",
       "      <td>12.749800</td>\n",
       "      <td>9.203986</td>\n",
       "      <td>9.051968</td>\n",
       "      <td>12.020869</td>\n",
       "      <td>8.098636</td>\n",
       "      <td>9.565369</td>\n",
       "      <td>8.510308</td>\n",
       "      <td>none</td>\n",
       "      <td>9.080625</td>\n",
       "      <td>4.913369</td>\n",
       "    </tr>\n",
       "  </tbody>\n",
       "</table>\n",
       "<p>5 rows × 60 columns</p>\n",
       "</div>"
      ],
      "text/plain": [
       "          ID  survivor     DEFA4      CD163      PER1      RGS1      HIF1A  \\\n",
       "0  GSM824707         0  5.806240  10.174355  7.543509  3.864117  11.960349   \n",
       "1  GSM824708         0  6.530527   9.282385  6.725294  3.617583  11.152233   \n",
       "2  GSM824709         0  9.885717   8.238515  6.491008  3.983638  11.394591   \n",
       "3  GSM824710         0  6.972076  10.455699  6.689990  3.560378  11.827276   \n",
       "4  GSM824711         0  6.398902   9.034647  7.790223  3.530639   8.990211   \n",
       "\n",
       "  SEPP1 C11orf74       CIT  ...       CST3   CBFA2T3     RCBTB2     CX3CR1  \\\n",
       "0  none     none  5.502786  ...  11.667907  7.076452   9.963620  11.570777   \n",
       "1  none     none  5.857309  ...  11.767008  8.741773  10.747234  11.876712   \n",
       "2  none     none  5.631957  ...  12.278855  8.629278  11.054631  11.984510   \n",
       "3  none     none  5.668257  ...  11.890112  8.195607  10.231728  12.340478   \n",
       "4  none     none  5.630873  ...  12.749800  9.203986   9.051968  12.020869   \n",
       "\n",
       "        CD5    MTMR11   CLEC10A  EMR3    DHRS7B   CEACAM8  \n",
       "0  6.744905  8.911710  7.660502  none  8.570877  5.485636  \n",
       "1  7.142452  8.766672  6.239358  none  8.922664  5.806965  \n",
       "2  7.409666  9.114323  7.056747  none  8.631219  8.026154  \n",
       "3  6.520819  8.030634  6.997477  none  8.677136  8.785833  \n",
       "4  8.098636  9.565369  8.510308  none  9.080625  4.913369  \n",
       "\n",
       "[5 rows x 60 columns]"
      ]
     },
     "execution_count": 70,
     "metadata": {},
     "output_type": "execute_result"
    }
   ],
   "source": [
    "gse33341 = pd.read_csv('../summary_data/expression_data/symb_gse33341.tsv', sep = '\\t', encoding=\"ISO-8859-1\")\n",
    "gse33341.head()"
   ]
  },
  {
   "cell_type": "code",
   "execution_count": 96,
   "metadata": {},
   "outputs": [],
   "source": [
    "X = gse33341[['DEFA4','CD163','PER1','RGS1','HIF1A','CIT','CFD','DDIT4','IFI27','IL1R2',\n",
    "                'MAFF','B4GALT4','BPI','CD24','CEP55','CTSG',\n",
    "               'G0S2','MPO','MT1G','PAM','PSMA6','TRIB1','CKS2','MKI67','POLD3',\n",
    "               'PLK1','LY86','TST','KCNJ2','AIM2','APH1A','CCR2','EIF5A',\n",
    "               'NT5E','RAB40B','VNN3','ABCB4','CTSS','IKZF2','TGFBI',\n",
    "               'CST3','CBFA2T3','RCBTB2','CX3CR1','CD5','MTMR11','CLEC10A',\n",
    "               'DHRS7B','CEACAM8']]\n",
    "y = gse33341['survivor']"
   ]
  },
  {
   "cell_type": "code",
   "execution_count": 97,
   "metadata": {},
   "outputs": [],
   "source": [
    "X_train,X_test, y_train,y_test = train_test_split(X,y,test_size=0.5,random_state=0)"
   ]
  },
  {
   "cell_type": "code",
   "execution_count": 98,
   "metadata": {},
   "outputs": [
    {
     "name": "stderr",
     "output_type": "stream",
     "text": [
      "//anaconda3/lib/python3.7/site-packages/sklearn/linear_model/logistic.py:432: FutureWarning: Default solver will be changed to 'lbfgs' in 0.22. Specify a solver to silence this warning.\n",
      "  FutureWarning)\n"
     ]
    }
   ],
   "source": [
    "logistic_regression= LogisticRegression()\n",
    "logistic_regression.fit(X_train,y_train)\n",
    "\n",
    "y_pred=logistic_regression.predict(X_test)"
   ]
  },
  {
   "cell_type": "code",
   "execution_count": 100,
   "metadata": {},
   "outputs": [
    {
     "name": "stdout",
     "output_type": "stream",
     "text": [
      "              precision    recall  f1-score   support\n",
      "\n",
      "           0       0.96      1.00      0.98        25\n",
      "           1       0.00      0.00      0.00         1\n",
      "\n",
      "    accuracy                           0.96        26\n",
      "   macro avg       0.48      0.50      0.49        26\n",
      "weighted avg       0.92      0.96      0.94        26\n",
      "\n"
     ]
    }
   ],
   "source": [
    "print(classification_report(y_test, y_pred))"
   ]
  },
  {
   "cell_type": "code",
   "execution_count": 101,
   "metadata": {},
   "outputs": [
    {
     "data": {
      "text/plain": [
       "<matplotlib.axes._subplots.AxesSubplot at 0x1a24d92588>"
      ]
     },
     "execution_count": 101,
     "metadata": {},
     "output_type": "execute_result"
    },
    {
     "data": {
      "image/png": "[encoded data removed]",
      "text/plain": [
       "<Figure size 432x288 with 2 Axes>"
      ]
     },
     "metadata": {
      "needs_background": "light"
     },
     "output_type": "display_data"
    }
   ],
   "source": [
    "confusion_matrix = pd.crosstab(y_test, y_pred, rownames=['Actual'], colnames=['Predicted'])\n",
    "sns.heatmap(confusion_matrix, annot=True)"
   ]
  },
  {
   "cell_type": "code",
   "execution_count": 102,
   "metadata": {},
   "outputs": [
    {
     "data": {
      "image/png": "[encoded data removed]",
      "text/plain": [
       "<Figure size 432x288 with 1 Axes>"
      ]
     },
     "metadata": {
      "needs_background": "light"
     },
     "output_type": "display_data"
    }
   ],
   "source": [
    "logit_roc_auc = roc_auc_score(y_test, logistic_regression.predict(X_test))\n",
    "fpr, tpr, thresholds = roc_curve(y_test, logistic_regression.predict_proba(X_test)[:,1])\n",
    "plt.figure()\n",
    "plt.plot(fpr, tpr, label='Logistic Regression (area = %0.2f)' % logit_roc_auc)\n",
    "plt.plot([0, 1], [0, 1],'r--')\n",
    "plt.xlim([0.0, 1.0])\n",
    "plt.ylim([0.0, 1.05])\n",
    "plt.xlabel('False Positive Rate')\n",
    "plt.ylabel('True Positive Rate')\n",
    "plt.title('Receiver operating characteristic')\n",
    "plt.legend(loc=\"lower right\")\n",
    "#plt.savefig('Log_ROC')\n",
    "plt.show()"
   ]
  },
  {
   "cell_type": "code",
   "execution_count": 103,
   "metadata": {},
   "outputs": [
    {
     "data": {
      "text/html": [
       "<div>\n",
       "<style scoped>\n",
       "    .dataframe tbody tr th:only-of-type {\n",
       "        vertical-align: middle;\n",
       "    }\n",
       "\n",
       "    .dataframe tbody tr th {\n",
       "        vertical-align: top;\n",
       "    }\n",
       "\n",
       "    .dataframe thead th {\n",
       "        text-align: right;\n",
       "    }\n",
       "</style>\n",
       "<table border=\"1\" class=\"dataframe\">\n",
       "  <thead>\n",
       "    <tr style=\"text-align: right;\">\n",
       "      <th></th>\n",
       "      <th>ID</th>\n",
       "      <th>survivor</th>\n",
       "      <th>DEFA4</th>\n",
       "      <th>CD163</th>\n",
       "      <th>PER1</th>\n",
       "      <th>RGS1</th>\n",
       "      <th>HIF1A</th>\n",
       "      <th>SEPP1</th>\n",
       "      <th>C11orf74</th>\n",
       "      <th>CIT</th>\n",
       "      <th>...</th>\n",
       "      <th>CST3</th>\n",
       "      <th>CBFA2T3</th>\n",
       "      <th>RCBTB2</th>\n",
       "      <th>CX3CR1</th>\n",
       "      <th>CD5</th>\n",
       "      <th>MTMR11</th>\n",
       "      <th>CLEC10A</th>\n",
       "      <th>EMR3</th>\n",
       "      <th>DHRS7B</th>\n",
       "      <th>CEACAM8</th>\n",
       "    </tr>\n",
       "  </thead>\n",
       "  <tbody>\n",
       "    <tr>\n",
       "      <th>0</th>\n",
       "      <td>GSM997332</td>\n",
       "      <td>0</td>\n",
       "      <td>5.723792</td>\n",
       "      <td>11.806308</td>\n",
       "      <td>8.078471</td>\n",
       "      <td>4.125392</td>\n",
       "      <td>11.734304</td>\n",
       "      <td>none</td>\n",
       "      <td>none</td>\n",
       "      <td>6.129793</td>\n",
       "      <td>...</td>\n",
       "      <td>9.696260</td>\n",
       "      <td>7.787764</td>\n",
       "      <td>7.852346</td>\n",
       "      <td>8.057430</td>\n",
       "      <td>7.437712</td>\n",
       "      <td>6.553566</td>\n",
       "      <td>6.326003</td>\n",
       "      <td>none</td>\n",
       "      <td>7.742280</td>\n",
       "      <td>9.034824</td>\n",
       "    </tr>\n",
       "    <tr>\n",
       "      <th>1</th>\n",
       "      <td>GSM997335</td>\n",
       "      <td>0</td>\n",
       "      <td>6.312135</td>\n",
       "      <td>12.230945</td>\n",
       "      <td>7.285496</td>\n",
       "      <td>4.406833</td>\n",
       "      <td>10.681284</td>\n",
       "      <td>none</td>\n",
       "      <td>none</td>\n",
       "      <td>5.812896</td>\n",
       "      <td>...</td>\n",
       "      <td>10.272661</td>\n",
       "      <td>7.992882</td>\n",
       "      <td>8.974999</td>\n",
       "      <td>8.742285</td>\n",
       "      <td>7.283994</td>\n",
       "      <td>6.268080</td>\n",
       "      <td>7.037240</td>\n",
       "      <td>none</td>\n",
       "      <td>7.810388</td>\n",
       "      <td>7.352161</td>\n",
       "    </tr>\n",
       "    <tr>\n",
       "      <th>2</th>\n",
       "      <td>GSM997336</td>\n",
       "      <td>0</td>\n",
       "      <td>5.767104</td>\n",
       "      <td>12.481289</td>\n",
       "      <td>8.042500</td>\n",
       "      <td>4.866065</td>\n",
       "      <td>11.356658</td>\n",
       "      <td>none</td>\n",
       "      <td>none</td>\n",
       "      <td>6.330320</td>\n",
       "      <td>...</td>\n",
       "      <td>9.530113</td>\n",
       "      <td>7.849507</td>\n",
       "      <td>8.910221</td>\n",
       "      <td>8.755795</td>\n",
       "      <td>7.316398</td>\n",
       "      <td>6.297297</td>\n",
       "      <td>6.130597</td>\n",
       "      <td>none</td>\n",
       "      <td>7.769056</td>\n",
       "      <td>9.655757</td>\n",
       "    </tr>\n",
       "    <tr>\n",
       "      <th>3</th>\n",
       "      <td>GSM997339</td>\n",
       "      <td>0</td>\n",
       "      <td>6.183926</td>\n",
       "      <td>11.279517</td>\n",
       "      <td>7.197828</td>\n",
       "      <td>4.793746</td>\n",
       "      <td>10.470181</td>\n",
       "      <td>none</td>\n",
       "      <td>none</td>\n",
       "      <td>5.875209</td>\n",
       "      <td>...</td>\n",
       "      <td>10.638627</td>\n",
       "      <td>7.870429</td>\n",
       "      <td>8.902135</td>\n",
       "      <td>9.804779</td>\n",
       "      <td>7.776491</td>\n",
       "      <td>6.414608</td>\n",
       "      <td>8.023570</td>\n",
       "      <td>none</td>\n",
       "      <td>7.666765</td>\n",
       "      <td>6.909638</td>\n",
       "    </tr>\n",
       "    <tr>\n",
       "      <th>4</th>\n",
       "      <td>GSM997340</td>\n",
       "      <td>0</td>\n",
       "      <td>9.825564</td>\n",
       "      <td>11.740720</td>\n",
       "      <td>7.942535</td>\n",
       "      <td>4.658065</td>\n",
       "      <td>10.128500</td>\n",
       "      <td>none</td>\n",
       "      <td>none</td>\n",
       "      <td>6.517839</td>\n",
       "      <td>...</td>\n",
       "      <td>10.479376</td>\n",
       "      <td>8.178578</td>\n",
       "      <td>8.548222</td>\n",
       "      <td>7.646866</td>\n",
       "      <td>7.074736</td>\n",
       "      <td>6.478505</td>\n",
       "      <td>6.416832</td>\n",
       "      <td>none</td>\n",
       "      <td>7.650586</td>\n",
       "      <td>11.137315</td>\n",
       "    </tr>\n",
       "  </tbody>\n",
       "</table>\n",
       "<p>5 rows × 60 columns</p>\n",
       "</div>"
      ],
      "text/plain": [
       "          ID  survivor     DEFA4      CD163      PER1      RGS1      HIF1A  \\\n",
       "0  GSM997332         0  5.723792  11.806308  8.078471  4.125392  11.734304   \n",
       "1  GSM997335         0  6.312135  12.230945  7.285496  4.406833  10.681284   \n",
       "2  GSM997336         0  5.767104  12.481289  8.042500  4.866065  11.356658   \n",
       "3  GSM997339         0  6.183926  11.279517  7.197828  4.793746  10.470181   \n",
       "4  GSM997340         0  9.825564  11.740720  7.942535  4.658065  10.128500   \n",
       "\n",
       "  SEPP1 C11orf74       CIT  ...       CST3   CBFA2T3    RCBTB2    CX3CR1  \\\n",
       "0  none     none  6.129793  ...   9.696260  7.787764  7.852346  8.057430   \n",
       "1  none     none  5.812896  ...  10.272661  7.992882  8.974999  8.742285   \n",
       "2  none     none  6.330320  ...   9.530113  7.849507  8.910221  8.755795   \n",
       "3  none     none  5.875209  ...  10.638627  7.870429  8.902135  9.804779   \n",
       "4  none     none  6.517839  ...  10.479376  8.178578  8.548222  7.646866   \n",
       "\n",
       "        CD5    MTMR11   CLEC10A  EMR3    DHRS7B    CEACAM8  \n",
       "0  7.437712  6.553566  6.326003  none  7.742280   9.034824  \n",
       "1  7.283994  6.268080  7.037240  none  7.810388   7.352161  \n",
       "2  7.316398  6.297297  6.130597  none  7.769056   9.655757  \n",
       "3  7.776491  6.414608  8.023570  none  7.666765   6.909638  \n",
       "4  7.074736  6.478505  6.416832  none  7.650586  11.137315  \n",
       "\n",
       "[5 rows x 60 columns]"
      ]
     },
     "execution_count": 103,
     "metadata": {},
     "output_type": "execute_result"
    }
   ],
   "source": [
    "gse40586 = pd.read_csv('../summary_data/expression_data/symb_gse40586.tsv', sep = '\\t', encoding=\"ISO-8859-1\")\n",
    "gse40586.head()"
   ]
  },
  {
   "cell_type": "code",
   "execution_count": 104,
   "metadata": {},
   "outputs": [],
   "source": [
    "X = gse40586[['DEFA4','CD163','PER1','RGS1','HIF1A','CIT','CFD','DDIT4','IFI27','IL1R2',\n",
    "                'MAFF','OCLN','B4GALT4','BPI','CD24','CEP55','CTSG',\n",
    "               'G0S2','MPO','MT1G','NDUFV2','PAM','TRIB1','CKS2','MKI67','POLD3',\n",
    "               'LY86','TST','OR52R1','KCNJ2','AIM2','APH1A','CCR2','EIF5A',\n",
    "               'GSTM1','NT5E','RAB40B','VNN3','ABCB4','CTSS','IKZF2','TGFBI',\n",
    "               'CST3','CBFA2T3','RCBTB2','CX3CR1','CD5','MTMR11','CLEC10A',\n",
    "               'DHRS7B','CEACAM8']]\n",
    "y = gse40586['survivor']"
   ]
  },
  {
   "cell_type": "code",
   "execution_count": 105,
   "metadata": {},
   "outputs": [],
   "source": [
    "X_train,X_test, y_train,y_test = train_test_split(X,y,test_size=0.5,random_state=0)"
   ]
  },
  {
   "cell_type": "code",
   "execution_count": 106,
   "metadata": {},
   "outputs": [
    {
     "name": "stderr",
     "output_type": "stream",
     "text": [
      "//anaconda3/lib/python3.7/site-packages/sklearn/linear_model/logistic.py:432: FutureWarning: Default solver will be changed to 'lbfgs' in 0.22. Specify a solver to silence this warning.\n",
      "  FutureWarning)\n"
     ]
    }
   ],
   "source": [
    "logistic_regression= LogisticRegression()\n",
    "logistic_regression.fit(X_train,y_train)\n",
    "\n",
    "y_pred=logistic_regression.predict(X_test)"
   ]
  },
  {
   "cell_type": "code",
   "execution_count": 109,
   "metadata": {},
   "outputs": [
    {
     "name": "stdout",
     "output_type": "stream",
     "text": [
      "              precision    recall  f1-score   support\n",
      "\n",
      "           0       0.91      1.00      0.95        10\n",
      "           1       0.00      0.00      0.00         1\n",
      "\n",
      "    accuracy                           0.91        11\n",
      "   macro avg       0.45      0.50      0.48        11\n",
      "weighted avg       0.83      0.91      0.87        11\n",
      "\n"
     ]
    }
   ],
   "source": [
    "print(classification_report(y_test, y_pred))"
   ]
  },
  {
   "cell_type": "code",
   "execution_count": 110,
   "metadata": {},
   "outputs": [
    {
     "data": {
      "text/plain": [
       "<matplotlib.axes._subplots.AxesSubplot at 0x1a25088f98>"
      ]
     },
     "execution_count": 110,
     "metadata": {},
     "output_type": "execute_result"
    },
    {
     "data": {
      "image/png": "[encoded data removed]",
      "text/plain": [
       "<Figure size 432x288 with 2 Axes>"
      ]
     },
     "metadata": {
      "needs_background": "light"
     },
     "output_type": "display_data"
    }
   ],
   "source": [
    "confusion_matrix = pd.crosstab(y_test, y_pred, rownames=['Actual'], colnames=['Predicted'])\n",
    "sns.heatmap(confusion_matrix, annot=True)"
   ]
  },
  {
   "cell_type": "code",
   "execution_count": 111,
   "metadata": {},
   "outputs": [
    {
     "data": {
      "image/png": "[encoded data removed]",
      "text/plain": [
       "<Figure size 432x288 with 1 Axes>"
      ]
     },
     "metadata": {
      "needs_background": "light"
     },
     "output_type": "display_data"
    }
   ],
   "source": [
    "logit_roc_auc = roc_auc_score(y_test, logistic_regression.predict(X_test))\n",
    "fpr, tpr, thresholds = roc_curve(y_test, logistic_regression.predict_proba(X_test)[:,1])\n",
    "plt.figure()\n",
    "plt.plot(fpr, tpr, label='Logistic Regression (area = %0.2f)' % logit_roc_auc)\n",
    "plt.plot([0, 1], [0, 1],'r--')\n",
    "plt.xlim([0.0, 1.0])\n",
    "plt.ylim([0.0, 1.05])\n",
    "plt.xlabel('False Positive Rate')\n",
    "plt.ylabel('True Positive Rate')\n",
    "plt.title('Receiver operating characteristic')\n",
    "plt.legend(loc=\"lower right\")\n",
    "#plt.savefig('Log_ROC')\n",
    "plt.show()"
   ]
  },
  {
   "cell_type": "code",
   "execution_count": 117,
   "metadata": {},
   "outputs": [
    {
     "data": {
      "text/html": [
       "<div>\n",
       "<style scoped>\n",
       "    .dataframe tbody tr th:only-of-type {\n",
       "        vertical-align: middle;\n",
       "    }\n",
       "\n",
       "    .dataframe tbody tr th {\n",
       "        vertical-align: top;\n",
       "    }\n",
       "\n",
       "    .dataframe thead th {\n",
       "        text-align: right;\n",
       "    }\n",
       "</style>\n",
       "<table border=\"1\" class=\"dataframe\">\n",
       "  <thead>\n",
       "    <tr style=\"text-align: right;\">\n",
       "      <th></th>\n",
       "      <th>ID</th>\n",
       "      <th>survivor</th>\n",
       "      <th>DEFA4</th>\n",
       "      <th>CD163</th>\n",
       "      <th>PER1</th>\n",
       "      <th>RGS1</th>\n",
       "      <th>HIF1A</th>\n",
       "      <th>SEPP1</th>\n",
       "      <th>C11orf74</th>\n",
       "      <th>CIT</th>\n",
       "      <th>...</th>\n",
       "      <th>CST3</th>\n",
       "      <th>CBFA2T3</th>\n",
       "      <th>RCBTB2</th>\n",
       "      <th>CX3CR1</th>\n",
       "      <th>CD5</th>\n",
       "      <th>MTMR11</th>\n",
       "      <th>CLEC10A</th>\n",
       "      <th>EMR3</th>\n",
       "      <th>DHRS7B</th>\n",
       "      <th>CEACAM8</th>\n",
       "    </tr>\n",
       "  </thead>\n",
       "  <tbody>\n",
       "    <tr>\n",
       "      <th>0</th>\n",
       "      <td>4481649065_F</td>\n",
       "      <td>0</td>\n",
       "      <td>515.2</td>\n",
       "      <td>993.1</td>\n",
       "      <td>68.4</td>\n",
       "      <td>73.9</td>\n",
       "      <td>338.3</td>\n",
       "      <td>64.1</td>\n",
       "      <td>66.1</td>\n",
       "      <td>60.6</td>\n",
       "      <td>...</td>\n",
       "      <td>2920.8</td>\n",
       "      <td>72.9</td>\n",
       "      <td>274.5</td>\n",
       "      <td>327.4</td>\n",
       "      <td>84.1</td>\n",
       "      <td>81.7</td>\n",
       "      <td>63.5</td>\n",
       "      <td>917.3</td>\n",
       "      <td>112.2</td>\n",
       "      <td>500.3</td>\n",
       "    </tr>\n",
       "    <tr>\n",
       "      <th>1</th>\n",
       "      <td>4481649065_G</td>\n",
       "      <td>0</td>\n",
       "      <td>9787.2</td>\n",
       "      <td>219.9</td>\n",
       "      <td>82.7</td>\n",
       "      <td>68.1</td>\n",
       "      <td>579.1</td>\n",
       "      <td>72.8</td>\n",
       "      <td>83.3</td>\n",
       "      <td>56.3</td>\n",
       "      <td>...</td>\n",
       "      <td>3363.6</td>\n",
       "      <td>66.2</td>\n",
       "      <td>449.9</td>\n",
       "      <td>505.6</td>\n",
       "      <td>112.2</td>\n",
       "      <td>89.1</td>\n",
       "      <td>64.1</td>\n",
       "      <td>752.1</td>\n",
       "      <td>135.0</td>\n",
       "      <td>4755.9</td>\n",
       "    </tr>\n",
       "    <tr>\n",
       "      <th>2</th>\n",
       "      <td>4481649065_H</td>\n",
       "      <td>0</td>\n",
       "      <td>12085.3</td>\n",
       "      <td>658.9</td>\n",
       "      <td>83.7</td>\n",
       "      <td>75.5</td>\n",
       "      <td>715.5</td>\n",
       "      <td>84.6</td>\n",
       "      <td>87.4</td>\n",
       "      <td>57.8</td>\n",
       "      <td>...</td>\n",
       "      <td>5333.1</td>\n",
       "      <td>83.7</td>\n",
       "      <td>707.9</td>\n",
       "      <td>1827.0</td>\n",
       "      <td>196.5</td>\n",
       "      <td>94.4</td>\n",
       "      <td>84.1</td>\n",
       "      <td>1098.6</td>\n",
       "      <td>221.0</td>\n",
       "      <td>5049.6</td>\n",
       "    </tr>\n",
       "    <tr>\n",
       "      <th>3</th>\n",
       "      <td>4481649065_I</td>\n",
       "      <td>0</td>\n",
       "      <td>8872.2</td>\n",
       "      <td>2301.8</td>\n",
       "      <td>85.7</td>\n",
       "      <td>86.3</td>\n",
       "      <td>521.8</td>\n",
       "      <td>88.1</td>\n",
       "      <td>97.5</td>\n",
       "      <td>69.8</td>\n",
       "      <td>...</td>\n",
       "      <td>6754.4</td>\n",
       "      <td>76.1</td>\n",
       "      <td>345.5</td>\n",
       "      <td>1113.4</td>\n",
       "      <td>132.8</td>\n",
       "      <td>134.7</td>\n",
       "      <td>80.3</td>\n",
       "      <td>580.3</td>\n",
       "      <td>188.6</td>\n",
       "      <td>2050.7</td>\n",
       "    </tr>\n",
       "    <tr>\n",
       "      <th>4</th>\n",
       "      <td>4481649065_J</td>\n",
       "      <td>1</td>\n",
       "      <td>4796.8</td>\n",
       "      <td>8585.1</td>\n",
       "      <td>79.1</td>\n",
       "      <td>69.4</td>\n",
       "      <td>1035.1</td>\n",
       "      <td>73.1</td>\n",
       "      <td>82.3</td>\n",
       "      <td>74.1</td>\n",
       "      <td>...</td>\n",
       "      <td>3436.8</td>\n",
       "      <td>93.4</td>\n",
       "      <td>982.6</td>\n",
       "      <td>1038.2</td>\n",
       "      <td>76.9</td>\n",
       "      <td>93.6</td>\n",
       "      <td>83.4</td>\n",
       "      <td>743.1</td>\n",
       "      <td>196.6</td>\n",
       "      <td>1871.2</td>\n",
       "    </tr>\n",
       "  </tbody>\n",
       "</table>\n",
       "<p>5 rows × 60 columns</p>\n",
       "</div>"
      ],
      "text/plain": [
       "             ID  survivor    DEFA4   CD163  PER1  RGS1   HIF1A  SEPP1  \\\n",
       "0  4481649065_F         0    515.2   993.1  68.4  73.9   338.3   64.1   \n",
       "1  4481649065_G         0   9787.2   219.9  82.7  68.1   579.1   72.8   \n",
       "2  4481649065_H         0  12085.3   658.9  83.7  75.5   715.5   84.6   \n",
       "3  4481649065_I         0   8872.2  2301.8  85.7  86.3   521.8   88.1   \n",
       "4  4481649065_J         1   4796.8  8585.1  79.1  69.4  1035.1   73.1   \n",
       "\n",
       "   C11orf74   CIT  ...    CST3  CBFA2T3  RCBTB2  CX3CR1    CD5  MTMR11  \\\n",
       "0      66.1  60.6  ...  2920.8     72.9   274.5   327.4   84.1    81.7   \n",
       "1      83.3  56.3  ...  3363.6     66.2   449.9   505.6  112.2    89.1   \n",
       "2      87.4  57.8  ...  5333.1     83.7   707.9  1827.0  196.5    94.4   \n",
       "3      97.5  69.8  ...  6754.4     76.1   345.5  1113.4  132.8   134.7   \n",
       "4      82.3  74.1  ...  3436.8     93.4   982.6  1038.2   76.9    93.6   \n",
       "\n",
       "   CLEC10A    EMR3  DHRS7B  CEACAM8  \n",
       "0     63.5   917.3   112.2    500.3  \n",
       "1     64.1   752.1   135.0   4755.9  \n",
       "2     84.1  1098.6   221.0   5049.6  \n",
       "3     80.3   580.3   188.6   2050.7  \n",
       "4     83.4   743.1   196.6   1871.2  \n",
       "\n",
       "[5 rows x 60 columns]"
      ]
     },
     "execution_count": 117,
     "metadata": {},
     "output_type": "execute_result"
    }
   ],
   "source": [
    "gse54514 = pd.read_csv('../summary_data/expression_data/symb_gse54514.tsv', sep = '\\t', encoding=\"ISO-8859-1\")\n",
    "gse54514.head()"
   ]
  },
  {
   "cell_type": "code",
   "execution_count": 118,
   "metadata": {},
   "outputs": [],
   "source": [
    "X = gse54514[['DEFA4','CD163','PER1','RGS1','HIF1A','SEPP1','C11orf74','CIT','CFD','DDIT4','IFI27','IL1R2',\n",
    "                'IL8','MAFF','OCLN','B4GALT4','BPI','CD24','CEP55','CTSG',\n",
    "               'G0S2','MPO','MT1G','NDUFV2','PAM','PSMA6','TRIB1','CKS2','MKI67','POLD3',\n",
    "               'PLK1','LY86','TST','OR52R1','KCNJ2','AIM2','APH1A','CCR2','EIF5A',\n",
    "               'GSTM1','HIST1H3H','NT5E','RAB40B','VNN3','ABCB4','CTSS','IKZF2','TGFBI',\n",
    "               'CST3','CBFA2T3','RCBTB2','CX3CR1','CD5','MTMR11','CLEC10A',\n",
    "               'EMR3','DHRS7B','CEACAM8']]\n",
    "y = gse54514['survivor']"
   ]
  },
  {
   "cell_type": "code",
   "execution_count": 119,
   "metadata": {},
   "outputs": [],
   "source": [
    "X_train,X_test, y_train,y_test = train_test_split(X,y,test_size=0.5,random_state=0)"
   ]
  },
  {
   "cell_type": "code",
   "execution_count": 120,
   "metadata": {},
   "outputs": [
    {
     "name": "stderr",
     "output_type": "stream",
     "text": [
      "//anaconda3/lib/python3.7/site-packages/sklearn/linear_model/logistic.py:432: FutureWarning: Default solver will be changed to 'lbfgs' in 0.22. Specify a solver to silence this warning.\n",
      "  FutureWarning)\n"
     ]
    }
   ],
   "source": [
    "logistic_regression= LogisticRegression()\n",
    "logistic_regression.fit(X_train,y_train)\n",
    "\n",
    "y_pred=logistic_regression.predict(X_test)"
   ]
  },
  {
   "cell_type": "code",
   "execution_count": 121,
   "metadata": {},
   "outputs": [
    {
     "name": "stdout",
     "output_type": "stream",
     "text": [
      "              precision    recall  f1-score   support\n",
      "\n",
      "           0       0.87      0.84      0.85        49\n",
      "           1       0.53      0.60      0.56        15\n",
      "\n",
      "    accuracy                           0.78        64\n",
      "   macro avg       0.70      0.72      0.71        64\n",
      "weighted avg       0.79      0.78      0.79        64\n",
      "\n"
     ]
    }
   ],
   "source": [
    "print(classification_report(y_test, y_pred))"
   ]
  },
  {
   "cell_type": "code",
   "execution_count": 122,
   "metadata": {},
   "outputs": [
    {
     "data": {
      "text/plain": [
       "<matplotlib.axes._subplots.AxesSubplot at 0x1a252a4f60>"
      ]
     },
     "execution_count": 122,
     "metadata": {},
     "output_type": "execute_result"
    },
    {
     "data": {
      "image/png": "[encoded data removed]",
      "text/plain": [
       "<Figure size 432x288 with 2 Axes>"
      ]
     },
     "metadata": {
      "needs_background": "light"
     },
     "output_type": "display_data"
    }
   ],
   "source": [
    "confusion_matrix = pd.crosstab(y_test, y_pred, rownames=['Actual'], colnames=['Predicted'])\n",
    "sns.heatmap(confusion_matrix, annot=True)"
   ]
  },
  {
   "cell_type": "code",
   "execution_count": 123,
   "metadata": {},
   "outputs": [
    {
     "data": {
      "image/png": "[encoded data removed]",
      "text/plain": [
       "<Figure size 432x288 with 1 Axes>"
      ]
     },
     "metadata": {
      "needs_background": "light"
     },
     "output_type": "display_data"
    }
   ],
   "source": [
    "logit_roc_auc = roc_auc_score(y_test, logistic_regression.predict(X_test))\n",
    "fpr, tpr, thresholds = roc_curve(y_test, logistic_regression.predict_proba(X_test)[:,1])\n",
    "plt.figure()\n",
    "plt.plot(fpr, tpr, label='Logistic Regression (area = %0.2f)' % logit_roc_auc)\n",
    "plt.plot([0, 1], [0, 1],'r--')\n",
    "plt.xlim([0.0, 1.0])\n",
    "plt.ylim([0.0, 1.05])\n",
    "plt.xlabel('False Positive Rate')\n",
    "plt.ylabel('True Positive Rate')\n",
    "plt.title('Receiver operating characteristic')\n",
    "plt.legend(loc=\"lower right\")\n",
    "#plt.savefig('Log_ROC')\n",
    "plt.show()"
   ]
  },
  {
   "cell_type": "code",
   "execution_count": 124,
   "metadata": {},
   "outputs": [
    {
     "data": {
      "text/html": [
       "<div>\n",
       "<style scoped>\n",
       "    .dataframe tbody tr th:only-of-type {\n",
       "        vertical-align: middle;\n",
       "    }\n",
       "\n",
       "    .dataframe tbody tr th {\n",
       "        vertical-align: top;\n",
       "    }\n",
       "\n",
       "    .dataframe thead th {\n",
       "        text-align: right;\n",
       "    }\n",
       "</style>\n",
       "<table border=\"1\" class=\"dataframe\">\n",
       "  <thead>\n",
       "    <tr style=\"text-align: right;\">\n",
       "      <th></th>\n",
       "      <th>ID</th>\n",
       "      <th>survivor</th>\n",
       "      <th>DEFA4</th>\n",
       "      <th>CD163</th>\n",
       "      <th>PER1</th>\n",
       "      <th>RGS1</th>\n",
       "      <th>HIF1A</th>\n",
       "      <th>SEPP1</th>\n",
       "      <th>C11orf74</th>\n",
       "      <th>CIT</th>\n",
       "      <th>...</th>\n",
       "      <th>CST3</th>\n",
       "      <th>CBFA2T3</th>\n",
       "      <th>RCBTB2</th>\n",
       "      <th>CX3CR1</th>\n",
       "      <th>CD5</th>\n",
       "      <th>MTMR11</th>\n",
       "      <th>CLEC10A</th>\n",
       "      <th>EMR3</th>\n",
       "      <th>DHRS7B</th>\n",
       "      <th>CEACAM8</th>\n",
       "    </tr>\n",
       "  </thead>\n",
       "  <tbody>\n",
       "    <tr>\n",
       "      <th>0</th>\n",
       "      <td>GSM1561864</td>\n",
       "      <td>0</td>\n",
       "      <td>9.040063</td>\n",
       "      <td>9.213311</td>\n",
       "      <td>none</td>\n",
       "      <td>3.705034</td>\n",
       "      <td>12.220159</td>\n",
       "      <td>none</td>\n",
       "      <td>none</td>\n",
       "      <td>5.630690</td>\n",
       "      <td>...</td>\n",
       "      <td>11.092357</td>\n",
       "      <td>7.607635</td>\n",
       "      <td>9.822003</td>\n",
       "      <td>9.662797</td>\n",
       "      <td>6.786981</td>\n",
       "      <td>7.202566</td>\n",
       "      <td>5.443433</td>\n",
       "      <td>none</td>\n",
       "      <td>8.746915</td>\n",
       "      <td>8.444191</td>\n",
       "    </tr>\n",
       "    <tr>\n",
       "      <th>1</th>\n",
       "      <td>GSM1561868</td>\n",
       "      <td>0</td>\n",
       "      <td>6.329605</td>\n",
       "      <td>10.875430</td>\n",
       "      <td>none</td>\n",
       "      <td>3.745710</td>\n",
       "      <td>12.908742</td>\n",
       "      <td>none</td>\n",
       "      <td>none</td>\n",
       "      <td>6.075940</td>\n",
       "      <td>...</td>\n",
       "      <td>11.427507</td>\n",
       "      <td>7.256875</td>\n",
       "      <td>9.992983</td>\n",
       "      <td>11.264253</td>\n",
       "      <td>6.644409</td>\n",
       "      <td>8.255835</td>\n",
       "      <td>6.752779</td>\n",
       "      <td>none</td>\n",
       "      <td>8.599961</td>\n",
       "      <td>8.818918</td>\n",
       "    </tr>\n",
       "    <tr>\n",
       "      <th>2</th>\n",
       "      <td>GSM1561869</td>\n",
       "      <td>0</td>\n",
       "      <td>8.552495</td>\n",
       "      <td>12.256743</td>\n",
       "      <td>none</td>\n",
       "      <td>3.788301</td>\n",
       "      <td>12.353026</td>\n",
       "      <td>none</td>\n",
       "      <td>none</td>\n",
       "      <td>5.967595</td>\n",
       "      <td>...</td>\n",
       "      <td>11.840552</td>\n",
       "      <td>6.718579</td>\n",
       "      <td>10.237344</td>\n",
       "      <td>10.221522</td>\n",
       "      <td>6.345829</td>\n",
       "      <td>7.628293</td>\n",
       "      <td>6.584455</td>\n",
       "      <td>none</td>\n",
       "      <td>8.564067</td>\n",
       "      <td>10.333119</td>\n",
       "    </tr>\n",
       "    <tr>\n",
       "      <th>3</th>\n",
       "      <td>GSM1561871</td>\n",
       "      <td>0</td>\n",
       "      <td>7.038598</td>\n",
       "      <td>9.036980</td>\n",
       "      <td>none</td>\n",
       "      <td>3.940479</td>\n",
       "      <td>11.273639</td>\n",
       "      <td>none</td>\n",
       "      <td>none</td>\n",
       "      <td>6.030815</td>\n",
       "      <td>...</td>\n",
       "      <td>10.354816</td>\n",
       "      <td>8.050349</td>\n",
       "      <td>9.466296</td>\n",
       "      <td>10.510672</td>\n",
       "      <td>7.722914</td>\n",
       "      <td>6.711019</td>\n",
       "      <td>5.858341</td>\n",
       "      <td>none</td>\n",
       "      <td>8.117050</td>\n",
       "      <td>9.615388</td>\n",
       "    </tr>\n",
       "    <tr>\n",
       "      <th>4</th>\n",
       "      <td>GSM1561872</td>\n",
       "      <td>0</td>\n",
       "      <td>5.509972</td>\n",
       "      <td>10.468945</td>\n",
       "      <td>none</td>\n",
       "      <td>3.803766</td>\n",
       "      <td>12.294097</td>\n",
       "      <td>none</td>\n",
       "      <td>none</td>\n",
       "      <td>6.187876</td>\n",
       "      <td>...</td>\n",
       "      <td>11.173292</td>\n",
       "      <td>7.946358</td>\n",
       "      <td>9.934586</td>\n",
       "      <td>11.574578</td>\n",
       "      <td>7.097569</td>\n",
       "      <td>8.170062</td>\n",
       "      <td>6.407922</td>\n",
       "      <td>none</td>\n",
       "      <td>8.223902</td>\n",
       "      <td>5.911354</td>\n",
       "    </tr>\n",
       "  </tbody>\n",
       "</table>\n",
       "<p>5 rows × 60 columns</p>\n",
       "</div>"
      ],
      "text/plain": [
       "           ID  survivor     DEFA4      CD163  PER1      RGS1      HIF1A SEPP1  \\\n",
       "0  GSM1561864         0  9.040063   9.213311  none  3.705034  12.220159  none   \n",
       "1  GSM1561868         0  6.329605  10.875430  none  3.745710  12.908742  none   \n",
       "2  GSM1561869         0  8.552495  12.256743  none  3.788301  12.353026  none   \n",
       "3  GSM1561871         0  7.038598   9.036980  none  3.940479  11.273639  none   \n",
       "4  GSM1561872         0  5.509972  10.468945  none  3.803766  12.294097  none   \n",
       "\n",
       "  C11orf74       CIT  ...       CST3   CBFA2T3     RCBTB2     CX3CR1  \\\n",
       "0     none  5.630690  ...  11.092357  7.607635   9.822003   9.662797   \n",
       "1     none  6.075940  ...  11.427507  7.256875   9.992983  11.264253   \n",
       "2     none  5.967595  ...  11.840552  6.718579  10.237344  10.221522   \n",
       "3     none  6.030815  ...  10.354816  8.050349   9.466296  10.510672   \n",
       "4     none  6.187876  ...  11.173292  7.946358   9.934586  11.574578   \n",
       "\n",
       "        CD5    MTMR11   CLEC10A  EMR3    DHRS7B    CEACAM8  \n",
       "0  6.786981  7.202566  5.443433  none  8.746915   8.444191  \n",
       "1  6.644409  8.255835  6.752779  none  8.599961   8.818918  \n",
       "2  6.345829  7.628293  6.584455  none  8.564067  10.333119  \n",
       "3  7.722914  6.711019  5.858341  none  8.117050   9.615388  \n",
       "4  7.097569  8.170062  6.407922  none  8.223902   5.911354  \n",
       "\n",
       "[5 rows x 60 columns]"
      ]
     },
     "execution_count": 124,
     "metadata": {},
     "output_type": "execute_result"
    }
   ],
   "source": [
    "gse63990 = pd.read_csv('../summary_data/expression_data/symb_gse63990.tsv', sep = '\\t', encoding=\"ISO-8859-1\")\n",
    "gse63990.head()"
   ]
  },
  {
   "cell_type": "code",
   "execution_count": 125,
   "metadata": {},
   "outputs": [],
   "source": [
    "X = gse63990[['DEFA4','CD163','RGS1','HIF1A','CIT','CFD','DDIT4','IFI27','IL1R2',\n",
    "                'MAFF','OCLN','B4GALT4','BPI','CEP55','CTSG',\n",
    "               'G0S2','MPO','MT1G','PAM','TRIB1','MKI67','POLD3',\n",
    "               'PLK1','LY86','TST','KCNJ2','AIM2','APH1A','CCR2','EIF5A',\n",
    "               'GSTM1','NT5E','RAB40B','VNN3','ABCB4','CTSS','IKZF2','TGFBI',\n",
    "               'CST3','CBFA2T3','RCBTB2','CX3CR1','CD5','MTMR11','CLEC10A',\n",
    "               'DHRS7B','CEACAM8']]\n",
    "y = gse63990['survivor']"
   ]
  },
  {
   "cell_type": "code",
   "execution_count": 126,
   "metadata": {},
   "outputs": [],
   "source": [
    "X_train,X_test, y_train,y_test = train_test_split(X,y,test_size=0.5,random_state=0)"
   ]
  },
  {
   "cell_type": "code",
   "execution_count": 127,
   "metadata": {},
   "outputs": [
    {
     "name": "stderr",
     "output_type": "stream",
     "text": [
      "//anaconda3/lib/python3.7/site-packages/sklearn/linear_model/logistic.py:432: FutureWarning: Default solver will be changed to 'lbfgs' in 0.22. Specify a solver to silence this warning.\n",
      "  FutureWarning)\n"
     ]
    }
   ],
   "source": [
    "logistic_regression= LogisticRegression()\n",
    "logistic_regression.fit(X_train,y_train)\n",
    "\n",
    "y_pred=logistic_regression.predict(X_test)"
   ]
  },
  {
   "cell_type": "code",
   "execution_count": 128,
   "metadata": {},
   "outputs": [
    {
     "name": "stdout",
     "output_type": "stream",
     "text": [
      "              precision    recall  f1-score   support\n",
      "\n",
      "           0       0.94      0.97      0.95        32\n",
      "           1       0.50      0.33      0.40         3\n",
      "\n",
      "    accuracy                           0.91        35\n",
      "   macro avg       0.72      0.65      0.68        35\n",
      "weighted avg       0.90      0.91      0.91        35\n",
      "\n"
     ]
    }
   ],
   "source": [
    "print(classification_report(y_test, y_pred))"
   ]
  },
  {
   "cell_type": "code",
   "execution_count": 129,
   "metadata": {},
   "outputs": [
    {
     "data": {
      "text/plain": [
       "<matplotlib.axes._subplots.AxesSubplot at 0x1a24bb80b8>"
      ]
     },
     "execution_count": 129,
     "metadata": {},
     "output_type": "execute_result"
    },
    {
     "data": {
      "image/png": "[encoded data removed]",
      "text/plain": [
       "<Figure size 432x288 with 2 Axes>"
      ]
     },
     "metadata": {
      "needs_background": "light"
     },
     "output_type": "display_data"
    }
   ],
   "source": [
    "confusion_matrix = pd.crosstab(y_test, y_pred, rownames=['Actual'], colnames=['Predicted'])\n",
    "sns.heatmap(confusion_matrix, annot=True)"
   ]
  },
  {
   "cell_type": "code",
   "execution_count": 130,
   "metadata": {},
   "outputs": [
    {
     "data": {
      "image/png": "[encoded data removed]",
      "text/plain": [
       "<Figure size 432x288 with 1 Axes>"
      ]
     },
     "metadata": {
      "needs_background": "light"
     },
     "output_type": "display_data"
    }
   ],
   "source": [
    "logit_roc_auc = roc_auc_score(y_test, logistic_regression.predict(X_test))\n",
    "fpr, tpr, thresholds = roc_curve(y_test, logistic_regression.predict_proba(X_test)[:,1])\n",
    "plt.figure()\n",
    "plt.plot(fpr, tpr, label='Logistic Regression (area = %0.2f)' % logit_roc_auc)\n",
    "plt.plot([0, 1], [0, 1],'r--')\n",
    "plt.xlim([0.0, 1.0])\n",
    "plt.ylim([0.0, 1.05])\n",
    "plt.xlabel('False Positive Rate')\n",
    "plt.ylabel('True Positive Rate')\n",
    "plt.title('Receiver operating characteristic')\n",
    "plt.legend(loc=\"lower right\")\n",
    "#plt.savefig('Log_ROC')\n",
    "plt.show()"
   ]
  },
  {
   "cell_type": "code",
   "execution_count": 131,
   "metadata": {},
   "outputs": [
    {
     "data": {
      "text/html": [
       "<div>\n",
       "<style scoped>\n",
       "    .dataframe tbody tr th:only-of-type {\n",
       "        vertical-align: middle;\n",
       "    }\n",
       "\n",
       "    .dataframe tbody tr th {\n",
       "        vertical-align: top;\n",
       "    }\n",
       "\n",
       "    .dataframe thead th {\n",
       "        text-align: right;\n",
       "    }\n",
       "</style>\n",
       "<table border=\"1\" class=\"dataframe\">\n",
       "  <thead>\n",
       "    <tr style=\"text-align: right;\">\n",
       "      <th></th>\n",
       "      <th>ID</th>\n",
       "      <th>survivor</th>\n",
       "      <th>DEFA4</th>\n",
       "      <th>CD163</th>\n",
       "      <th>PER1</th>\n",
       "      <th>RGS1</th>\n",
       "      <th>HIF1A</th>\n",
       "      <th>SEPP1</th>\n",
       "      <th>C11orf74</th>\n",
       "      <th>CIT</th>\n",
       "      <th>...</th>\n",
       "      <th>CST3</th>\n",
       "      <th>CBFA2T3</th>\n",
       "      <th>RCBTB2</th>\n",
       "      <th>CX3CR1</th>\n",
       "      <th>CD5</th>\n",
       "      <th>MTMR11</th>\n",
       "      <th>CLEC10A</th>\n",
       "      <th>EMR3</th>\n",
       "      <th>DHRS7B</th>\n",
       "      <th>CEACAM8</th>\n",
       "    </tr>\n",
       "  </thead>\n",
       "  <tbody>\n",
       "    <tr>\n",
       "      <th>0</th>\n",
       "      <td>GSM1633778</td>\n",
       "      <td>1</td>\n",
       "      <td>7.039858</td>\n",
       "      <td>7.077832</td>\n",
       "      <td>6.071056</td>\n",
       "      <td>4.350045</td>\n",
       "      <td>9.794215</td>\n",
       "      <td>none</td>\n",
       "      <td>none</td>\n",
       "      <td>5.372993</td>\n",
       "      <td>...</td>\n",
       "      <td>8.656699</td>\n",
       "      <td>7.144242</td>\n",
       "      <td>7.856828</td>\n",
       "      <td>7.751036</td>\n",
       "      <td>6.873610</td>\n",
       "      <td>6.453090</td>\n",
       "      <td>5.919533</td>\n",
       "      <td>none</td>\n",
       "      <td>6.912419</td>\n",
       "      <td>6.997732</td>\n",
       "    </tr>\n",
       "    <tr>\n",
       "      <th>1</th>\n",
       "      <td>GSM1633780</td>\n",
       "      <td>1</td>\n",
       "      <td>7.371770</td>\n",
       "      <td>8.058715</td>\n",
       "      <td>6.201991</td>\n",
       "      <td>4.581427</td>\n",
       "      <td>9.516381</td>\n",
       "      <td>none</td>\n",
       "      <td>none</td>\n",
       "      <td>5.288966</td>\n",
       "      <td>...</td>\n",
       "      <td>8.703923</td>\n",
       "      <td>6.640726</td>\n",
       "      <td>7.132981</td>\n",
       "      <td>6.622905</td>\n",
       "      <td>6.482016</td>\n",
       "      <td>6.307831</td>\n",
       "      <td>5.607171</td>\n",
       "      <td>none</td>\n",
       "      <td>6.392712</td>\n",
       "      <td>7.489678</td>\n",
       "    </tr>\n",
       "    <tr>\n",
       "      <th>2</th>\n",
       "      <td>GSM1633781</td>\n",
       "      <td>1</td>\n",
       "      <td>10.603561</td>\n",
       "      <td>8.146085</td>\n",
       "      <td>6.306313</td>\n",
       "      <td>4.088722</td>\n",
       "      <td>9.577282</td>\n",
       "      <td>none</td>\n",
       "      <td>none</td>\n",
       "      <td>5.329123</td>\n",
       "      <td>...</td>\n",
       "      <td>8.461421</td>\n",
       "      <td>6.667040</td>\n",
       "      <td>8.304852</td>\n",
       "      <td>8.076417</td>\n",
       "      <td>6.738872</td>\n",
       "      <td>6.293269</td>\n",
       "      <td>5.536844</td>\n",
       "      <td>none</td>\n",
       "      <td>6.709960</td>\n",
       "      <td>7.742219</td>\n",
       "    </tr>\n",
       "    <tr>\n",
       "      <th>3</th>\n",
       "      <td>GSM1633782</td>\n",
       "      <td>0</td>\n",
       "      <td>8.564759</td>\n",
       "      <td>9.400548</td>\n",
       "      <td>6.475958</td>\n",
       "      <td>4.443354</td>\n",
       "      <td>9.996865</td>\n",
       "      <td>none</td>\n",
       "      <td>none</td>\n",
       "      <td>5.524450</td>\n",
       "      <td>...</td>\n",
       "      <td>8.350917</td>\n",
       "      <td>6.909059</td>\n",
       "      <td>8.494363</td>\n",
       "      <td>6.095450</td>\n",
       "      <td>6.608682</td>\n",
       "      <td>6.513075</td>\n",
       "      <td>6.073497</td>\n",
       "      <td>none</td>\n",
       "      <td>7.440486</td>\n",
       "      <td>7.017384</td>\n",
       "    </tr>\n",
       "    <tr>\n",
       "      <th>4</th>\n",
       "      <td>GSM1633783</td>\n",
       "      <td>0</td>\n",
       "      <td>9.536475</td>\n",
       "      <td>8.028676</td>\n",
       "      <td>6.088349</td>\n",
       "      <td>4.146935</td>\n",
       "      <td>9.278947</td>\n",
       "      <td>none</td>\n",
       "      <td>none</td>\n",
       "      <td>5.533523</td>\n",
       "      <td>...</td>\n",
       "      <td>8.674057</td>\n",
       "      <td>6.933557</td>\n",
       "      <td>8.629136</td>\n",
       "      <td>7.742155</td>\n",
       "      <td>6.887240</td>\n",
       "      <td>6.582791</td>\n",
       "      <td>5.773218</td>\n",
       "      <td>none</td>\n",
       "      <td>7.221320</td>\n",
       "      <td>8.634133</td>\n",
       "    </tr>\n",
       "  </tbody>\n",
       "</table>\n",
       "<p>5 rows × 60 columns</p>\n",
       "</div>"
      ],
      "text/plain": [
       "           ID  survivor      DEFA4     CD163      PER1      RGS1     HIF1A  \\\n",
       "0  GSM1633778         1   7.039858  7.077832  6.071056  4.350045  9.794215   \n",
       "1  GSM1633780         1   7.371770  8.058715  6.201991  4.581427  9.516381   \n",
       "2  GSM1633781         1  10.603561  8.146085  6.306313  4.088722  9.577282   \n",
       "3  GSM1633782         0   8.564759  9.400548  6.475958  4.443354  9.996865   \n",
       "4  GSM1633783         0   9.536475  8.028676  6.088349  4.146935  9.278947   \n",
       "\n",
       "  SEPP1 C11orf74       CIT  ...      CST3   CBFA2T3    RCBTB2    CX3CR1  \\\n",
       "0  none     none  5.372993  ...  8.656699  7.144242  7.856828  7.751036   \n",
       "1  none     none  5.288966  ...  8.703923  6.640726  7.132981  6.622905   \n",
       "2  none     none  5.329123  ...  8.461421  6.667040  8.304852  8.076417   \n",
       "3  none     none  5.524450  ...  8.350917  6.909059  8.494363  6.095450   \n",
       "4  none     none  5.533523  ...  8.674057  6.933557  8.629136  7.742155   \n",
       "\n",
       "        CD5    MTMR11   CLEC10A  EMR3    DHRS7B   CEACAM8  \n",
       "0  6.873610  6.453090  5.919533  none  6.912419  6.997732  \n",
       "1  6.482016  6.307831  5.607171  none  6.392712  7.489678  \n",
       "2  6.738872  6.293269  5.536844  none  6.709960  7.742219  \n",
       "3  6.608682  6.513075  6.073497  none  7.440486  7.017384  \n",
       "4  6.887240  6.582791  5.773218  none  7.221320  8.634133  \n",
       "\n",
       "[5 rows x 60 columns]"
      ]
     },
     "execution_count": 131,
     "metadata": {},
     "output_type": "execute_result"
    }
   ],
   "source": [
    "gse66890 = pd.read_csv('../summary_data/expression_data/symb_gse66890.tsv', sep = '\\t', encoding=\"ISO-8859-1\")\n",
    "gse66890.head()"
   ]
  },
  {
   "cell_type": "code",
   "execution_count": 132,
   "metadata": {},
   "outputs": [],
   "source": [
    "X = gse66890[['DEFA4','CD163','PER1','RGS1','HIF1A','CIT','CFD','DDIT4','IFI27','IL1R2',\n",
    "                'MAFF','OCLN','B4GALT4','BPI','CD24','CEP55','CTSG',\n",
    "               'G0S2','MPO','MT1G','NDUFV2','PAM','TRIB1','CKS2','MKI67','POLD3',\n",
    "               'LY86','TST','OR52R1','KCNJ2','AIM2','APH1A','CCR2','EIF5A',\n",
    "               'GSTM1','NT5E','RAB40B','VNN3','ABCB4','CTSS','IKZF2','TGFBI',\n",
    "               'CST3','CBFA2T3','RCBTB2','CX3CR1','CD5','MTMR11','CLEC10A',\n",
    "               'DHRS7B','CEACAM8']]\n",
    "y = gse66890['survivor']"
   ]
  },
  {
   "cell_type": "code",
   "execution_count": 133,
   "metadata": {},
   "outputs": [],
   "source": [
    "X_train,X_test, y_train,y_test = train_test_split(X,y,test_size=0.5,random_state=0)"
   ]
  },
  {
   "cell_type": "code",
   "execution_count": 134,
   "metadata": {},
   "outputs": [
    {
     "name": "stderr",
     "output_type": "stream",
     "text": [
      "//anaconda3/lib/python3.7/site-packages/sklearn/linear_model/logistic.py:432: FutureWarning: Default solver will be changed to 'lbfgs' in 0.22. Specify a solver to silence this warning.\n",
      "  FutureWarning)\n"
     ]
    }
   ],
   "source": [
    "logistic_regression= LogisticRegression()\n",
    "logistic_regression.fit(X_train,y_train)\n",
    "\n",
    "y_pred=logistic_regression.predict(X_test)"
   ]
  },
  {
   "cell_type": "code",
   "execution_count": 135,
   "metadata": {},
   "outputs": [
    {
     "name": "stdout",
     "output_type": "stream",
     "text": [
      "              precision    recall  f1-score   support\n",
      "\n",
      "           0       0.83      0.95      0.89        21\n",
      "           1       0.80      0.50      0.62         8\n",
      "\n",
      "    accuracy                           0.83        29\n",
      "   macro avg       0.82      0.73      0.75        29\n",
      "weighted avg       0.82      0.83      0.81        29\n",
      "\n"
     ]
    }
   ],
   "source": [
    "print(classification_report(y_test, y_pred))"
   ]
  },
  {
   "cell_type": "code",
   "execution_count": 136,
   "metadata": {},
   "outputs": [
    {
     "data": {
      "text/plain": [
       "<matplotlib.axes._subplots.AxesSubplot at 0x1a24e21940>"
      ]
     },
     "execution_count": 136,
     "metadata": {},
     "output_type": "execute_result"
    },
    {
     "data": {
      "image/png": "[encoded data removed]",
      "text/plain": [
       "<Figure size 432x288 with 2 Axes>"
      ]
     },
     "metadata": {
      "needs_background": "light"
     },
     "output_type": "display_data"
    }
   ],
   "source": [
    "confusion_matrix = pd.crosstab(y_test, y_pred, rownames=['Actual'], colnames=['Predicted'])\n",
    "sns.heatmap(confusion_matrix, annot=True)"
   ]
  },
  {
   "cell_type": "code",
   "execution_count": 137,
   "metadata": {},
   "outputs": [
    {
     "data": {
      "image/png": "[encoded data removed]",
      "text/plain": [
       "<Figure size 432x288 with 1 Axes>"
      ]
     },
     "metadata": {
      "needs_background": "light"
     },
     "output_type": "display_data"
    }
   ],
   "source": [
    "logit_roc_auc = roc_auc_score(y_test, logistic_regression.predict(X_test))\n",
    "fpr, tpr, thresholds = roc_curve(y_test, logistic_regression.predict_proba(X_test)[:,1])\n",
    "plt.figure()\n",
    "plt.plot(fpr, tpr, label='Logistic Regression (area = %0.2f)' % logit_roc_auc)\n",
    "plt.plot([0, 1], [0, 1],'r--')\n",
    "plt.xlim([0.0, 1.0])\n",
    "plt.ylim([0.0, 1.05])\n",
    "plt.xlabel('False Positive Rate')\n",
    "plt.ylabel('True Positive Rate')\n",
    "plt.title('Receiver operating characteristic')\n",
    "plt.legend(loc=\"lower right\")\n",
    "#plt.savefig('Log_ROC')\n",
    "plt.show()"
   ]
  },
  {
   "cell_type": "code",
   "execution_count": 150,
   "metadata": {},
   "outputs": [
    {
     "data": {
      "text/plain": [
       "array([[ 0.16470141, -0.07635186, -0.05162572,  0.36133278,  0.0414342 ,\n",
       "         0.00666473,  0.17519215,  0.01042572,  0.08380574, -0.29954092,\n",
       "        -0.1940042 , -0.00348054,  0.02109233,  0.00795279,  0.02409684,\n",
       "        -0.21259684, -0.12436681,  0.03383803, -0.01318742,  0.05453279,\n",
       "         0.09113002, -0.28667184, -0.02049744,  0.07195575,  0.00192859,\n",
       "         0.00456477, -0.05145646, -0.10969983,  0.08513884,  0.06645383,\n",
       "        -0.349111  ,  0.01313439,  0.07770527,  0.04211393, -0.15967424,\n",
       "        -0.03759579, -0.00216918,  0.05278069, -0.01962552, -0.03847233,\n",
       "        -0.01416263,  0.16291741,  0.0032209 , -0.27638376, -0.08533428,\n",
       "         0.13341078, -0.11782831, -0.06138748,  0.06225114, -0.01016757,\n",
       "         0.00884328, -0.08231781]])"
      ]
     },
     "execution_count": 150,
     "metadata": {},
     "output_type": "execute_result"
    }
   ],
   "source": [
    "logistic_regression.coef_"
   ]
  },
  {
   "cell_type": "code",
   "execution_count": 151,
   "metadata": {},
   "outputs": [
    {
     "data": {
      "text/plain": [
       "array([-0.04784919])"
      ]
     },
     "execution_count": 151,
     "metadata": {},
     "output_type": "execute_result"
    }
   ],
   "source": [
    "logistic_regression.intercept_"
   ]
  },
  {
   "cell_type": "code",
   "execution_count": 147,
   "metadata": {},
   "outputs": [
    {
     "name": "stdout",
     "output_type": "stream",
     "text": [
      "Accuracy:  0.625\n"
     ]
    }
   ],
   "source": [
    "print('Accuracy: ',metrics.accuracy_score(y_test, y_pred))\n",
    "plt.show()"
   ]
  },
  {
   "cell_type": "code",
   "execution_count": null,
   "metadata": {},
   "outputs": [],
   "source": []
  }
 ],
 "metadata": {
  "kernelspec": {
   "display_name": "Python 3",
   "language": "python",
   "name": "python3"
  },
  "language_info": {
   "codemirror_mode": {
    "name": "ipython",
    "version": 3
   },
   "file_extension": ".py",
   "mimetype": "text/x-python",
   "name": "python",
   "nbconvert_exporter": "python",
   "pygments_lexer": "ipython3",
   "version": "3.7.3"
  }
 },
 "nbformat": 4,
 "nbformat_minor": 4
}
