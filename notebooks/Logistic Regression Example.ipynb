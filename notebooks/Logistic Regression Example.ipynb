{
 "cells": [
  {
   "cell_type": "code",
   "execution_count": 1,
   "metadata": {},
   "outputs": [],
   "source": [
    "import pandas as pd\n",
    "\n",
    "import seaborn as sns\n",
    "import matplotlib.pyplot as plt\n",
    "\n",
    "from sklearn.model_selection import train_test_split\n",
    "from sklearn.linear_model import LogisticRegression\n",
    "from sklearn.metrics import classification_report\n",
    "from sklearn import metrics"
   ]
  },
  {
   "cell_type": "code",
   "execution_count": 71,
   "metadata": {},
   "outputs": [
    {
     "data": {
      "text/html": [
       "<div>\n",
       "<style scoped>\n",
       "    .dataframe tbody tr th:only-of-type {\n",
       "        vertical-align: middle;\n",
       "    }\n",
       "\n",
       "    .dataframe tbody tr th {\n",
       "        vertical-align: top;\n",
       "    }\n",
       "\n",
       "    .dataframe thead th {\n",
       "        text-align: right;\n",
       "    }\n",
       "</style>\n",
       "<table border=\"1\" class=\"dataframe\">\n",
       "  <thead>\n",
       "    <tr style=\"text-align: right;\">\n",
       "      <th></th>\n",
       "      <th>accession</th>\n",
       "      <th>geo</th>\n",
       "      <th>type</th>\n",
       "      <th>Survivor</th>\n",
       "      <th>age</th>\n",
       "      <th>sex</th>\n",
       "      <th>score_type</th>\n",
       "      <th>severity_score</th>\n",
       "      <th>B_cells</th>\n",
       "      <th>B_cells_naive</th>\n",
       "      <th>...</th>\n",
       "      <th>Macrophages</th>\n",
       "      <th>Macrophages_M0</th>\n",
       "      <th>Macrophages_M1</th>\n",
       "      <th>Macrophages_M2</th>\n",
       "      <th>Dendritic_cells_resting</th>\n",
       "      <th>Dendritic_cells_activated</th>\n",
       "      <th>Mast_cells_resting</th>\n",
       "      <th>Mast_cells_activated</th>\n",
       "      <th>Eosinophils</th>\n",
       "      <th>Neutrophils</th>\n",
       "    </tr>\n",
       "  </thead>\n",
       "  <tbody>\n",
       "    <tr>\n",
       "      <th>0</th>\n",
       "      <td>E-MEXP-3567</td>\n",
       "      <td>X104</td>\n",
       "      <td>training</td>\n",
       "      <td>0</td>\n",
       "      <td>0.5</td>\n",
       "      <td>0.0</td>\n",
       "      <td>NaN</td>\n",
       "      <td>NaN</td>\n",
       "      <td>0.13104</td>\n",
       "      <td>0.06322</td>\n",
       "      <td>...</td>\n",
       "      <td>0.10335</td>\n",
       "      <td>0.09282</td>\n",
       "      <td>0.0</td>\n",
       "      <td>0.01053</td>\n",
       "      <td>0.0</td>\n",
       "      <td>0.0</td>\n",
       "      <td>0.0</td>\n",
       "      <td>0.0</td>\n",
       "      <td>0.0</td>\n",
       "      <td>0.31637</td>\n",
       "    </tr>\n",
       "    <tr>\n",
       "      <th>1</th>\n",
       "      <td>E-MEXP-3567</td>\n",
       "      <td>X105</td>\n",
       "      <td>training</td>\n",
       "      <td>0</td>\n",
       "      <td>0.5</td>\n",
       "      <td>0.0</td>\n",
       "      <td>NaN</td>\n",
       "      <td>NaN</td>\n",
       "      <td>0.15410</td>\n",
       "      <td>0.08319</td>\n",
       "      <td>...</td>\n",
       "      <td>0.25630</td>\n",
       "      <td>0.25630</td>\n",
       "      <td>0.0</td>\n",
       "      <td>0.00000</td>\n",
       "      <td>0.0</td>\n",
       "      <td>0.0</td>\n",
       "      <td>0.0</td>\n",
       "      <td>0.0</td>\n",
       "      <td>0.0</td>\n",
       "      <td>0.24822</td>\n",
       "    </tr>\n",
       "    <tr>\n",
       "      <th>2</th>\n",
       "      <td>E-MEXP-3567</td>\n",
       "      <td>X109</td>\n",
       "      <td>training</td>\n",
       "      <td>0</td>\n",
       "      <td>0.5</td>\n",
       "      <td>1.0</td>\n",
       "      <td>NaN</td>\n",
       "      <td>NaN</td>\n",
       "      <td>0.13124</td>\n",
       "      <td>0.08426</td>\n",
       "      <td>...</td>\n",
       "      <td>0.21885</td>\n",
       "      <td>0.21885</td>\n",
       "      <td>0.0</td>\n",
       "      <td>0.00000</td>\n",
       "      <td>0.0</td>\n",
       "      <td>0.0</td>\n",
       "      <td>0.0</td>\n",
       "      <td>0.0</td>\n",
       "      <td>0.0</td>\n",
       "      <td>0.24536</td>\n",
       "    </tr>\n",
       "    <tr>\n",
       "      <th>3</th>\n",
       "      <td>E-MEXP-3567</td>\n",
       "      <td>X115</td>\n",
       "      <td>training</td>\n",
       "      <td>1</td>\n",
       "      <td>0.5</td>\n",
       "      <td>0.0</td>\n",
       "      <td>NaN</td>\n",
       "      <td>NaN</td>\n",
       "      <td>0.15521</td>\n",
       "      <td>0.06117</td>\n",
       "      <td>...</td>\n",
       "      <td>0.11886</td>\n",
       "      <td>0.11886</td>\n",
       "      <td>0.0</td>\n",
       "      <td>0.00000</td>\n",
       "      <td>0.0</td>\n",
       "      <td>0.0</td>\n",
       "      <td>0.0</td>\n",
       "      <td>0.0</td>\n",
       "      <td>0.0</td>\n",
       "      <td>0.32486</td>\n",
       "    </tr>\n",
       "    <tr>\n",
       "      <th>4</th>\n",
       "      <td>E-MEXP-3567</td>\n",
       "      <td>X121</td>\n",
       "      <td>training</td>\n",
       "      <td>1</td>\n",
       "      <td>0.5</td>\n",
       "      <td>1.0</td>\n",
       "      <td>NaN</td>\n",
       "      <td>NaN</td>\n",
       "      <td>0.07203</td>\n",
       "      <td>0.05966</td>\n",
       "      <td>...</td>\n",
       "      <td>0.27913</td>\n",
       "      <td>0.27913</td>\n",
       "      <td>0.0</td>\n",
       "      <td>0.00000</td>\n",
       "      <td>0.0</td>\n",
       "      <td>0.0</td>\n",
       "      <td>0.0</td>\n",
       "      <td>0.0</td>\n",
       "      <td>0.0</td>\n",
       "      <td>0.31262</td>\n",
       "    </tr>\n",
       "  </tbody>\n",
       "</table>\n",
       "<p>5 rows × 35 columns</p>\n",
       "</div>"
      ],
      "text/plain": [
       "     accession   geo      type  Survivor  age  sex score_type  severity_score  \\\n",
       "0  E-MEXP-3567  X104  training         0  0.5  0.0        NaN             NaN   \n",
       "1  E-MEXP-3567  X105  training         0  0.5  0.0        NaN             NaN   \n",
       "2  E-MEXP-3567  X109  training         0  0.5  1.0        NaN             NaN   \n",
       "3  E-MEXP-3567  X115  training         1  0.5  0.0        NaN             NaN   \n",
       "4  E-MEXP-3567  X121  training         1  0.5  1.0        NaN             NaN   \n",
       "\n",
       "   B_cells  B_cells_naive  ...  Macrophages  Macrophages_M0  Macrophages_M1  \\\n",
       "0  0.13104        0.06322  ...      0.10335         0.09282             0.0   \n",
       "1  0.15410        0.08319  ...      0.25630         0.25630             0.0   \n",
       "2  0.13124        0.08426  ...      0.21885         0.21885             0.0   \n",
       "3  0.15521        0.06117  ...      0.11886         0.11886             0.0   \n",
       "4  0.07203        0.05966  ...      0.27913         0.27913             0.0   \n",
       "\n",
       "   Macrophages_M2  Dendritic_cells_resting  Dendritic_cells_activated  \\\n",
       "0         0.01053                      0.0                        0.0   \n",
       "1         0.00000                      0.0                        0.0   \n",
       "2         0.00000                      0.0                        0.0   \n",
       "3         0.00000                      0.0                        0.0   \n",
       "4         0.00000                      0.0                        0.0   \n",
       "\n",
       "   Mast_cells_resting  Mast_cells_activated  Eosinophils  Neutrophils  \n",
       "0                 0.0                   0.0          0.0      0.31637  \n",
       "1                 0.0                   0.0          0.0      0.24822  \n",
       "2                 0.0                   0.0          0.0      0.24536  \n",
       "3                 0.0                   0.0          0.0      0.32486  \n",
       "4                 0.0                   0.0          0.0      0.31262  \n",
       "\n",
       "[5 rows x 35 columns]"
      ]
     },
     "execution_count": 71,
     "metadata": {},
     "output_type": "execute_result"
    }
   ],
   "source": [
    "lm22 = pd.read_csv('../summary_data/cell_types/CombinedLM22.tsv', sep = '\\t')\n",
    "lm22.head()"
   ]
  },
  {
   "cell_type": "code",
   "execution_count": 72,
   "metadata": {},
   "outputs": [],
   "source": [
    "X = lm22[['T_cells', 'Macrophages','B_cells','Plasma_cells','NK_cells','Monocytes','Eosinophils','Neutrophils']]\n",
    "y = lm22['Survivor']"
   ]
  },
  {
   "cell_type": "code",
   "execution_count": 138,
   "metadata": {},
   "outputs": [
    {
     "data": {
      "text/html": [
       "<div>\n",
       "<style scoped>\n",
       "    .dataframe tbody tr th:only-of-type {\n",
       "        vertical-align: middle;\n",
       "    }\n",
       "\n",
       "    .dataframe tbody tr th {\n",
       "        vertical-align: top;\n",
       "    }\n",
       "\n",
       "    .dataframe thead th {\n",
       "        text-align: right;\n",
       "    }\n",
       "</style>\n",
       "<table border=\"1\" class=\"dataframe\">\n",
       "  <thead>\n",
       "    <tr style=\"text-align: right;\">\n",
       "      <th></th>\n",
       "      <th>ID</th>\n",
       "      <th>survivor</th>\n",
       "      <th>DEFA4</th>\n",
       "      <th>CD163</th>\n",
       "      <th>PER1</th>\n",
       "      <th>RGS1</th>\n",
       "      <th>HIF1A</th>\n",
       "      <th>SEPP1</th>\n",
       "      <th>C11orf74</th>\n",
       "      <th>CIT</th>\n",
       "      <th>...</th>\n",
       "      <th>CST3</th>\n",
       "      <th>CBFA2T3</th>\n",
       "      <th>RCBTB2</th>\n",
       "      <th>CX3CR1</th>\n",
       "      <th>CD5</th>\n",
       "      <th>MTMR11</th>\n",
       "      <th>CLEC10A</th>\n",
       "      <th>EMR3</th>\n",
       "      <th>DHRS7B</th>\n",
       "      <th>CEACAM8</th>\n",
       "    </tr>\n",
       "  </thead>\n",
       "  <tbody>\n",
       "    <tr>\n",
       "      <th>0</th>\n",
       "      <td>d25</td>\n",
       "      <td>0</td>\n",
       "      <td>3.440555</td>\n",
       "      <td>113.225523</td>\n",
       "      <td>130.115518</td>\n",
       "      <td>none</td>\n",
       "      <td>20.643327</td>\n",
       "      <td>0.000000</td>\n",
       "      <td>none</td>\n",
       "      <td>none</td>\n",
       "      <td>...</td>\n",
       "      <td>887.037523</td>\n",
       "      <td>65.683314</td>\n",
       "      <td>19.704994</td>\n",
       "      <td>46.291098</td>\n",
       "      <td>16.264440</td>\n",
       "      <td>9.070553</td>\n",
       "      <td>9.696108</td>\n",
       "      <td>67.247203</td>\n",
       "      <td>21.581660</td>\n",
       "      <td>5.004443</td>\n",
       "    </tr>\n",
       "    <tr>\n",
       "      <th>1</th>\n",
       "      <td>d29</td>\n",
       "      <td>0</td>\n",
       "      <td>0.380961</td>\n",
       "      <td>142.670064</td>\n",
       "      <td>8.762113</td>\n",
       "      <td>none</td>\n",
       "      <td>11.809805</td>\n",
       "      <td>0.000000</td>\n",
       "      <td>none</td>\n",
       "      <td>none</td>\n",
       "      <td>...</td>\n",
       "      <td>156.765637</td>\n",
       "      <td>48.191624</td>\n",
       "      <td>21.714803</td>\n",
       "      <td>9.143075</td>\n",
       "      <td>4.381057</td>\n",
       "      <td>4.000095</td>\n",
       "      <td>2.857211</td>\n",
       "      <td>43.239125</td>\n",
       "      <td>21.714803</td>\n",
       "      <td>1.142884</td>\n",
       "    </tr>\n",
       "    <tr>\n",
       "      <th>2</th>\n",
       "      <td>d37</td>\n",
       "      <td>0</td>\n",
       "      <td>5.212292</td>\n",
       "      <td>14.452264</td>\n",
       "      <td>13.978419</td>\n",
       "      <td>none</td>\n",
       "      <td>13.978419</td>\n",
       "      <td>0.000000</td>\n",
       "      <td>none</td>\n",
       "      <td>none</td>\n",
       "      <td>...</td>\n",
       "      <td>638.505759</td>\n",
       "      <td>175.796391</td>\n",
       "      <td>32.932208</td>\n",
       "      <td>97.375090</td>\n",
       "      <td>45.962938</td>\n",
       "      <td>7.581516</td>\n",
       "      <td>1.421534</td>\n",
       "      <td>35.301432</td>\n",
       "      <td>18.479944</td>\n",
       "      <td>2.132301</td>\n",
       "    </tr>\n",
       "    <tr>\n",
       "      <th>3</th>\n",
       "      <td>d38</td>\n",
       "      <td>0</td>\n",
       "      <td>2.883359</td>\n",
       "      <td>430.682828</td>\n",
       "      <td>59.640011</td>\n",
       "      <td>none</td>\n",
       "      <td>30.351151</td>\n",
       "      <td>0.303512</td>\n",
       "      <td>none</td>\n",
       "      <td>none</td>\n",
       "      <td>...</td>\n",
       "      <td>679.258752</td>\n",
       "      <td>21.852828</td>\n",
       "      <td>20.638782</td>\n",
       "      <td>16.844889</td>\n",
       "      <td>2.428092</td>\n",
       "      <td>2.883359</td>\n",
       "      <td>3.035115</td>\n",
       "      <td>38.849473</td>\n",
       "      <td>16.996644</td>\n",
       "      <td>7.436032</td>\n",
       "    </tr>\n",
       "    <tr>\n",
       "      <th>4</th>\n",
       "      <td>d39</td>\n",
       "      <td>0</td>\n",
       "      <td>106.078034</td>\n",
       "      <td>131.707626</td>\n",
       "      <td>41.054810</td>\n",
       "      <td>none</td>\n",
       "      <td>18.984883</td>\n",
       "      <td>0.474622</td>\n",
       "      <td>none</td>\n",
       "      <td>none</td>\n",
       "      <td>...</td>\n",
       "      <td>997.418293</td>\n",
       "      <td>85.431974</td>\n",
       "      <td>37.020522</td>\n",
       "      <td>43.902542</td>\n",
       "      <td>25.154970</td>\n",
       "      <td>25.629592</td>\n",
       "      <td>24.443037</td>\n",
       "      <td>82.346930</td>\n",
       "      <td>38.681699</td>\n",
       "      <td>10.678997</td>\n",
       "    </tr>\n",
       "  </tbody>\n",
       "</table>\n",
       "<p>5 rows × 60 columns</p>\n",
       "</div>"
      ],
      "text/plain": [
       "    ID  survivor       DEFA4       CD163        PER1  RGS1      HIF1A  \\\n",
       "0  d25         0    3.440555  113.225523  130.115518  none  20.643327   \n",
       "1  d29         0    0.380961  142.670064    8.762113  none  11.809805   \n",
       "2  d37         0    5.212292   14.452264   13.978419  none  13.978419   \n",
       "3  d38         0    2.883359  430.682828   59.640011  none  30.351151   \n",
       "4  d39         0  106.078034  131.707626   41.054810  none  18.984883   \n",
       "\n",
       "      SEPP1 C11orf74   CIT  ...        CST3     CBFA2T3     RCBTB2     CX3CR1  \\\n",
       "0  0.000000     none  none  ...  887.037523   65.683314  19.704994  46.291098   \n",
       "1  0.000000     none  none  ...  156.765637   48.191624  21.714803   9.143075   \n",
       "2  0.000000     none  none  ...  638.505759  175.796391  32.932208  97.375090   \n",
       "3  0.303512     none  none  ...  679.258752   21.852828  20.638782  16.844889   \n",
       "4  0.474622     none  none  ...  997.418293   85.431974  37.020522  43.902542   \n",
       "\n",
       "         CD5     MTMR11    CLEC10A       EMR3     DHRS7B    CEACAM8  \n",
       "0  16.264440   9.070553   9.696108  67.247203  21.581660   5.004443  \n",
       "1   4.381057   4.000095   2.857211  43.239125  21.714803   1.142884  \n",
       "2  45.962938   7.581516   1.421534  35.301432  18.479944   2.132301  \n",
       "3   2.428092   2.883359   3.035115  38.849473  16.996644   7.436032  \n",
       "4  25.154970  25.629592  24.443037  82.346930  38.681699  10.678997  \n",
       "\n",
       "[5 rows x 60 columns]"
      ]
     },
     "execution_count": 138,
     "metadata": {},
     "output_type": "execute_result"
    }
   ],
   "source": [
    "gene_symb = pd.read_csv('../summary_data/expression_data/symb_gse63042.tsv', sep = '\\t', encoding=\"ISO-8859-1\")\n",
    "gene_symb.head()"
   ]
  },
  {
   "cell_type": "code",
   "execution_count": 139,
   "metadata": {},
   "outputs": [],
   "source": [
    "X = gene_symb[['DEFA4','CD163','PER1','HIF1A','SEPP1','CFD','DDIT4','IFI27','IL1R2',\n",
    "                'MAFF','OCLN','B4GALT4','BPI','CD24','CEP55','CTSG',\n",
    "               'G0S2','MPO','MT1G','PAM','PSMA6','TRIB1','CKS2','MKI67','POLD3','PLK1','LY86','TST','KCNJ2','AIM2','APH1A','CCR2','EIF5A',\n",
    "               'GSTM1','HIST1H3H','NT5E','RAB40B','VNN3','ABCB4','CTSS','IKZF2','TGFBI','CST3','CBFA2T3','RCBTB2','CX3CR1','CD5','MTMR11','CLEC10A',\n",
    "                'EMR3','DHRS7B','CEACAM8']]\n",
    "y = gene_symb['survivor']"
   ]
  },
  {
   "cell_type": "code",
   "execution_count": 148,
   "metadata": {},
   "outputs": [],
   "source": [
    "X_train,X_test, y_train,y_test = train_test_split(X,y,test_size=0.5,random_state=0)\n"
   ]
  },
  {
   "cell_type": "code",
   "execution_count": 149,
   "metadata": {},
   "outputs": [
    {
     "name": "stderr",
     "output_type": "stream",
     "text": [
      "//anaconda3/lib/python3.7/site-packages/sklearn/linear_model/logistic.py:432: FutureWarning: Default solver will be changed to 'lbfgs' in 0.22. Specify a solver to silence this warning.\n",
      "  FutureWarning)\n"
     ]
    }
   ],
   "source": [
    "logistic_regression= LogisticRegression()\n",
    "logistic_regression.fit(X_train,y_train)\n",
    "\n",
    "y_pred=logistic_regression.predict(X_test)"
   ]
  },
  {
   "cell_type": "code",
   "execution_count": 150,
   "metadata": {},
   "outputs": [
    {
     "data": {
      "text/plain": [
       "array([[ 0.16470141, -0.07635186, -0.05162572,  0.36133278,  0.0414342 ,\n",
       "         0.00666473,  0.17519215,  0.01042572,  0.08380574, -0.29954092,\n",
       "        -0.1940042 , -0.00348054,  0.02109233,  0.00795279,  0.02409684,\n",
       "        -0.21259684, -0.12436681,  0.03383803, -0.01318742,  0.05453279,\n",
       "         0.09113002, -0.28667184, -0.02049744,  0.07195575,  0.00192859,\n",
       "         0.00456477, -0.05145646, -0.10969983,  0.08513884,  0.06645383,\n",
       "        -0.349111  ,  0.01313439,  0.07770527,  0.04211393, -0.15967424,\n",
       "        -0.03759579, -0.00216918,  0.05278069, -0.01962552, -0.03847233,\n",
       "        -0.01416263,  0.16291741,  0.0032209 , -0.27638376, -0.08533428,\n",
       "         0.13341078, -0.11782831, -0.06138748,  0.06225114, -0.01016757,\n",
       "         0.00884328, -0.08231781]])"
      ]
     },
     "execution_count": 150,
     "metadata": {},
     "output_type": "execute_result"
    }
   ],
   "source": [
    "logistic_regression.coef_"
   ]
  },
  {
   "cell_type": "code",
   "execution_count": 151,
   "metadata": {},
   "outputs": [
    {
     "data": {
      "text/plain": [
       "array([-0.04784919])"
      ]
     },
     "execution_count": 151,
     "metadata": {},
     "output_type": "execute_result"
    }
   ],
   "source": [
    "logistic_regression.intercept_"
   ]
  },
  {
   "cell_type": "code",
   "execution_count": 152,
   "metadata": {},
   "outputs": [
    {
     "name": "stdout",
     "output_type": "stream",
     "text": [
      "              precision    recall  f1-score   support\n",
      "\n",
      "           0       0.75      0.87      0.81        46\n",
      "           1       0.45      0.28      0.34        18\n",
      "\n",
      "    accuracy                           0.70        64\n",
      "   macro avg       0.60      0.57      0.58        64\n",
      "weighted avg       0.67      0.70      0.68        64\n",
      "\n"
     ]
    }
   ],
   "source": [
    "print(classification_report(y_test, y_pred))"
   ]
  },
  {
   "cell_type": "code",
   "execution_count": 153,
   "metadata": {},
   "outputs": [
    {
     "data": {
      "text/plain": [
       "<matplotlib.axes._subplots.AxesSubplot at 0x1a2c05af28>"
      ]
     },
     "execution_count": 153,
     "metadata": {},
     "output_type": "execute_result"
    },
    {
     "data": {
      "image/png": "[encoded data removed]",
      "text/plain": [
       "<Figure size 432x288 with 2 Axes>"
      ]
     },
     "metadata": {
      "needs_background": "light"
     },
     "output_type": "display_data"
    }
   ],
   "source": [
    "confusion_matrix = pd.crosstab(y_test, y_pred, rownames=['Actual'], colnames=['Predicted'])\n",
    "sns.heatmap(confusion_matrix, annot=True)"
   ]
  },
  {
   "cell_type": "code",
   "execution_count": 154,
   "metadata": {},
   "outputs": [
    {
     "data": {
      "image/png": "[encoded data removed]",
      "text/plain": [
       "<Figure size 432x288 with 1 Axes>"
      ]
     },
     "metadata": {
      "needs_background": "light"
     },
     "output_type": "display_data"
    }
   ],
   "source": [
    "from sklearn.metrics import roc_auc_score\n",
    "from sklearn.metrics import roc_curve\n",
    "logit_roc_auc = roc_auc_score(y_test, logistic_regression.predict(X_test))\n",
    "fpr, tpr, thresholds = roc_curve(y_test, logistic_regression.predict_proba(X_test)[:,1])\n",
    "plt.figure()\n",
    "plt.plot(fpr, tpr, label='Logistic Regression (area = %0.2f)' % logit_roc_auc)\n",
    "plt.plot([0, 1], [0, 1],'r--')\n",
    "plt.xlim([0.0, 1.0])\n",
    "plt.ylim([0.0, 1.05])\n",
    "plt.xlabel('False Positive Rate')\n",
    "plt.ylabel('True Positive Rate')\n",
    "plt.title('Receiver operating characteristic')\n",
    "plt.legend(loc=\"lower right\")\n",
    "#plt.savefig('Log_ROC')\n",
    "plt.show()"
   ]
  },
  {
   "cell_type": "code",
   "execution_count": 147,
   "metadata": {},
   "outputs": [
    {
     "name": "stdout",
     "output_type": "stream",
     "text": [
      "Accuracy:  0.625\n"
     ]
    }
   ],
   "source": [
    "print('Accuracy: ',metrics.accuracy_score(y_test, y_pred))\n",
    "plt.show()"
   ]
  },
  {
   "cell_type": "code",
   "execution_count": null,
   "metadata": {},
   "outputs": [],
   "source": []
  }
 ],
 "metadata": {
  "kernelspec": {
   "display_name": "Python 3",
   "language": "python",
   "name": "python3"
  },
  "language_info": {
   "codemirror_mode": {
    "name": "ipython",
    "version": 3
   },
   "file_extension": ".py",
   "mimetype": "text/x-python",
   "name": "python",
   "nbconvert_exporter": "python",
   "pygments_lexer": "ipython3",
   "version": "3.7.3"
  }
 },
 "nbformat": 4,
 "nbformat_minor": 4
}
