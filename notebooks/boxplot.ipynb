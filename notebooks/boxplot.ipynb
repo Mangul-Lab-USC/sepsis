{
 "cells": [
  {
   "cell_type": "code",
   "execution_count": 17,
   "metadata": {},
   "outputs": [],
   "source": [
    "import pandas as pd\n",
    "import seaborn as sns\n",
    "import matplotlib.pyplot as plt\n",
    "import scipy as scp\n",
    "import scipy.stats as stats\n",
    "import numpy as np"
   ]
  },
  {
   "cell_type": "code",
   "execution_count": 4,
   "metadata": {},
   "outputs": [
    {
     "data": {
      "text/html": [
       "<div>\n",
       "<style scoped>\n",
       "    .dataframe tbody tr th:only-of-type {\n",
       "        vertical-align: middle;\n",
       "    }\n",
       "\n",
       "    .dataframe tbody tr th {\n",
       "        vertical-align: top;\n",
       "    }\n",
       "\n",
       "    .dataframe thead th {\n",
       "        text-align: right;\n",
       "    }\n",
       "</style>\n",
       "<table border=\"1\" class=\"dataframe\">\n",
       "  <thead>\n",
       "    <tr style=\"text-align: right;\">\n",
       "      <th></th>\n",
       "      <th>accession</th>\n",
       "      <th>geo</th>\n",
       "      <th>type</th>\n",
       "      <th>Survivor</th>\n",
       "      <th>age</th>\n",
       "      <th>sex</th>\n",
       "      <th>score_type</th>\n",
       "      <th>severity_score</th>\n",
       "      <th>MSC</th>\n",
       "      <th>Fibroblasts</th>\n",
       "      <th>...</th>\n",
       "      <th>Monocytes_CD16.CD14.</th>\n",
       "      <th>Macrophage</th>\n",
       "      <th>M1.IFNg.</th>\n",
       "      <th>M2.IL.4.</th>\n",
       "      <th>M.IFNa.</th>\n",
       "      <th>T_cells_.CD4..</th>\n",
       "      <th>T_cells_.CD8..</th>\n",
       "      <th>T_cells_.gamma.delta.</th>\n",
       "      <th>NK_cells</th>\n",
       "      <th>Neutrophils</th>\n",
       "    </tr>\n",
       "  </thead>\n",
       "  <tbody>\n",
       "    <tr>\n",
       "      <th>0</th>\n",
       "      <td>E-MEXP-3567</td>\n",
       "      <td>X104</td>\n",
       "      <td>training</td>\n",
       "      <td>YES</td>\n",
       "      <td>0.5</td>\n",
       "      <td>M</td>\n",
       "      <td>NaN</td>\n",
       "      <td>NaN</td>\n",
       "      <td>0.0</td>\n",
       "      <td>0.0</td>\n",
       "      <td>...</td>\n",
       "      <td>0.0</td>\n",
       "      <td>0.00000</td>\n",
       "      <td>0.0</td>\n",
       "      <td>0.0</td>\n",
       "      <td>0.0</td>\n",
       "      <td>0.00143</td>\n",
       "      <td>0.20308</td>\n",
       "      <td>0.0</td>\n",
       "      <td>0.00000</td>\n",
       "      <td>0.34536</td>\n",
       "    </tr>\n",
       "    <tr>\n",
       "      <th>1</th>\n",
       "      <td>E-MEXP-3567</td>\n",
       "      <td>X105</td>\n",
       "      <td>training</td>\n",
       "      <td>YES</td>\n",
       "      <td>0.5</td>\n",
       "      <td>M</td>\n",
       "      <td>NaN</td>\n",
       "      <td>NaN</td>\n",
       "      <td>0.0</td>\n",
       "      <td>0.0</td>\n",
       "      <td>...</td>\n",
       "      <td>0.0</td>\n",
       "      <td>0.02971</td>\n",
       "      <td>0.0</td>\n",
       "      <td>0.0</td>\n",
       "      <td>0.0</td>\n",
       "      <td>0.08045</td>\n",
       "      <td>0.18755</td>\n",
       "      <td>0.0</td>\n",
       "      <td>0.00000</td>\n",
       "      <td>0.35102</td>\n",
       "    </tr>\n",
       "    <tr>\n",
       "      <th>2</th>\n",
       "      <td>E-MEXP-3567</td>\n",
       "      <td>X109</td>\n",
       "      <td>training</td>\n",
       "      <td>YES</td>\n",
       "      <td>0.5</td>\n",
       "      <td>F</td>\n",
       "      <td>NaN</td>\n",
       "      <td>NaN</td>\n",
       "      <td>0.0</td>\n",
       "      <td>0.0</td>\n",
       "      <td>...</td>\n",
       "      <td>0.0</td>\n",
       "      <td>0.03530</td>\n",
       "      <td>0.0</td>\n",
       "      <td>0.0</td>\n",
       "      <td>0.0</td>\n",
       "      <td>0.11913</td>\n",
       "      <td>0.20330</td>\n",
       "      <td>0.0</td>\n",
       "      <td>0.00000</td>\n",
       "      <td>0.32004</td>\n",
       "    </tr>\n",
       "    <tr>\n",
       "      <th>3</th>\n",
       "      <td>E-MEXP-3567</td>\n",
       "      <td>X115</td>\n",
       "      <td>training</td>\n",
       "      <td>NO</td>\n",
       "      <td>0.5</td>\n",
       "      <td>M</td>\n",
       "      <td>NaN</td>\n",
       "      <td>NaN</td>\n",
       "      <td>0.0</td>\n",
       "      <td>0.0</td>\n",
       "      <td>...</td>\n",
       "      <td>0.0</td>\n",
       "      <td>0.00000</td>\n",
       "      <td>0.0</td>\n",
       "      <td>0.0</td>\n",
       "      <td>0.0</td>\n",
       "      <td>0.07870</td>\n",
       "      <td>0.19933</td>\n",
       "      <td>0.0</td>\n",
       "      <td>0.00000</td>\n",
       "      <td>0.38310</td>\n",
       "    </tr>\n",
       "    <tr>\n",
       "      <th>4</th>\n",
       "      <td>E-MEXP-3567</td>\n",
       "      <td>X121</td>\n",
       "      <td>training</td>\n",
       "      <td>NO</td>\n",
       "      <td>0.5</td>\n",
       "      <td>F</td>\n",
       "      <td>NaN</td>\n",
       "      <td>NaN</td>\n",
       "      <td>0.0</td>\n",
       "      <td>0.0</td>\n",
       "      <td>...</td>\n",
       "      <td>0.0</td>\n",
       "      <td>0.04548</td>\n",
       "      <td>0.0</td>\n",
       "      <td>0.0</td>\n",
       "      <td>0.0</td>\n",
       "      <td>0.01437</td>\n",
       "      <td>0.17675</td>\n",
       "      <td>0.0</td>\n",
       "      <td>0.00284</td>\n",
       "      <td>0.42273</td>\n",
       "    </tr>\n",
       "  </tbody>\n",
       "</table>\n",
       "<p>5 rows × 26 columns</p>\n",
       "</div>"
      ],
      "text/plain": [
       "     accession   geo      type Survivor  age sex score_type  severity_score  \\\n",
       "0  E-MEXP-3567  X104  training      YES  0.5   M        NaN             NaN   \n",
       "1  E-MEXP-3567  X105  training      YES  0.5   M        NaN             NaN   \n",
       "2  E-MEXP-3567  X109  training      YES  0.5   F        NaN             NaN   \n",
       "3  E-MEXP-3567  X115  training       NO  0.5   M        NaN             NaN   \n",
       "4  E-MEXP-3567  X121  training       NO  0.5   F        NaN             NaN   \n",
       "\n",
       "   MSC  Fibroblasts  ...  Monocytes_CD16.CD14.  Macrophage  M1.IFNg.  \\\n",
       "0  0.0          0.0  ...                   0.0     0.00000       0.0   \n",
       "1  0.0          0.0  ...                   0.0     0.02971       0.0   \n",
       "2  0.0          0.0  ...                   0.0     0.03530       0.0   \n",
       "3  0.0          0.0  ...                   0.0     0.00000       0.0   \n",
       "4  0.0          0.0  ...                   0.0     0.04548       0.0   \n",
       "\n",
       "   M2.IL.4.  M.IFNa.  T_cells_.CD4..  T_cells_.CD8..  T_cells_.gamma.delta.  \\\n",
       "0       0.0      0.0         0.00143         0.20308                    0.0   \n",
       "1       0.0      0.0         0.08045         0.18755                    0.0   \n",
       "2       0.0      0.0         0.11913         0.20330                    0.0   \n",
       "3       0.0      0.0         0.07870         0.19933                    0.0   \n",
       "4       0.0      0.0         0.01437         0.17675                    0.0   \n",
       "\n",
       "   NK_cells  Neutrophils  \n",
       "0   0.00000      0.34536  \n",
       "1   0.00000      0.35102  \n",
       "2   0.00000      0.32004  \n",
       "3   0.00000      0.38310  \n",
       "4   0.00284      0.42273  \n",
       "\n",
       "[5 rows x 26 columns]"
      ]
     },
     "execution_count": 4,
     "metadata": {},
     "output_type": "execute_result"
    }
   ],
   "source": [
    "hpca = pd.read_csv('../summary_data/CombinedHPCA.tsv',sep='\\t')\n",
    "hpca.head()"
   ]
  },
  {
   "cell_type": "code",
   "execution_count": 54,
   "metadata": {},
   "outputs": [
    {
     "data": {
      "text/html": [
       "<div>\n",
       "<style scoped>\n",
       "    .dataframe tbody tr th:only-of-type {\n",
       "        vertical-align: middle;\n",
       "    }\n",
       "\n",
       "    .dataframe tbody tr th {\n",
       "        vertical-align: top;\n",
       "    }\n",
       "\n",
       "    .dataframe thead th {\n",
       "        text-align: right;\n",
       "    }\n",
       "</style>\n",
       "<table border=\"1\" class=\"dataframe\">\n",
       "  <thead>\n",
       "    <tr style=\"text-align: right;\">\n",
       "      <th></th>\n",
       "      <th>accession</th>\n",
       "      <th>geo</th>\n",
       "      <th>type</th>\n",
       "      <th>Survivor</th>\n",
       "      <th>age</th>\n",
       "      <th>sex</th>\n",
       "      <th>score_type</th>\n",
       "      <th>severity_score</th>\n",
       "      <th>B_cells_naive</th>\n",
       "      <th>B_cells_memory</th>\n",
       "      <th>...</th>\n",
       "      <th>Macrophages</th>\n",
       "      <th>Macrophages_M0</th>\n",
       "      <th>Macrophages_M1</th>\n",
       "      <th>Macrophages_M2</th>\n",
       "      <th>Dendritic_cells_resting</th>\n",
       "      <th>Dendritic_cells_activated</th>\n",
       "      <th>Mast_cells_resting</th>\n",
       "      <th>Mast_cells_activated</th>\n",
       "      <th>Eosinophils</th>\n",
       "      <th>Neutrophils</th>\n",
       "    </tr>\n",
       "  </thead>\n",
       "  <tbody>\n",
       "    <tr>\n",
       "      <th>0</th>\n",
       "      <td>E-MEXP-3567</td>\n",
       "      <td>X104</td>\n",
       "      <td>training</td>\n",
       "      <td>YES</td>\n",
       "      <td>0.5</td>\n",
       "      <td>M</td>\n",
       "      <td>NaN</td>\n",
       "      <td>NaN</td>\n",
       "      <td>0.06322</td>\n",
       "      <td>0.06782</td>\n",
       "      <td>...</td>\n",
       "      <td>0.10335</td>\n",
       "      <td>0.09282</td>\n",
       "      <td>0.0</td>\n",
       "      <td>0.01053</td>\n",
       "      <td>0.0</td>\n",
       "      <td>0.0</td>\n",
       "      <td>0.0</td>\n",
       "      <td>0.0</td>\n",
       "      <td>0.0</td>\n",
       "      <td>0.31637</td>\n",
       "    </tr>\n",
       "    <tr>\n",
       "      <th>1</th>\n",
       "      <td>E-MEXP-3567</td>\n",
       "      <td>X105</td>\n",
       "      <td>training</td>\n",
       "      <td>YES</td>\n",
       "      <td>0.5</td>\n",
       "      <td>M</td>\n",
       "      <td>NaN</td>\n",
       "      <td>NaN</td>\n",
       "      <td>0.08319</td>\n",
       "      <td>0.07091</td>\n",
       "      <td>...</td>\n",
       "      <td>0.25630</td>\n",
       "      <td>0.25630</td>\n",
       "      <td>0.0</td>\n",
       "      <td>0.00000</td>\n",
       "      <td>0.0</td>\n",
       "      <td>0.0</td>\n",
       "      <td>0.0</td>\n",
       "      <td>0.0</td>\n",
       "      <td>0.0</td>\n",
       "      <td>0.24822</td>\n",
       "    </tr>\n",
       "    <tr>\n",
       "      <th>2</th>\n",
       "      <td>E-MEXP-3567</td>\n",
       "      <td>X109</td>\n",
       "      <td>training</td>\n",
       "      <td>YES</td>\n",
       "      <td>0.5</td>\n",
       "      <td>F</td>\n",
       "      <td>NaN</td>\n",
       "      <td>NaN</td>\n",
       "      <td>0.08426</td>\n",
       "      <td>0.04698</td>\n",
       "      <td>...</td>\n",
       "      <td>0.21885</td>\n",
       "      <td>0.21885</td>\n",
       "      <td>0.0</td>\n",
       "      <td>0.00000</td>\n",
       "      <td>0.0</td>\n",
       "      <td>0.0</td>\n",
       "      <td>0.0</td>\n",
       "      <td>0.0</td>\n",
       "      <td>0.0</td>\n",
       "      <td>0.24536</td>\n",
       "    </tr>\n",
       "    <tr>\n",
       "      <th>3</th>\n",
       "      <td>E-MEXP-3567</td>\n",
       "      <td>X115</td>\n",
       "      <td>training</td>\n",
       "      <td>NO</td>\n",
       "      <td>0.5</td>\n",
       "      <td>M</td>\n",
       "      <td>NaN</td>\n",
       "      <td>NaN</td>\n",
       "      <td>0.06117</td>\n",
       "      <td>0.09404</td>\n",
       "      <td>...</td>\n",
       "      <td>0.11886</td>\n",
       "      <td>0.11886</td>\n",
       "      <td>0.0</td>\n",
       "      <td>0.00000</td>\n",
       "      <td>0.0</td>\n",
       "      <td>0.0</td>\n",
       "      <td>0.0</td>\n",
       "      <td>0.0</td>\n",
       "      <td>0.0</td>\n",
       "      <td>0.32486</td>\n",
       "    </tr>\n",
       "    <tr>\n",
       "      <th>4</th>\n",
       "      <td>E-MEXP-3567</td>\n",
       "      <td>X121</td>\n",
       "      <td>training</td>\n",
       "      <td>NO</td>\n",
       "      <td>0.5</td>\n",
       "      <td>F</td>\n",
       "      <td>NaN</td>\n",
       "      <td>NaN</td>\n",
       "      <td>0.05966</td>\n",
       "      <td>0.01237</td>\n",
       "      <td>...</td>\n",
       "      <td>0.27913</td>\n",
       "      <td>0.27913</td>\n",
       "      <td>0.0</td>\n",
       "      <td>0.00000</td>\n",
       "      <td>0.0</td>\n",
       "      <td>0.0</td>\n",
       "      <td>0.0</td>\n",
       "      <td>0.0</td>\n",
       "      <td>0.0</td>\n",
       "      <td>0.31262</td>\n",
       "    </tr>\n",
       "  </tbody>\n",
       "</table>\n",
       "<p>5 rows × 33 columns</p>\n",
       "</div>"
      ],
      "text/plain": [
       "     accession   geo      type Survivor  age sex score_type  severity_score  \\\n",
       "0  E-MEXP-3567  X104  training      YES  0.5   M        NaN             NaN   \n",
       "1  E-MEXP-3567  X105  training      YES  0.5   M        NaN             NaN   \n",
       "2  E-MEXP-3567  X109  training      YES  0.5   F        NaN             NaN   \n",
       "3  E-MEXP-3567  X115  training       NO  0.5   M        NaN             NaN   \n",
       "4  E-MEXP-3567  X121  training       NO  0.5   F        NaN             NaN   \n",
       "\n",
       "   B_cells_naive  B_cells_memory  ...  Macrophages  Macrophages_M0  \\\n",
       "0        0.06322         0.06782  ...      0.10335         0.09282   \n",
       "1        0.08319         0.07091  ...      0.25630         0.25630   \n",
       "2        0.08426         0.04698  ...      0.21885         0.21885   \n",
       "3        0.06117         0.09404  ...      0.11886         0.11886   \n",
       "4        0.05966         0.01237  ...      0.27913         0.27913   \n",
       "\n",
       "   Macrophages_M1  Macrophages_M2  Dendritic_cells_resting  \\\n",
       "0             0.0         0.01053                      0.0   \n",
       "1             0.0         0.00000                      0.0   \n",
       "2             0.0         0.00000                      0.0   \n",
       "3             0.0         0.00000                      0.0   \n",
       "4             0.0         0.00000                      0.0   \n",
       "\n",
       "   Dendritic_cells_activated  Mast_cells_resting  Mast_cells_activated  \\\n",
       "0                        0.0                 0.0                   0.0   \n",
       "1                        0.0                 0.0                   0.0   \n",
       "2                        0.0                 0.0                   0.0   \n",
       "3                        0.0                 0.0                   0.0   \n",
       "4                        0.0                 0.0                   0.0   \n",
       "\n",
       "   Eosinophils  Neutrophils  \n",
       "0          0.0      0.31637  \n",
       "1          0.0      0.24822  \n",
       "2          0.0      0.24536  \n",
       "3          0.0      0.32486  \n",
       "4          0.0      0.31262  \n",
       "\n",
       "[5 rows x 33 columns]"
      ]
     },
     "execution_count": 54,
     "metadata": {},
     "output_type": "execute_result"
    }
   ],
   "source": [
    "lm22 = pd.read_csv('../summary_data/CombinedLM22.tsv',sep='\\t')\n",
    "lm22.head()"
   ]
  },
  {
   "cell_type": "code",
   "execution_count": 40,
   "metadata": {},
   "outputs": [],
   "source": [
    "def my_star(p_value):\n",
    "    if p_value <= 0.001:\n",
    "        return '***'\n",
    "    elif p_value <= 0.01:\n",
    "        return '**'\n",
    "    elif p_value <= 0.05:\n",
    "        return '*'\n",
    "    else:\n",
    "        return \"None\""
   ]
  },
  {
   "cell_type": "code",
   "execution_count": 42,
   "metadata": {},
   "outputs": [
    {
     "data": {
      "text/plain": [
       "Text(0, 0.5, 'Age')"
      ]
     },
     "execution_count": 42,
     "metadata": {},
     "output_type": "execute_result"
    },
    {
     "data": {
      "image/png": "[encoded data removed]",
      "text/plain": [
       "<Figure size 576x576 with 1 Axes>"
      ]
     },
     "metadata": {},
     "output_type": "display_data"
    }
   ],
   "source": [
    "plt.figure(figsize=(8,8))\n",
    "sns.set_style('white')\n",
    "sns.set_context('talk')\n",
    "age = sns.boxplot(x=\"Survivor\", y=\"age\", data=lm22,\n",
    "           order=[\"YES\", \"NO\"])\n",
    "x1, x2 = 0, 1\n",
    "y, h, col = lm22['age'].max() + 4, 2, 'k'\n",
    "plt.plot([x1, x1, x2, x2], [y, y+h, y+h, y], lw=1.5, c=col)\n",
    "p_value = stats.mannwhitneyu(lm22[(lm22.Survivor=='YES')].age.tolist(),\n",
    "                         lm22[(lm22.Survivor=='NO')].age.tolist())\n",
    "plt.text((x1+x2)*.5, y+h, my_star(p_value[1]), ha='center', va='bottom', color=col, fontsize=20)\n",
    "#plt.yscale('log')\n",
    "age.set_xticklabels(['Survived','Died'])\n",
    "plt.xlabel(\"\")\n",
    "plt.ylabel(\"Age\", fontsize=20)\n",
    "#plt.savefig('../figures/age.png', bbox_inches='tight', pad_inches=.5)"
   ]
  },
  {
   "cell_type": "code",
   "execution_count": 86,
   "metadata": {},
   "outputs": [
    {
     "name": "stdout",
     "output_type": "stream",
     "text": [
      "2.0153724447127467e-06\n"
     ]
    },
    {
     "data": {
      "text/plain": [
       "Text(0, 0.5, 'Severity score')"
      ]
     },
     "execution_count": 86,
     "metadata": {},
     "output_type": "execute_result"
    },
    {
     "data": {
      "image/png": "[encoded data removed]",
      "text/plain": [
       "<Figure size 576x576 with 1 Axes>"
      ]
     },
     "metadata": {},
     "output_type": "display_data"
    }
   ],
   "source": [
    "plt.figure(figsize=(8,8))\n",
    "sns.set_style('white')\n",
    "sns.set_context('talk')\n",
    "age = sns.boxplot(x=\"Survivor\", y=\"severity_score\", data=lm22,\n",
    "           order=[\"YES\", \"NO\"])\n",
    "x1, x2 = 0, 1\n",
    "y, h, col = lm22['severity_score'].max() + 4, 2, 'k'\n",
    "plt.plot([x1, x1, x2, x2], [y, y+h, y+h, y], lw=1.5, c=col)\n",
    "p_value = stats.mannwhitneyu(lm22[(lm22.Survivor=='YES')].severity_score.tolist(),\n",
    "                         lm22[(lm22.Survivor=='NO')].severity_score.tolist())\n",
    "print(p_value[1])\n",
    "plt.text((x1+x2)*.5, y+h, my_star(p_value[1]), ha='center', va='bottom', color=col, fontsize=20)\n",
    "#plt.yscale('log')\n",
    "age.set_xticklabels(['Survived','Died'])\n",
    "plt.xlabel(\"\")\n",
    "plt.ylabel(\"Severity score\", fontsize=20)"
   ]
  },
  {
   "cell_type": "code",
   "execution_count": 84,
   "metadata": {},
   "outputs": [
    {
     "name": "stdout",
     "output_type": "stream",
     "text": [
      "0.013561767364305564\n"
     ]
    },
    {
     "data": {
      "text/plain": [
       "Text(0, 0.5, 'T cells')"
      ]
     },
     "execution_count": 84,
     "metadata": {},
     "output_type": "execute_result"
    },
    {
     "data": {
      "image/png": "[encoded data removed]",
      "text/plain": [
       "<Figure size 576x576 with 1 Axes>"
      ]
     },
     "metadata": {},
     "output_type": "display_data"
    }
   ],
   "source": [
    "plt.figure(figsize=(8,8))\n",
    "sns.set_style('white')\n",
    "sns.set_context('talk')\n",
    "age = sns.boxplot(x=\"Survivor\", y=\"T_cells\", data=lm22,\n",
    "           order=[\"YES\", \"NO\"])\n",
    "\n",
    "p_value = stats.mannwhitneyu(lm22[(lm22.Survivor=='YES')].T_cells.tolist(),\n",
    "                         lm22[(lm22.Survivor=='NO')].T_cells.tolist())\n",
    "x1, x2 = 0, 1\n",
    "y, h, col = lm22['T_cells'].max() + .05, .01, 'k'\n",
    "plt.plot([x1, x1, x2, x2], [y, y+h, y+h, y], lw=1.5, c=col)\n",
    "print(p_value[1])\n",
    "plt.text((x1+x2)*.5, y+h, my_star(p_value[1]), ha='center', va='bottom', color=col, fontsize=20)\n",
    "#plt.yscale('log')\n",
    "age.set_xticklabels(['Survived','Died'])\n",
    "plt.xlabel(\"\")\n",
    "plt.ylabel(\"T cells\", fontsize=20)"
   ]
  },
  {
   "cell_type": "code",
   "execution_count": 90,
   "metadata": {},
   "outputs": [
    {
     "name": "stdout",
     "output_type": "stream",
     "text": [
      "0.0014016148190940181\n"
     ]
    },
    {
     "data": {
      "text/plain": [
       "Text(0, 0.5, 'T cells (CD4+)')"
      ]
     },
     "execution_count": 90,
     "metadata": {},
     "output_type": "execute_result"
    },
    {
     "data": {
      "image/png": "[encoded data removed]",
      "text/plain": [
       "<Figure size 576x576 with 1 Axes>"
      ]
     },
     "metadata": {},
     "output_type": "display_data"
    }
   ],
   "source": [
    "plt.figure(figsize=(8,8))\n",
    "sns.set_style('white')\n",
    "sns.set_context('talk')\n",
    "age = sns.boxplot(x=\"Survivor\", y=\"T_cells_CD4\", data=lm22,\n",
    "           order=[\"YES\", \"NO\"])\n",
    "x1, x2 = 0, 1\n",
    "y, h, col = lm22['T_cells_CD4'].max() + .01, .01, 'k'\n",
    "plt.plot([x1, x1, x2, x2], [y, y+h, y+h, y], lw=1.5, c=col)\n",
    "p_value = stats.mannwhitneyu(lm22[(lm22.Survivor=='YES')].T_cells_CD4.tolist(),\n",
    "                         lm22[(lm22.Survivor=='NO')].T_cells_CD4.tolist())\n",
    "print(p_value[1])\n",
    "plt.text((x1+x2)*.5, y+h, my_star(p_value[1]), ha='center', va='bottom', color=col, fontsize=20)\n",
    "#plt.yscale('log')\n",
    "age.set_xticklabels(['Survived','Died'])\n",
    "plt.xlabel(\"\")\n",
    "plt.ylabel(\"T cells (CD4+)\", fontsize=20)"
   ]
  },
  {
   "cell_type": "code",
   "execution_count": 92,
   "metadata": {},
   "outputs": [
    {
     "name": "stdout",
     "output_type": "stream",
     "text": [
      "0.00030685989213471564\n"
     ]
    },
    {
     "data": {
      "text/plain": [
       "Text(0, 0.5, 'Macrophages')"
      ]
     },
     "execution_count": 92,
     "metadata": {},
     "output_type": "execute_result"
    },
    {
     "data": {
      "image/png": "[encoded data removed]",
      "text/plain": [
       "<Figure size 576x576 with 1 Axes>"
      ]
     },
     "metadata": {},
     "output_type": "display_data"
    }
   ],
   "source": [
    "plt.figure(figsize=(8,8))\n",
    "sns.set_style('white')\n",
    "sns.set_context('talk')\n",
    "age = sns.boxplot(x=\"Survivor\", y=\"Macrophages\", data=lm22,\n",
    "           order=[\"YES\", \"NO\"])\n",
    "x1, x2 = 0, 1\n",
    "y, h, col = lm22['Macrophages'].max() + .01, .01, 'k'\n",
    "plt.plot([x1, x1, x2, x2], [y, y+h, y+h, y], lw=1.5, c=col)\n",
    "p_value = stats.mannwhitneyu(lm22[(lm22.Survivor=='YES')].Macrophages.tolist(),\n",
    "                         lm22[(lm22.Survivor=='NO')].Macrophages.tolist())\n",
    "print(p_value[1])\n",
    "plt.text((x1+x2)*.5, y+h, my_star(p_value[1]), ha='center', va='bottom', color=col, fontsize=20)\n",
    "#plt.yscale('log')\n",
    "age.set_xticklabels(['Survived','Died'])\n",
    "plt.xlabel(\"\")\n",
    "plt.ylabel(\"Macrophages\", fontsize=20)"
   ]
  },
  {
   "cell_type": "code",
   "execution_count": null,
   "metadata": {},
   "outputs": [],
   "source": []
  }
 ],
 "metadata": {
  "kernelspec": {
   "display_name": "Python 3",
   "language": "python",
   "name": "python3"
  },
  "language_info": {
   "codemirror_mode": {
    "name": "ipython",
    "version": 3
   },
   "file_extension": ".py",
   "mimetype": "text/x-python",
   "name": "python",
   "nbconvert_exporter": "python",
   "pygments_lexer": "ipython3",
   "version": "3.7.3"
  }
 },
 "nbformat": 4,
 "nbformat_minor": 4
}
